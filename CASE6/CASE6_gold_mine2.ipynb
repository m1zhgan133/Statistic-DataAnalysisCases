{
  "nbformat": 4,
  "nbformat_minor": 0,
  "metadata": {
    "colab": {
      "provenance": [],
      "collapsed_sections": [
        "f0RxwR-fMHPC",
        "f18yQgdOMQwj",
        "NdYFA83ls7g0"
      ]
    },
    "kernelspec": {
      "name": "python3",
      "display_name": "Python 3"
    },
    "language_info": {
      "name": "python"
    }
  },
  "cells": [
    {
      "cell_type": "markdown",
      "source": [
        "##Функции"
      ],
      "metadata": {
        "id": "6UG4D66gEZky"
      }
    },
    {
      "cell_type": "markdown",
      "source": [
        "####мощность одновыборочного правостороннего теста"
      ],
      "metadata": {
        "id": "X1GTES5jMe0h"
      }
    },
    {
      "cell_type": "code",
      "source": [
        "def zpower_1sample_data_monte_carlo(mu0,\n",
        "                                    mu,\n",
        "                                    sigma,\n",
        "                                    sample_size,\n",
        "                                    n_monte_carlo,\n",
        "                                    significance_level = 0.05):\n",
        "\n",
        "    rejections = 0\n",
        "\n",
        "    for _ in range(n_monte_carlo):\n",
        "        sample = sps.norm.rvs(loc=mu, scale=sigma, size=sample_size)\n",
        "        test_stat, pvalue = ztest_1sample(pop_mean  = mu0,\n",
        "                                          sample_mean = sample.mean(),\n",
        "                                          sample_std=sample.std(),\n",
        "                                          sample_size = len(sample),\n",
        "                                          alternative = 'greater')\n",
        "\n",
        "        if pvalue < significance_level:\n",
        "            rejections += 1\n",
        "\n",
        "    return rejections / n_monte_carlo"
      ],
      "metadata": {
        "id": "TqzzomC4a8Lp"
      },
      "execution_count": 4,
      "outputs": []
    },
    {
      "cell_type": "markdown",
      "source": [
        "####z тест для одного сэмпла"
      ],
      "metadata": {
        "id": "f0RxwR-fMHPC"
      }
    },
    {
      "cell_type": "code",
      "source": [
        "#Z test one sample\n",
        "def ztest_1sample(pop_mean,\n",
        "                  sample_mean,\n",
        "                  sample_std,\n",
        "                  sample_size,\n",
        "                  alternative='two-sided'):\n",
        "\n",
        "    statistic = (sample_mean - pop_mean)/(sample_std / sample_size**0.5)\n",
        "\n",
        "    if alternative == 'less':\n",
        "        pvalue = sps.norm.cdf(statistic)\n",
        "\n",
        "    if alternative == 'greater':\n",
        "        pvalue = 1 - sps.norm.cdf(statistic)\n",
        "\n",
        "    if alternative == 'two-sided':\n",
        "        pvalue = 2 * (1 - sps.norm.cdf(abs(statistic)))\n",
        "    return statistic, pvalue\n",
        "\n",
        "\n",
        "\n",
        "def ztest_1sample_data(pop_mean, sample, alternative='two-sided'):\n",
        "    return ztest_1sample(pop_mean, sample_mean = sample.mean(),\n",
        "                         sample_std = sample.std(),\n",
        "                         sample_size = len(sample),\n",
        "                         alternative = alternative)"
      ],
      "metadata": {
        "id": "oKE-o4ZtM9Zo"
      },
      "execution_count": 5,
      "outputs": []
    },
    {
      "cell_type": "markdown",
      "source": [
        "####z тест для дыух сэмплов"
      ],
      "metadata": {
        "id": "f18yQgdOMQwj"
      }
    },
    {
      "cell_type": "code",
      "source": [
        "# z test two sample\n",
        "def ztest_2sample(sample1_mean,\n",
        "                  sample2_mean,\n",
        "                  sample1_std,\n",
        "                  sample2_std,\n",
        "                  sample1_size,\n",
        "                  sample2_size,\n",
        "                  alternative='two-sided'):\n",
        "\n",
        "    statistic = (sample1_mean - sample2_mean) / (sample1_std ** 2 / sample1_size + sample2_std ** 2 / sample2_size) ** 0.5\n",
        "\n",
        "    if alternative == 'less':\n",
        "        pvalue = sps.norm.cdf(statistic)\n",
        "\n",
        "    if alternative == 'greater':\n",
        "        pvalue = 1 - sps.norm.cdf(statistic)\n",
        "\n",
        "    if alternative == 'two-sided':\n",
        "        pvalue = 2 * (1 - sps.norm.cdf(abs(statistic)))\n",
        "\n",
        "    return statistic, pvalue\n",
        "\n",
        "\n",
        "\n",
        "def ztest_2sample_data(sample1,\n",
        "                       sample2,\n",
        "                       alternative='two-sided'):\n",
        "\n",
        "    return ztest_2sample(sample1_mean = sample1.mean(),\n",
        "                         sample2_mean = sample2.mean(),\n",
        "                         sample1_std = sample1.std(),\n",
        "                         sample2_std = sample2.std(),\n",
        "                         sample1_size = len(sample1),\n",
        "                         sample2_size = len(sample2),\n",
        "                         alternative = alternative)"
      ],
      "metadata": {
        "id": "h_I5WMJyNowP"
      },
      "execution_count": 6,
      "outputs": []
    },
    {
      "cell_type": "markdown",
      "source": [
        "#Синий уровень"
      ],
      "metadata": {
        "id": "rP-BzREiPCmz"
      }
    },
    {
      "cell_type": "markdown",
      "source": [
        "импорты, загрузка df и очистка"
      ],
      "metadata": {
        "id": "bK9cnuX3iG_H"
      }
    },
    {
      "cell_type": "code",
      "source": [
        "import pandas as pd\n",
        "from scipy import stats\n",
        "import pandas as pd\n",
        "import numpy as np\n",
        "import scipy.stats as sps\n",
        "import matplotlib.pyplot as plt\n",
        "\n",
        "df = pd.read_csv('https://raw.githubusercontent.com/zalig/cu-datasets/main/golden_mine.csv')\n",
        "df['Gender'] = df['Gender'].apply(lambda x: x.lower())\n",
        "df['Gender'].unique()"
      ],
      "metadata": {
        "colab": {
          "base_uri": "https://localhost:8080/"
        },
        "id": "KRWSWteChi3l",
        "outputId": "03622138-8d62-47ce-e383-92a6e64f3657"
      },
      "execution_count": 7,
      "outputs": [
        {
          "output_type": "execute_result",
          "data": {
            "text/plain": [
              "array(['male', 'female'], dtype=object)"
            ]
          },
          "metadata": {},
          "execution_count": 7
        }
      ]
    },
    {
      "cell_type": "code",
      "source": [
        "df.sort_values(by='Profit')"
      ],
      "metadata": {
        "colab": {
          "base_uri": "https://localhost:8080/",
          "height": 423
        },
        "id": "5IVz6KDuhn_e",
        "outputId": "32510043-0b8c-41e6-89bc-d51f30239277"
      },
      "execution_count": 8,
      "outputs": [
        {
          "output_type": "execute_result",
          "data": {
            "text/plain": [
              "      Payments    Costs   Profit  Age  Gender AgeGroup\n",
              "2759     17750  9661700 -9643950   35    male    25-39\n",
              "3179      6750    16950   -10200   33    male    25-39\n",
              "4698      6800    16600    -9800   36  female    25-39\n",
              "8572      8400    15550    -7150   25  female    25-39\n",
              "606       7350    14350    -7000   28  female    25-39\n",
              "...        ...      ...      ...  ...     ...      ...\n",
              "6378    143400    39500   103900   22    male    18-24\n",
              "7408    137950    32700   105250   21    male    18-24\n",
              "8420    139100    33150   105950   22    male    18-24\n",
              "2941    145250    35750   109500   21    male    18-24\n",
              "8322   6654600    10650  6643950   31    male    25-39\n",
              "\n",
              "[8715 rows x 6 columns]"
            ],
            "text/html": [
              "\n",
              "  <div id=\"df-883d81cc-4245-4201-8b5b-9b833ea6098c\" class=\"colab-df-container\">\n",
              "    <div>\n",
              "<style scoped>\n",
              "    .dataframe tbody tr th:only-of-type {\n",
              "        vertical-align: middle;\n",
              "    }\n",
              "\n",
              "    .dataframe tbody tr th {\n",
              "        vertical-align: top;\n",
              "    }\n",
              "\n",
              "    .dataframe thead th {\n",
              "        text-align: right;\n",
              "    }\n",
              "</style>\n",
              "<table border=\"1\" class=\"dataframe\">\n",
              "  <thead>\n",
              "    <tr style=\"text-align: right;\">\n",
              "      <th></th>\n",
              "      <th>Payments</th>\n",
              "      <th>Costs</th>\n",
              "      <th>Profit</th>\n",
              "      <th>Age</th>\n",
              "      <th>Gender</th>\n",
              "      <th>AgeGroup</th>\n",
              "    </tr>\n",
              "  </thead>\n",
              "  <tbody>\n",
              "    <tr>\n",
              "      <th>2759</th>\n",
              "      <td>17750</td>\n",
              "      <td>9661700</td>\n",
              "      <td>-9643950</td>\n",
              "      <td>35</td>\n",
              "      <td>male</td>\n",
              "      <td>25-39</td>\n",
              "    </tr>\n",
              "    <tr>\n",
              "      <th>3179</th>\n",
              "      <td>6750</td>\n",
              "      <td>16950</td>\n",
              "      <td>-10200</td>\n",
              "      <td>33</td>\n",
              "      <td>male</td>\n",
              "      <td>25-39</td>\n",
              "    </tr>\n",
              "    <tr>\n",
              "      <th>4698</th>\n",
              "      <td>6800</td>\n",
              "      <td>16600</td>\n",
              "      <td>-9800</td>\n",
              "      <td>36</td>\n",
              "      <td>female</td>\n",
              "      <td>25-39</td>\n",
              "    </tr>\n",
              "    <tr>\n",
              "      <th>8572</th>\n",
              "      <td>8400</td>\n",
              "      <td>15550</td>\n",
              "      <td>-7150</td>\n",
              "      <td>25</td>\n",
              "      <td>female</td>\n",
              "      <td>25-39</td>\n",
              "    </tr>\n",
              "    <tr>\n",
              "      <th>606</th>\n",
              "      <td>7350</td>\n",
              "      <td>14350</td>\n",
              "      <td>-7000</td>\n",
              "      <td>28</td>\n",
              "      <td>female</td>\n",
              "      <td>25-39</td>\n",
              "    </tr>\n",
              "    <tr>\n",
              "      <th>...</th>\n",
              "      <td>...</td>\n",
              "      <td>...</td>\n",
              "      <td>...</td>\n",
              "      <td>...</td>\n",
              "      <td>...</td>\n",
              "      <td>...</td>\n",
              "    </tr>\n",
              "    <tr>\n",
              "      <th>6378</th>\n",
              "      <td>143400</td>\n",
              "      <td>39500</td>\n",
              "      <td>103900</td>\n",
              "      <td>22</td>\n",
              "      <td>male</td>\n",
              "      <td>18-24</td>\n",
              "    </tr>\n",
              "    <tr>\n",
              "      <th>7408</th>\n",
              "      <td>137950</td>\n",
              "      <td>32700</td>\n",
              "      <td>105250</td>\n",
              "      <td>21</td>\n",
              "      <td>male</td>\n",
              "      <td>18-24</td>\n",
              "    </tr>\n",
              "    <tr>\n",
              "      <th>8420</th>\n",
              "      <td>139100</td>\n",
              "      <td>33150</td>\n",
              "      <td>105950</td>\n",
              "      <td>22</td>\n",
              "      <td>male</td>\n",
              "      <td>18-24</td>\n",
              "    </tr>\n",
              "    <tr>\n",
              "      <th>2941</th>\n",
              "      <td>145250</td>\n",
              "      <td>35750</td>\n",
              "      <td>109500</td>\n",
              "      <td>21</td>\n",
              "      <td>male</td>\n",
              "      <td>18-24</td>\n",
              "    </tr>\n",
              "    <tr>\n",
              "      <th>8322</th>\n",
              "      <td>6654600</td>\n",
              "      <td>10650</td>\n",
              "      <td>6643950</td>\n",
              "      <td>31</td>\n",
              "      <td>male</td>\n",
              "      <td>25-39</td>\n",
              "    </tr>\n",
              "  </tbody>\n",
              "</table>\n",
              "<p>8715 rows × 6 columns</p>\n",
              "</div>\n",
              "    <div class=\"colab-df-buttons\">\n",
              "\n",
              "  <div class=\"colab-df-container\">\n",
              "    <button class=\"colab-df-convert\" onclick=\"convertToInteractive('df-883d81cc-4245-4201-8b5b-9b833ea6098c')\"\n",
              "            title=\"Convert this dataframe to an interactive table.\"\n",
              "            style=\"display:none;\">\n",
              "\n",
              "  <svg xmlns=\"http://www.w3.org/2000/svg\" height=\"24px\" viewBox=\"0 -960 960 960\">\n",
              "    <path d=\"M120-120v-720h720v720H120Zm60-500h600v-160H180v160Zm220 220h160v-160H400v160Zm0 220h160v-160H400v160ZM180-400h160v-160H180v160Zm440 0h160v-160H620v160ZM180-180h160v-160H180v160Zm440 0h160v-160H620v160Z\"/>\n",
              "  </svg>\n",
              "    </button>\n",
              "\n",
              "  <style>\n",
              "    .colab-df-container {\n",
              "      display:flex;\n",
              "      gap: 12px;\n",
              "    }\n",
              "\n",
              "    .colab-df-convert {\n",
              "      background-color: #E8F0FE;\n",
              "      border: none;\n",
              "      border-radius: 50%;\n",
              "      cursor: pointer;\n",
              "      display: none;\n",
              "      fill: #1967D2;\n",
              "      height: 32px;\n",
              "      padding: 0 0 0 0;\n",
              "      width: 32px;\n",
              "    }\n",
              "\n",
              "    .colab-df-convert:hover {\n",
              "      background-color: #E2EBFA;\n",
              "      box-shadow: 0px 1px 2px rgba(60, 64, 67, 0.3), 0px 1px 3px 1px rgba(60, 64, 67, 0.15);\n",
              "      fill: #174EA6;\n",
              "    }\n",
              "\n",
              "    .colab-df-buttons div {\n",
              "      margin-bottom: 4px;\n",
              "    }\n",
              "\n",
              "    [theme=dark] .colab-df-convert {\n",
              "      background-color: #3B4455;\n",
              "      fill: #D2E3FC;\n",
              "    }\n",
              "\n",
              "    [theme=dark] .colab-df-convert:hover {\n",
              "      background-color: #434B5C;\n",
              "      box-shadow: 0px 1px 3px 1px rgba(0, 0, 0, 0.15);\n",
              "      filter: drop-shadow(0px 1px 2px rgba(0, 0, 0, 0.3));\n",
              "      fill: #FFFFFF;\n",
              "    }\n",
              "  </style>\n",
              "\n",
              "    <script>\n",
              "      const buttonEl =\n",
              "        document.querySelector('#df-883d81cc-4245-4201-8b5b-9b833ea6098c button.colab-df-convert');\n",
              "      buttonEl.style.display =\n",
              "        google.colab.kernel.accessAllowed ? 'block' : 'none';\n",
              "\n",
              "      async function convertToInteractive(key) {\n",
              "        const element = document.querySelector('#df-883d81cc-4245-4201-8b5b-9b833ea6098c');\n",
              "        const dataTable =\n",
              "          await google.colab.kernel.invokeFunction('convertToInteractive',\n",
              "                                                    [key], {});\n",
              "        if (!dataTable) return;\n",
              "\n",
              "        const docLinkHtml = 'Like what you see? Visit the ' +\n",
              "          '<a target=\"_blank\" href=https://colab.research.google.com/notebooks/data_table.ipynb>data table notebook</a>'\n",
              "          + ' to learn more about interactive tables.';\n",
              "        element.innerHTML = '';\n",
              "        dataTable['output_type'] = 'display_data';\n",
              "        await google.colab.output.renderOutput(dataTable, element);\n",
              "        const docLink = document.createElement('div');\n",
              "        docLink.innerHTML = docLinkHtml;\n",
              "        element.appendChild(docLink);\n",
              "      }\n",
              "    </script>\n",
              "  </div>\n",
              "\n",
              "\n",
              "<div id=\"df-62c3ecbc-b654-48ca-8c47-0337e21b9b20\">\n",
              "  <button class=\"colab-df-quickchart\" onclick=\"quickchart('df-62c3ecbc-b654-48ca-8c47-0337e21b9b20')\"\n",
              "            title=\"Suggest charts\"\n",
              "            style=\"display:none;\">\n",
              "\n",
              "<svg xmlns=\"http://www.w3.org/2000/svg\" height=\"24px\"viewBox=\"0 0 24 24\"\n",
              "     width=\"24px\">\n",
              "    <g>\n",
              "        <path d=\"M19 3H5c-1.1 0-2 .9-2 2v14c0 1.1.9 2 2 2h14c1.1 0 2-.9 2-2V5c0-1.1-.9-2-2-2zM9 17H7v-7h2v7zm4 0h-2V7h2v10zm4 0h-2v-4h2v4z\"/>\n",
              "    </g>\n",
              "</svg>\n",
              "  </button>\n",
              "\n",
              "<style>\n",
              "  .colab-df-quickchart {\n",
              "      --bg-color: #E8F0FE;\n",
              "      --fill-color: #1967D2;\n",
              "      --hover-bg-color: #E2EBFA;\n",
              "      --hover-fill-color: #174EA6;\n",
              "      --disabled-fill-color: #AAA;\n",
              "      --disabled-bg-color: #DDD;\n",
              "  }\n",
              "\n",
              "  [theme=dark] .colab-df-quickchart {\n",
              "      --bg-color: #3B4455;\n",
              "      --fill-color: #D2E3FC;\n",
              "      --hover-bg-color: #434B5C;\n",
              "      --hover-fill-color: #FFFFFF;\n",
              "      --disabled-bg-color: #3B4455;\n",
              "      --disabled-fill-color: #666;\n",
              "  }\n",
              "\n",
              "  .colab-df-quickchart {\n",
              "    background-color: var(--bg-color);\n",
              "    border: none;\n",
              "    border-radius: 50%;\n",
              "    cursor: pointer;\n",
              "    display: none;\n",
              "    fill: var(--fill-color);\n",
              "    height: 32px;\n",
              "    padding: 0;\n",
              "    width: 32px;\n",
              "  }\n",
              "\n",
              "  .colab-df-quickchart:hover {\n",
              "    background-color: var(--hover-bg-color);\n",
              "    box-shadow: 0 1px 2px rgba(60, 64, 67, 0.3), 0 1px 3px 1px rgba(60, 64, 67, 0.15);\n",
              "    fill: var(--button-hover-fill-color);\n",
              "  }\n",
              "\n",
              "  .colab-df-quickchart-complete:disabled,\n",
              "  .colab-df-quickchart-complete:disabled:hover {\n",
              "    background-color: var(--disabled-bg-color);\n",
              "    fill: var(--disabled-fill-color);\n",
              "    box-shadow: none;\n",
              "  }\n",
              "\n",
              "  .colab-df-spinner {\n",
              "    border: 2px solid var(--fill-color);\n",
              "    border-color: transparent;\n",
              "    border-bottom-color: var(--fill-color);\n",
              "    animation:\n",
              "      spin 1s steps(1) infinite;\n",
              "  }\n",
              "\n",
              "  @keyframes spin {\n",
              "    0% {\n",
              "      border-color: transparent;\n",
              "      border-bottom-color: var(--fill-color);\n",
              "      border-left-color: var(--fill-color);\n",
              "    }\n",
              "    20% {\n",
              "      border-color: transparent;\n",
              "      border-left-color: var(--fill-color);\n",
              "      border-top-color: var(--fill-color);\n",
              "    }\n",
              "    30% {\n",
              "      border-color: transparent;\n",
              "      border-left-color: var(--fill-color);\n",
              "      border-top-color: var(--fill-color);\n",
              "      border-right-color: var(--fill-color);\n",
              "    }\n",
              "    40% {\n",
              "      border-color: transparent;\n",
              "      border-right-color: var(--fill-color);\n",
              "      border-top-color: var(--fill-color);\n",
              "    }\n",
              "    60% {\n",
              "      border-color: transparent;\n",
              "      border-right-color: var(--fill-color);\n",
              "    }\n",
              "    80% {\n",
              "      border-color: transparent;\n",
              "      border-right-color: var(--fill-color);\n",
              "      border-bottom-color: var(--fill-color);\n",
              "    }\n",
              "    90% {\n",
              "      border-color: transparent;\n",
              "      border-bottom-color: var(--fill-color);\n",
              "    }\n",
              "  }\n",
              "</style>\n",
              "\n",
              "  <script>\n",
              "    async function quickchart(key) {\n",
              "      const quickchartButtonEl =\n",
              "        document.querySelector('#' + key + ' button');\n",
              "      quickchartButtonEl.disabled = true;  // To prevent multiple clicks.\n",
              "      quickchartButtonEl.classList.add('colab-df-spinner');\n",
              "      try {\n",
              "        const charts = await google.colab.kernel.invokeFunction(\n",
              "            'suggestCharts', [key], {});\n",
              "      } catch (error) {\n",
              "        console.error('Error during call to suggestCharts:', error);\n",
              "      }\n",
              "      quickchartButtonEl.classList.remove('colab-df-spinner');\n",
              "      quickchartButtonEl.classList.add('colab-df-quickchart-complete');\n",
              "    }\n",
              "    (() => {\n",
              "      let quickchartButtonEl =\n",
              "        document.querySelector('#df-62c3ecbc-b654-48ca-8c47-0337e21b9b20 button');\n",
              "      quickchartButtonEl.style.display =\n",
              "        google.colab.kernel.accessAllowed ? 'block' : 'none';\n",
              "    })();\n",
              "  </script>\n",
              "</div>\n",
              "    </div>\n",
              "  </div>\n"
            ],
            "application/vnd.google.colaboratory.intrinsic+json": {
              "type": "dataframe",
              "summary": "{\n  \"name\": \"df\",\n  \"rows\": 8715,\n  \"fields\": [\n    {\n      \"column\": \"Payments\",\n      \"properties\": {\n        \"dtype\": \"number\",\n        \"std\": 76051,\n        \"min\": 3750,\n        \"max\": 6654600,\n        \"num_unique_values\": 1515,\n        \"samples\": [\n          6550,\n          13350,\n          130250\n        ],\n        \"semantic_type\": \"\",\n        \"description\": \"\"\n      }\n    },\n    {\n      \"column\": \"Costs\",\n      \"properties\": {\n        \"dtype\": \"number\",\n        \"std\": 103661,\n        \"min\": 3500,\n        \"max\": 9661700,\n        \"num_unique_values\": 703,\n        \"samples\": [\n          47500,\n          15250,\n          7900\n        ],\n        \"semantic_type\": \"\",\n        \"description\": \"\"\n      }\n    },\n    {\n      \"column\": \"Profit\",\n      \"properties\": {\n        \"dtype\": \"number\",\n        \"std\": 127100,\n        \"min\": -9643950,\n        \"max\": 6643950,\n        \"num_unique_values\": 1386,\n        \"samples\": [\n          27550,\n          5450,\n          44150\n        ],\n        \"semantic_type\": \"\",\n        \"description\": \"\"\n      }\n    },\n    {\n      \"column\": \"Age\",\n      \"properties\": {\n        \"dtype\": \"number\",\n        \"std\": 5,\n        \"min\": 18,\n        \"max\": 49,\n        \"num_unique_values\": 31,\n        \"samples\": [\n          22,\n          31,\n          44\n        ],\n        \"semantic_type\": \"\",\n        \"description\": \"\"\n      }\n    },\n    {\n      \"column\": \"Gender\",\n      \"properties\": {\n        \"dtype\": \"category\",\n        \"num_unique_values\": 2,\n        \"samples\": [\n          \"female\",\n          \"male\"\n        ],\n        \"semantic_type\": \"\",\n        \"description\": \"\"\n      }\n    },\n    {\n      \"column\": \"AgeGroup\",\n      \"properties\": {\n        \"dtype\": \"category\",\n        \"num_unique_values\": 3,\n        \"samples\": [\n          \"25-39\",\n          \"18-24\"\n        ],\n        \"semantic_type\": \"\",\n        \"description\": \"\"\n      }\n    }\n  ]\n}"
            }
          },
          "metadata": {},
          "execution_count": 8
        }
      ]
    },
    {
      "cell_type": "code",
      "source": [
        "df = df[(df['Profit'] < 200_000) & (df['Profit'] > -200_000)]\n",
        "df.sort_values(by='Profit')"
      ],
      "metadata": {
        "colab": {
          "base_uri": "https://localhost:8080/",
          "height": 423
        },
        "id": "bs3B1p0iia5C",
        "outputId": "48206ace-f5f6-4b8a-d5fc-7cf0f465cd7b"
      },
      "execution_count": 9,
      "outputs": [
        {
          "output_type": "execute_result",
          "data": {
            "text/plain": [
              "      Payments  Costs  Profit  Age  Gender AgeGroup\n",
              "3179      6750  16950  -10200   33    male    25-39\n",
              "4698      6800  16600   -9800   36  female    25-39\n",
              "8572      8400  15550   -7150   25  female    25-39\n",
              "606       7350  14350   -7000   28  female    25-39\n",
              "5457      3750  10000   -6250   18    male    18-24\n",
              "...        ...    ...     ...  ...     ...      ...\n",
              "1995    137500  33750  103750   21    male    18-24\n",
              "6378    143400  39500  103900   22    male    18-24\n",
              "7408    137950  32700  105250   21    male    18-24\n",
              "8420    139100  33150  105950   22    male    18-24\n",
              "2941    145250  35750  109500   21    male    18-24\n",
              "\n",
              "[8713 rows x 6 columns]"
            ],
            "text/html": [
              "\n",
              "  <div id=\"df-da17da61-7dac-4b97-b328-6bed026c3691\" class=\"colab-df-container\">\n",
              "    <div>\n",
              "<style scoped>\n",
              "    .dataframe tbody tr th:only-of-type {\n",
              "        vertical-align: middle;\n",
              "    }\n",
              "\n",
              "    .dataframe tbody tr th {\n",
              "        vertical-align: top;\n",
              "    }\n",
              "\n",
              "    .dataframe thead th {\n",
              "        text-align: right;\n",
              "    }\n",
              "</style>\n",
              "<table border=\"1\" class=\"dataframe\">\n",
              "  <thead>\n",
              "    <tr style=\"text-align: right;\">\n",
              "      <th></th>\n",
              "      <th>Payments</th>\n",
              "      <th>Costs</th>\n",
              "      <th>Profit</th>\n",
              "      <th>Age</th>\n",
              "      <th>Gender</th>\n",
              "      <th>AgeGroup</th>\n",
              "    </tr>\n",
              "  </thead>\n",
              "  <tbody>\n",
              "    <tr>\n",
              "      <th>3179</th>\n",
              "      <td>6750</td>\n",
              "      <td>16950</td>\n",
              "      <td>-10200</td>\n",
              "      <td>33</td>\n",
              "      <td>male</td>\n",
              "      <td>25-39</td>\n",
              "    </tr>\n",
              "    <tr>\n",
              "      <th>4698</th>\n",
              "      <td>6800</td>\n",
              "      <td>16600</td>\n",
              "      <td>-9800</td>\n",
              "      <td>36</td>\n",
              "      <td>female</td>\n",
              "      <td>25-39</td>\n",
              "    </tr>\n",
              "    <tr>\n",
              "      <th>8572</th>\n",
              "      <td>8400</td>\n",
              "      <td>15550</td>\n",
              "      <td>-7150</td>\n",
              "      <td>25</td>\n",
              "      <td>female</td>\n",
              "      <td>25-39</td>\n",
              "    </tr>\n",
              "    <tr>\n",
              "      <th>606</th>\n",
              "      <td>7350</td>\n",
              "      <td>14350</td>\n",
              "      <td>-7000</td>\n",
              "      <td>28</td>\n",
              "      <td>female</td>\n",
              "      <td>25-39</td>\n",
              "    </tr>\n",
              "    <tr>\n",
              "      <th>5457</th>\n",
              "      <td>3750</td>\n",
              "      <td>10000</td>\n",
              "      <td>-6250</td>\n",
              "      <td>18</td>\n",
              "      <td>male</td>\n",
              "      <td>18-24</td>\n",
              "    </tr>\n",
              "    <tr>\n",
              "      <th>...</th>\n",
              "      <td>...</td>\n",
              "      <td>...</td>\n",
              "      <td>...</td>\n",
              "      <td>...</td>\n",
              "      <td>...</td>\n",
              "      <td>...</td>\n",
              "    </tr>\n",
              "    <tr>\n",
              "      <th>1995</th>\n",
              "      <td>137500</td>\n",
              "      <td>33750</td>\n",
              "      <td>103750</td>\n",
              "      <td>21</td>\n",
              "      <td>male</td>\n",
              "      <td>18-24</td>\n",
              "    </tr>\n",
              "    <tr>\n",
              "      <th>6378</th>\n",
              "      <td>143400</td>\n",
              "      <td>39500</td>\n",
              "      <td>103900</td>\n",
              "      <td>22</td>\n",
              "      <td>male</td>\n",
              "      <td>18-24</td>\n",
              "    </tr>\n",
              "    <tr>\n",
              "      <th>7408</th>\n",
              "      <td>137950</td>\n",
              "      <td>32700</td>\n",
              "      <td>105250</td>\n",
              "      <td>21</td>\n",
              "      <td>male</td>\n",
              "      <td>18-24</td>\n",
              "    </tr>\n",
              "    <tr>\n",
              "      <th>8420</th>\n",
              "      <td>139100</td>\n",
              "      <td>33150</td>\n",
              "      <td>105950</td>\n",
              "      <td>22</td>\n",
              "      <td>male</td>\n",
              "      <td>18-24</td>\n",
              "    </tr>\n",
              "    <tr>\n",
              "      <th>2941</th>\n",
              "      <td>145250</td>\n",
              "      <td>35750</td>\n",
              "      <td>109500</td>\n",
              "      <td>21</td>\n",
              "      <td>male</td>\n",
              "      <td>18-24</td>\n",
              "    </tr>\n",
              "  </tbody>\n",
              "</table>\n",
              "<p>8713 rows × 6 columns</p>\n",
              "</div>\n",
              "    <div class=\"colab-df-buttons\">\n",
              "\n",
              "  <div class=\"colab-df-container\">\n",
              "    <button class=\"colab-df-convert\" onclick=\"convertToInteractive('df-da17da61-7dac-4b97-b328-6bed026c3691')\"\n",
              "            title=\"Convert this dataframe to an interactive table.\"\n",
              "            style=\"display:none;\">\n",
              "\n",
              "  <svg xmlns=\"http://www.w3.org/2000/svg\" height=\"24px\" viewBox=\"0 -960 960 960\">\n",
              "    <path d=\"M120-120v-720h720v720H120Zm60-500h600v-160H180v160Zm220 220h160v-160H400v160Zm0 220h160v-160H400v160ZM180-400h160v-160H180v160Zm440 0h160v-160H620v160ZM180-180h160v-160H180v160Zm440 0h160v-160H620v160Z\"/>\n",
              "  </svg>\n",
              "    </button>\n",
              "\n",
              "  <style>\n",
              "    .colab-df-container {\n",
              "      display:flex;\n",
              "      gap: 12px;\n",
              "    }\n",
              "\n",
              "    .colab-df-convert {\n",
              "      background-color: #E8F0FE;\n",
              "      border: none;\n",
              "      border-radius: 50%;\n",
              "      cursor: pointer;\n",
              "      display: none;\n",
              "      fill: #1967D2;\n",
              "      height: 32px;\n",
              "      padding: 0 0 0 0;\n",
              "      width: 32px;\n",
              "    }\n",
              "\n",
              "    .colab-df-convert:hover {\n",
              "      background-color: #E2EBFA;\n",
              "      box-shadow: 0px 1px 2px rgba(60, 64, 67, 0.3), 0px 1px 3px 1px rgba(60, 64, 67, 0.15);\n",
              "      fill: #174EA6;\n",
              "    }\n",
              "\n",
              "    .colab-df-buttons div {\n",
              "      margin-bottom: 4px;\n",
              "    }\n",
              "\n",
              "    [theme=dark] .colab-df-convert {\n",
              "      background-color: #3B4455;\n",
              "      fill: #D2E3FC;\n",
              "    }\n",
              "\n",
              "    [theme=dark] .colab-df-convert:hover {\n",
              "      background-color: #434B5C;\n",
              "      box-shadow: 0px 1px 3px 1px rgba(0, 0, 0, 0.15);\n",
              "      filter: drop-shadow(0px 1px 2px rgba(0, 0, 0, 0.3));\n",
              "      fill: #FFFFFF;\n",
              "    }\n",
              "  </style>\n",
              "\n",
              "    <script>\n",
              "      const buttonEl =\n",
              "        document.querySelector('#df-da17da61-7dac-4b97-b328-6bed026c3691 button.colab-df-convert');\n",
              "      buttonEl.style.display =\n",
              "        google.colab.kernel.accessAllowed ? 'block' : 'none';\n",
              "\n",
              "      async function convertToInteractive(key) {\n",
              "        const element = document.querySelector('#df-da17da61-7dac-4b97-b328-6bed026c3691');\n",
              "        const dataTable =\n",
              "          await google.colab.kernel.invokeFunction('convertToInteractive',\n",
              "                                                    [key], {});\n",
              "        if (!dataTable) return;\n",
              "\n",
              "        const docLinkHtml = 'Like what you see? Visit the ' +\n",
              "          '<a target=\"_blank\" href=https://colab.research.google.com/notebooks/data_table.ipynb>data table notebook</a>'\n",
              "          + ' to learn more about interactive tables.';\n",
              "        element.innerHTML = '';\n",
              "        dataTable['output_type'] = 'display_data';\n",
              "        await google.colab.output.renderOutput(dataTable, element);\n",
              "        const docLink = document.createElement('div');\n",
              "        docLink.innerHTML = docLinkHtml;\n",
              "        element.appendChild(docLink);\n",
              "      }\n",
              "    </script>\n",
              "  </div>\n",
              "\n",
              "\n",
              "<div id=\"df-5aca920c-0837-49f9-bbf2-225855bc0d03\">\n",
              "  <button class=\"colab-df-quickchart\" onclick=\"quickchart('df-5aca920c-0837-49f9-bbf2-225855bc0d03')\"\n",
              "            title=\"Suggest charts\"\n",
              "            style=\"display:none;\">\n",
              "\n",
              "<svg xmlns=\"http://www.w3.org/2000/svg\" height=\"24px\"viewBox=\"0 0 24 24\"\n",
              "     width=\"24px\">\n",
              "    <g>\n",
              "        <path d=\"M19 3H5c-1.1 0-2 .9-2 2v14c0 1.1.9 2 2 2h14c1.1 0 2-.9 2-2V5c0-1.1-.9-2-2-2zM9 17H7v-7h2v7zm4 0h-2V7h2v10zm4 0h-2v-4h2v4z\"/>\n",
              "    </g>\n",
              "</svg>\n",
              "  </button>\n",
              "\n",
              "<style>\n",
              "  .colab-df-quickchart {\n",
              "      --bg-color: #E8F0FE;\n",
              "      --fill-color: #1967D2;\n",
              "      --hover-bg-color: #E2EBFA;\n",
              "      --hover-fill-color: #174EA6;\n",
              "      --disabled-fill-color: #AAA;\n",
              "      --disabled-bg-color: #DDD;\n",
              "  }\n",
              "\n",
              "  [theme=dark] .colab-df-quickchart {\n",
              "      --bg-color: #3B4455;\n",
              "      --fill-color: #D2E3FC;\n",
              "      --hover-bg-color: #434B5C;\n",
              "      --hover-fill-color: #FFFFFF;\n",
              "      --disabled-bg-color: #3B4455;\n",
              "      --disabled-fill-color: #666;\n",
              "  }\n",
              "\n",
              "  .colab-df-quickchart {\n",
              "    background-color: var(--bg-color);\n",
              "    border: none;\n",
              "    border-radius: 50%;\n",
              "    cursor: pointer;\n",
              "    display: none;\n",
              "    fill: var(--fill-color);\n",
              "    height: 32px;\n",
              "    padding: 0;\n",
              "    width: 32px;\n",
              "  }\n",
              "\n",
              "  .colab-df-quickchart:hover {\n",
              "    background-color: var(--hover-bg-color);\n",
              "    box-shadow: 0 1px 2px rgba(60, 64, 67, 0.3), 0 1px 3px 1px rgba(60, 64, 67, 0.15);\n",
              "    fill: var(--button-hover-fill-color);\n",
              "  }\n",
              "\n",
              "  .colab-df-quickchart-complete:disabled,\n",
              "  .colab-df-quickchart-complete:disabled:hover {\n",
              "    background-color: var(--disabled-bg-color);\n",
              "    fill: var(--disabled-fill-color);\n",
              "    box-shadow: none;\n",
              "  }\n",
              "\n",
              "  .colab-df-spinner {\n",
              "    border: 2px solid var(--fill-color);\n",
              "    border-color: transparent;\n",
              "    border-bottom-color: var(--fill-color);\n",
              "    animation:\n",
              "      spin 1s steps(1) infinite;\n",
              "  }\n",
              "\n",
              "  @keyframes spin {\n",
              "    0% {\n",
              "      border-color: transparent;\n",
              "      border-bottom-color: var(--fill-color);\n",
              "      border-left-color: var(--fill-color);\n",
              "    }\n",
              "    20% {\n",
              "      border-color: transparent;\n",
              "      border-left-color: var(--fill-color);\n",
              "      border-top-color: var(--fill-color);\n",
              "    }\n",
              "    30% {\n",
              "      border-color: transparent;\n",
              "      border-left-color: var(--fill-color);\n",
              "      border-top-color: var(--fill-color);\n",
              "      border-right-color: var(--fill-color);\n",
              "    }\n",
              "    40% {\n",
              "      border-color: transparent;\n",
              "      border-right-color: var(--fill-color);\n",
              "      border-top-color: var(--fill-color);\n",
              "    }\n",
              "    60% {\n",
              "      border-color: transparent;\n",
              "      border-right-color: var(--fill-color);\n",
              "    }\n",
              "    80% {\n",
              "      border-color: transparent;\n",
              "      border-right-color: var(--fill-color);\n",
              "      border-bottom-color: var(--fill-color);\n",
              "    }\n",
              "    90% {\n",
              "      border-color: transparent;\n",
              "      border-bottom-color: var(--fill-color);\n",
              "    }\n",
              "  }\n",
              "</style>\n",
              "\n",
              "  <script>\n",
              "    async function quickchart(key) {\n",
              "      const quickchartButtonEl =\n",
              "        document.querySelector('#' + key + ' button');\n",
              "      quickchartButtonEl.disabled = true;  // To prevent multiple clicks.\n",
              "      quickchartButtonEl.classList.add('colab-df-spinner');\n",
              "      try {\n",
              "        const charts = await google.colab.kernel.invokeFunction(\n",
              "            'suggestCharts', [key], {});\n",
              "      } catch (error) {\n",
              "        console.error('Error during call to suggestCharts:', error);\n",
              "      }\n",
              "      quickchartButtonEl.classList.remove('colab-df-spinner');\n",
              "      quickchartButtonEl.classList.add('colab-df-quickchart-complete');\n",
              "    }\n",
              "    (() => {\n",
              "      let quickchartButtonEl =\n",
              "        document.querySelector('#df-5aca920c-0837-49f9-bbf2-225855bc0d03 button');\n",
              "      quickchartButtonEl.style.display =\n",
              "        google.colab.kernel.accessAllowed ? 'block' : 'none';\n",
              "    })();\n",
              "  </script>\n",
              "</div>\n",
              "    </div>\n",
              "  </div>\n"
            ],
            "application/vnd.google.colaboratory.intrinsic+json": {
              "type": "dataframe",
              "summary": "{\n  \"name\": \"df\",\n  \"rows\": 8713,\n  \"fields\": [\n    {\n      \"column\": \"Payments\",\n      \"properties\": {\n        \"dtype\": \"number\",\n        \"std\": 27337,\n        \"min\": 3750,\n        \"max\": 148300,\n        \"num_unique_values\": 1514,\n        \"samples\": [\n          5750,\n          12050,\n          140400\n        ],\n        \"semantic_type\": \"\",\n        \"description\": \"\"\n      }\n    },\n    {\n      \"column\": \"Costs\",\n      \"properties\": {\n        \"dtype\": \"number\",\n        \"std\": 8039,\n        \"min\": 3500,\n        \"max\": 54350,\n        \"num_unique_values\": 702,\n        \"samples\": [\n          45750,\n          6650,\n          14850\n        ],\n        \"semantic_type\": \"\",\n        \"description\": \"\"\n      }\n    },\n    {\n      \"column\": \"Profit\",\n      \"properties\": {\n        \"dtype\": \"number\",\n        \"std\": 20125,\n        \"min\": -10200,\n        \"max\": 109500,\n        \"num_unique_values\": 1384,\n        \"samples\": [\n          38350,\n          6950,\n          3250\n        ],\n        \"semantic_type\": \"\",\n        \"description\": \"\"\n      }\n    },\n    {\n      \"column\": \"Age\",\n      \"properties\": {\n        \"dtype\": \"number\",\n        \"std\": 5,\n        \"min\": 18,\n        \"max\": 49,\n        \"num_unique_values\": 31,\n        \"samples\": [\n          22,\n          31,\n          44\n        ],\n        \"semantic_type\": \"\",\n        \"description\": \"\"\n      }\n    },\n    {\n      \"column\": \"Gender\",\n      \"properties\": {\n        \"dtype\": \"category\",\n        \"num_unique_values\": 2,\n        \"samples\": [\n          \"female\",\n          \"male\"\n        ],\n        \"semantic_type\": \"\",\n        \"description\": \"\"\n      }\n    },\n    {\n      \"column\": \"AgeGroup\",\n      \"properties\": {\n        \"dtype\": \"category\",\n        \"num_unique_values\": 3,\n        \"samples\": [\n          \"25-39\",\n          \"18-24\"\n        ],\n        \"semantic_type\": \"\",\n        \"description\": \"\"\n      }\n    }\n  ]\n}"
            }
          },
          "metadata": {},
          "execution_count": 9
        }
      ]
    },
    {
      "cell_type": "markdown",
      "source": [
        "###Синий1"
      ],
      "metadata": {
        "id": "TYEGITJlGuYP"
      }
    },
    {
      "cell_type": "code",
      "source": [
        "df.shape"
      ],
      "metadata": {
        "colab": {
          "base_uri": "https://localhost:8080/"
        },
        "id": "oAIxWJPilooa",
        "outputId": "18e79ae4-645f-448e-c323-65934019a3a1"
      },
      "execution_count": 10,
      "outputs": [
        {
          "output_type": "execute_result",
          "data": {
            "text/plain": [
              "(8713, 6)"
            ]
          },
          "metadata": {},
          "execution_count": 10
        }
      ]
    },
    {
      "cell_type": "code",
      "source": [
        "sum(df['Profit'] > 15_000) / len(df) #доля окупившихся клиентов клиентов"
      ],
      "metadata": {
        "colab": {
          "base_uri": "https://localhost:8080/"
        },
        "id": "agIZNI6nnddB",
        "outputId": "323d7f09-f118-429d-d0ed-b2f66ecd62e8"
      },
      "execution_count": 11,
      "outputs": [
        {
          "output_type": "execute_result",
          "data": {
            "text/plain": [
              "0.3544129461723861"
            ]
          },
          "metadata": {},
          "execution_count": 11
        }
      ]
    },
    {
      "cell_type": "code",
      "source": [
        "df['Profit'].mean() #средний доход"
      ],
      "metadata": {
        "colab": {
          "base_uri": "https://localhost:8080/"
        },
        "id": "Nto7JhvRQoa4",
        "outputId": "372db58a-839e-417f-fd3f-f9dd0a96f273"
      },
      "execution_count": 12,
      "outputs": [
        {
          "output_type": "execute_result",
          "data": {
            "text/plain": [
              "15755.095833811545"
            ]
          },
          "metadata": {},
          "execution_count": 12
        }
      ]
    },
    {
      "cell_type": "code",
      "source": [
        "df['Profit'].mean() - 15_000 #средняя прибыль"
      ],
      "metadata": {
        "colab": {
          "base_uri": "https://localhost:8080/"
        },
        "id": "fOdA8WdmQ7-P",
        "outputId": "f51e8292-37b7-4344-fbd3-9d81ede1fbc0"
      },
      "execution_count": 13,
      "outputs": [
        {
          "output_type": "execute_result",
          "data": {
            "text/plain": [
              "755.0958338115452"
            ]
          },
          "metadata": {},
          "execution_count": 13
        }
      ]
    },
    {
      "cell_type": "markdown",
      "source": [
        "$H_0$ клиент не окупился(Profit меньше затрат на привлечение)\n",
        "\n",
        "$H_1$ клиент окупился(Profit побльше затрат на привлечение)"
      ],
      "metadata": {
        "id": "lcVdQtYanfiE"
      }
    },
    {
      "cell_type": "code",
      "source": [
        "profit_avg_all = df['Profit'].mean()\n",
        "z_1, p_value_1 = ztest_1sample_data(pop_mean = 15_000,\n",
        "                                   sample = df['Profit'],\n",
        "                                   alternative = 'greater')\n",
        "\n",
        "print(f'z test: {z_1.round(5)}\\np-value: {p_value_1.round(5) * 100}%')"
      ],
      "metadata": {
        "colab": {
          "base_uri": "https://localhost:8080/"
        },
        "id": "5YrYeGp5iSbp",
        "outputId": "f285de6b-6011-47ed-aac0-c8460ea4df53"
      },
      "execution_count": 14,
      "outputs": [
        {
          "output_type": "stream",
          "name": "stdout",
          "text": [
            "z test: 3.50211\n",
            "p-value: 0.023%\n"
          ]
        }
      ]
    },
    {
      "cell_type": "markdown",
      "source": [
        "###Синий2"
      ],
      "metadata": {
        "id": "gdHxMO4IGmYn"
      }
    },
    {
      "cell_type": "code",
      "source": [
        " # повторяем\n",
        "grouped = df.groupby(['AgeGroup','Gender'])\n",
        "AgG_Gen_Pr_Groupby = grouped.agg({'Profit': 'mean'})\n",
        "AgG_Gen_Pr_Groupby.index = [f\"{item[1].capitalize()} / {item[0]} y.o.\" for item in AgG_Gen_Pr_Groupby.index]\n",
        "\n",
        "axisX = AgG_Gen_Pr_Groupby.iloc[:2]\n",
        "axisX = axisX.rename(index = { 'Female / 18-24 y.o.' : 'Женщины', 'Male / 18-24 y.o.' : 'Мужчины'})\n",
        "plt.bar(x = axisX.index , height = axisX['Profit'].values, color = ['hotpink', 'dodgerblue'])\n",
        "\n",
        "#называяем оси и график\n",
        "plt.xlabel(\"Пол\")\n",
        "plt.ylabel(\"Средняя прибыль(руб.)\")\n",
        "plt.title(\"Средняя прибыль по полу клиентов в возрасте 18-24y.o.\")\n",
        "\n",
        "#наносим линию среднего профита\n",
        "plt.axhline(y=15755.095833811545, linestyle='--', color='gray')\n",
        "plt.text(x=1.15, y=15755.095833811545 , s='''Средняя прибыль\n",
        "среди всех клиентов''', ha='center', va='center', color='gray')\n",
        "\n",
        "#сохраняем в формате png\n",
        "plt.savefig('график мж 18-24.png')\n",
        "\n",
        "\n",
        "axisX"
      ],
      "metadata": {
        "colab": {
          "base_uri": "https://localhost:8080/",
          "height": 567
        },
        "id": "RWqq3U2ziWU4",
        "outputId": "88e0ccac-6972-43f1-9eae-42c1fecb5e84"
      },
      "execution_count": 15,
      "outputs": [
        {
          "output_type": "execute_result",
          "data": {
            "text/plain": [
              "               Profit\n",
              "Женщины  26278.373894\n",
              "Мужчины  13155.762435"
            ],
            "text/html": [
              "\n",
              "  <div id=\"df-fe801a18-e494-4a96-9927-e81bb53b40a2\" class=\"colab-df-container\">\n",
              "    <div>\n",
              "<style scoped>\n",
              "    .dataframe tbody tr th:only-of-type {\n",
              "        vertical-align: middle;\n",
              "    }\n",
              "\n",
              "    .dataframe tbody tr th {\n",
              "        vertical-align: top;\n",
              "    }\n",
              "\n",
              "    .dataframe thead th {\n",
              "        text-align: right;\n",
              "    }\n",
              "</style>\n",
              "<table border=\"1\" class=\"dataframe\">\n",
              "  <thead>\n",
              "    <tr style=\"text-align: right;\">\n",
              "      <th></th>\n",
              "      <th>Profit</th>\n",
              "    </tr>\n",
              "  </thead>\n",
              "  <tbody>\n",
              "    <tr>\n",
              "      <th>Женщины</th>\n",
              "      <td>26278.373894</td>\n",
              "    </tr>\n",
              "    <tr>\n",
              "      <th>Мужчины</th>\n",
              "      <td>13155.762435</td>\n",
              "    </tr>\n",
              "  </tbody>\n",
              "</table>\n",
              "</div>\n",
              "    <div class=\"colab-df-buttons\">\n",
              "\n",
              "  <div class=\"colab-df-container\">\n",
              "    <button class=\"colab-df-convert\" onclick=\"convertToInteractive('df-fe801a18-e494-4a96-9927-e81bb53b40a2')\"\n",
              "            title=\"Convert this dataframe to an interactive table.\"\n",
              "            style=\"display:none;\">\n",
              "\n",
              "  <svg xmlns=\"http://www.w3.org/2000/svg\" height=\"24px\" viewBox=\"0 -960 960 960\">\n",
              "    <path d=\"M120-120v-720h720v720H120Zm60-500h600v-160H180v160Zm220 220h160v-160H400v160Zm0 220h160v-160H400v160ZM180-400h160v-160H180v160Zm440 0h160v-160H620v160ZM180-180h160v-160H180v160Zm440 0h160v-160H620v160Z\"/>\n",
              "  </svg>\n",
              "    </button>\n",
              "\n",
              "  <style>\n",
              "    .colab-df-container {\n",
              "      display:flex;\n",
              "      gap: 12px;\n",
              "    }\n",
              "\n",
              "    .colab-df-convert {\n",
              "      background-color: #E8F0FE;\n",
              "      border: none;\n",
              "      border-radius: 50%;\n",
              "      cursor: pointer;\n",
              "      display: none;\n",
              "      fill: #1967D2;\n",
              "      height: 32px;\n",
              "      padding: 0 0 0 0;\n",
              "      width: 32px;\n",
              "    }\n",
              "\n",
              "    .colab-df-convert:hover {\n",
              "      background-color: #E2EBFA;\n",
              "      box-shadow: 0px 1px 2px rgba(60, 64, 67, 0.3), 0px 1px 3px 1px rgba(60, 64, 67, 0.15);\n",
              "      fill: #174EA6;\n",
              "    }\n",
              "\n",
              "    .colab-df-buttons div {\n",
              "      margin-bottom: 4px;\n",
              "    }\n",
              "\n",
              "    [theme=dark] .colab-df-convert {\n",
              "      background-color: #3B4455;\n",
              "      fill: #D2E3FC;\n",
              "    }\n",
              "\n",
              "    [theme=dark] .colab-df-convert:hover {\n",
              "      background-color: #434B5C;\n",
              "      box-shadow: 0px 1px 3px 1px rgba(0, 0, 0, 0.15);\n",
              "      filter: drop-shadow(0px 1px 2px rgba(0, 0, 0, 0.3));\n",
              "      fill: #FFFFFF;\n",
              "    }\n",
              "  </style>\n",
              "\n",
              "    <script>\n",
              "      const buttonEl =\n",
              "        document.querySelector('#df-fe801a18-e494-4a96-9927-e81bb53b40a2 button.colab-df-convert');\n",
              "      buttonEl.style.display =\n",
              "        google.colab.kernel.accessAllowed ? 'block' : 'none';\n",
              "\n",
              "      async function convertToInteractive(key) {\n",
              "        const element = document.querySelector('#df-fe801a18-e494-4a96-9927-e81bb53b40a2');\n",
              "        const dataTable =\n",
              "          await google.colab.kernel.invokeFunction('convertToInteractive',\n",
              "                                                    [key], {});\n",
              "        if (!dataTable) return;\n",
              "\n",
              "        const docLinkHtml = 'Like what you see? Visit the ' +\n",
              "          '<a target=\"_blank\" href=https://colab.research.google.com/notebooks/data_table.ipynb>data table notebook</a>'\n",
              "          + ' to learn more about interactive tables.';\n",
              "        element.innerHTML = '';\n",
              "        dataTable['output_type'] = 'display_data';\n",
              "        await google.colab.output.renderOutput(dataTable, element);\n",
              "        const docLink = document.createElement('div');\n",
              "        docLink.innerHTML = docLinkHtml;\n",
              "        element.appendChild(docLink);\n",
              "      }\n",
              "    </script>\n",
              "  </div>\n",
              "\n",
              "\n",
              "<div id=\"df-43068250-ea9d-4495-b298-a6e7310e399a\">\n",
              "  <button class=\"colab-df-quickchart\" onclick=\"quickchart('df-43068250-ea9d-4495-b298-a6e7310e399a')\"\n",
              "            title=\"Suggest charts\"\n",
              "            style=\"display:none;\">\n",
              "\n",
              "<svg xmlns=\"http://www.w3.org/2000/svg\" height=\"24px\"viewBox=\"0 0 24 24\"\n",
              "     width=\"24px\">\n",
              "    <g>\n",
              "        <path d=\"M19 3H5c-1.1 0-2 .9-2 2v14c0 1.1.9 2 2 2h14c1.1 0 2-.9 2-2V5c0-1.1-.9-2-2-2zM9 17H7v-7h2v7zm4 0h-2V7h2v10zm4 0h-2v-4h2v4z\"/>\n",
              "    </g>\n",
              "</svg>\n",
              "  </button>\n",
              "\n",
              "<style>\n",
              "  .colab-df-quickchart {\n",
              "      --bg-color: #E8F0FE;\n",
              "      --fill-color: #1967D2;\n",
              "      --hover-bg-color: #E2EBFA;\n",
              "      --hover-fill-color: #174EA6;\n",
              "      --disabled-fill-color: #AAA;\n",
              "      --disabled-bg-color: #DDD;\n",
              "  }\n",
              "\n",
              "  [theme=dark] .colab-df-quickchart {\n",
              "      --bg-color: #3B4455;\n",
              "      --fill-color: #D2E3FC;\n",
              "      --hover-bg-color: #434B5C;\n",
              "      --hover-fill-color: #FFFFFF;\n",
              "      --disabled-bg-color: #3B4455;\n",
              "      --disabled-fill-color: #666;\n",
              "  }\n",
              "\n",
              "  .colab-df-quickchart {\n",
              "    background-color: var(--bg-color);\n",
              "    border: none;\n",
              "    border-radius: 50%;\n",
              "    cursor: pointer;\n",
              "    display: none;\n",
              "    fill: var(--fill-color);\n",
              "    height: 32px;\n",
              "    padding: 0;\n",
              "    width: 32px;\n",
              "  }\n",
              "\n",
              "  .colab-df-quickchart:hover {\n",
              "    background-color: var(--hover-bg-color);\n",
              "    box-shadow: 0 1px 2px rgba(60, 64, 67, 0.3), 0 1px 3px 1px rgba(60, 64, 67, 0.15);\n",
              "    fill: var(--button-hover-fill-color);\n",
              "  }\n",
              "\n",
              "  .colab-df-quickchart-complete:disabled,\n",
              "  .colab-df-quickchart-complete:disabled:hover {\n",
              "    background-color: var(--disabled-bg-color);\n",
              "    fill: var(--disabled-fill-color);\n",
              "    box-shadow: none;\n",
              "  }\n",
              "\n",
              "  .colab-df-spinner {\n",
              "    border: 2px solid var(--fill-color);\n",
              "    border-color: transparent;\n",
              "    border-bottom-color: var(--fill-color);\n",
              "    animation:\n",
              "      spin 1s steps(1) infinite;\n",
              "  }\n",
              "\n",
              "  @keyframes spin {\n",
              "    0% {\n",
              "      border-color: transparent;\n",
              "      border-bottom-color: var(--fill-color);\n",
              "      border-left-color: var(--fill-color);\n",
              "    }\n",
              "    20% {\n",
              "      border-color: transparent;\n",
              "      border-left-color: var(--fill-color);\n",
              "      border-top-color: var(--fill-color);\n",
              "    }\n",
              "    30% {\n",
              "      border-color: transparent;\n",
              "      border-left-color: var(--fill-color);\n",
              "      border-top-color: var(--fill-color);\n",
              "      border-right-color: var(--fill-color);\n",
              "    }\n",
              "    40% {\n",
              "      border-color: transparent;\n",
              "      border-right-color: var(--fill-color);\n",
              "      border-top-color: var(--fill-color);\n",
              "    }\n",
              "    60% {\n",
              "      border-color: transparent;\n",
              "      border-right-color: var(--fill-color);\n",
              "    }\n",
              "    80% {\n",
              "      border-color: transparent;\n",
              "      border-right-color: var(--fill-color);\n",
              "      border-bottom-color: var(--fill-color);\n",
              "    }\n",
              "    90% {\n",
              "      border-color: transparent;\n",
              "      border-bottom-color: var(--fill-color);\n",
              "    }\n",
              "  }\n",
              "</style>\n",
              "\n",
              "  <script>\n",
              "    async function quickchart(key) {\n",
              "      const quickchartButtonEl =\n",
              "        document.querySelector('#' + key + ' button');\n",
              "      quickchartButtonEl.disabled = true;  // To prevent multiple clicks.\n",
              "      quickchartButtonEl.classList.add('colab-df-spinner');\n",
              "      try {\n",
              "        const charts = await google.colab.kernel.invokeFunction(\n",
              "            'suggestCharts', [key], {});\n",
              "      } catch (error) {\n",
              "        console.error('Error during call to suggestCharts:', error);\n",
              "      }\n",
              "      quickchartButtonEl.classList.remove('colab-df-spinner');\n",
              "      quickchartButtonEl.classList.add('colab-df-quickchart-complete');\n",
              "    }\n",
              "    (() => {\n",
              "      let quickchartButtonEl =\n",
              "        document.querySelector('#df-43068250-ea9d-4495-b298-a6e7310e399a button');\n",
              "      quickchartButtonEl.style.display =\n",
              "        google.colab.kernel.accessAllowed ? 'block' : 'none';\n",
              "    })();\n",
              "  </script>\n",
              "</div>\n",
              "    </div>\n",
              "  </div>\n"
            ],
            "application/vnd.google.colaboratory.intrinsic+json": {
              "type": "dataframe",
              "variable_name": "axisX",
              "summary": "{\n  \"name\": \"axisX\",\n  \"rows\": 2,\n  \"fields\": [\n    {\n      \"column\": \"Profit\",\n      \"properties\": {\n        \"dtype\": \"number\",\n        \"std\": 9279.087549083279,\n        \"min\": 13155.762435444414,\n        \"max\": 26278.37389380531,\n        \"num_unique_values\": 2,\n        \"samples\": [\n          13155.762435444414,\n          26278.37389380531\n        ],\n        \"semantic_type\": \"\",\n        \"description\": \"\"\n      }\n    }\n  ]\n}"
            }
          },
          "metadata": {},
          "execution_count": 15
        },
        {
          "output_type": "display_data",
          "data": {
            "text/plain": [
              "<Figure size 640x480 with 1 Axes>"
            ],
            "image/png": "[encoded data removed]"
          },
          "metadata": {}
        }
      ]
    },
    {
      "cell_type": "code",
      "source": [
        "df"
      ],
      "metadata": {
        "colab": {
          "base_uri": "https://localhost:8080/",
          "height": 423
        },
        "id": "cj2c2TNwl0sw",
        "outputId": "04c956bb-8fe9-4325-fbc9-3c1f8ce0954d"
      },
      "execution_count": 16,
      "outputs": [
        {
          "output_type": "execute_result",
          "data": {
            "text/plain": [
              "      Payments  Costs  Profit  Age  Gender AgeGroup\n",
              "0         9400   8100    1300   19    male    18-24\n",
              "1        26600  13900   12700   29    male    25-39\n",
              "2         9750   6750    3000   20    male    18-24\n",
              "3        29700  11200   18500   18  female    18-24\n",
              "4        49700  10450   39250   21  female    18-24\n",
              "...        ...    ...     ...  ...     ...      ...\n",
              "8710      8650   8600      50   18    male    18-24\n",
              "8711     45350  14350   31000   19  female    18-24\n",
              "8712     41700   9900   31800   18  female    18-24\n",
              "8713    120600  49650   70950   21    male    18-24\n",
              "8714     21700  13150    8550   33  female    25-39\n",
              "\n",
              "[8713 rows x 6 columns]"
            ],
            "text/html": [
              "\n",
              "  <div id=\"df-cffbba72-ed14-4f15-b77a-8140c2c43622\" class=\"colab-df-container\">\n",
              "    <div>\n",
              "<style scoped>\n",
              "    .dataframe tbody tr th:only-of-type {\n",
              "        vertical-align: middle;\n",
              "    }\n",
              "\n",
              "    .dataframe tbody tr th {\n",
              "        vertical-align: top;\n",
              "    }\n",
              "\n",
              "    .dataframe thead th {\n",
              "        text-align: right;\n",
              "    }\n",
              "</style>\n",
              "<table border=\"1\" class=\"dataframe\">\n",
              "  <thead>\n",
              "    <tr style=\"text-align: right;\">\n",
              "      <th></th>\n",
              "      <th>Payments</th>\n",
              "      <th>Costs</th>\n",
              "      <th>Profit</th>\n",
              "      <th>Age</th>\n",
              "      <th>Gender</th>\n",
              "      <th>AgeGroup</th>\n",
              "    </tr>\n",
              "  </thead>\n",
              "  <tbody>\n",
              "    <tr>\n",
              "      <th>0</th>\n",
              "      <td>9400</td>\n",
              "      <td>8100</td>\n",
              "      <td>1300</td>\n",
              "      <td>19</td>\n",
              "      <td>male</td>\n",
              "      <td>18-24</td>\n",
              "    </tr>\n",
              "    <tr>\n",
              "      <th>1</th>\n",
              "      <td>26600</td>\n",
              "      <td>13900</td>\n",
              "      <td>12700</td>\n",
              "      <td>29</td>\n",
              "      <td>male</td>\n",
              "      <td>25-39</td>\n",
              "    </tr>\n",
              "    <tr>\n",
              "      <th>2</th>\n",
              "      <td>9750</td>\n",
              "      <td>6750</td>\n",
              "      <td>3000</td>\n",
              "      <td>20</td>\n",
              "      <td>male</td>\n",
              "      <td>18-24</td>\n",
              "    </tr>\n",
              "    <tr>\n",
              "      <th>3</th>\n",
              "      <td>29700</td>\n",
              "      <td>11200</td>\n",
              "      <td>18500</td>\n",
              "      <td>18</td>\n",
              "      <td>female</td>\n",
              "      <td>18-24</td>\n",
              "    </tr>\n",
              "    <tr>\n",
              "      <th>4</th>\n",
              "      <td>49700</td>\n",
              "      <td>10450</td>\n",
              "      <td>39250</td>\n",
              "      <td>21</td>\n",
              "      <td>female</td>\n",
              "      <td>18-24</td>\n",
              "    </tr>\n",
              "    <tr>\n",
              "      <th>...</th>\n",
              "      <td>...</td>\n",
              "      <td>...</td>\n",
              "      <td>...</td>\n",
              "      <td>...</td>\n",
              "      <td>...</td>\n",
              "      <td>...</td>\n",
              "    </tr>\n",
              "    <tr>\n",
              "      <th>8710</th>\n",
              "      <td>8650</td>\n",
              "      <td>8600</td>\n",
              "      <td>50</td>\n",
              "      <td>18</td>\n",
              "      <td>male</td>\n",
              "      <td>18-24</td>\n",
              "    </tr>\n",
              "    <tr>\n",
              "      <th>8711</th>\n",
              "      <td>45350</td>\n",
              "      <td>14350</td>\n",
              "      <td>31000</td>\n",
              "      <td>19</td>\n",
              "      <td>female</td>\n",
              "      <td>18-24</td>\n",
              "    </tr>\n",
              "    <tr>\n",
              "      <th>8712</th>\n",
              "      <td>41700</td>\n",
              "      <td>9900</td>\n",
              "      <td>31800</td>\n",
              "      <td>18</td>\n",
              "      <td>female</td>\n",
              "      <td>18-24</td>\n",
              "    </tr>\n",
              "    <tr>\n",
              "      <th>8713</th>\n",
              "      <td>120600</td>\n",
              "      <td>49650</td>\n",
              "      <td>70950</td>\n",
              "      <td>21</td>\n",
              "      <td>male</td>\n",
              "      <td>18-24</td>\n",
              "    </tr>\n",
              "    <tr>\n",
              "      <th>8714</th>\n",
              "      <td>21700</td>\n",
              "      <td>13150</td>\n",
              "      <td>8550</td>\n",
              "      <td>33</td>\n",
              "      <td>female</td>\n",
              "      <td>25-39</td>\n",
              "    </tr>\n",
              "  </tbody>\n",
              "</table>\n",
              "<p>8713 rows × 6 columns</p>\n",
              "</div>\n",
              "    <div class=\"colab-df-buttons\">\n",
              "\n",
              "  <div class=\"colab-df-container\">\n",
              "    <button class=\"colab-df-convert\" onclick=\"convertToInteractive('df-cffbba72-ed14-4f15-b77a-8140c2c43622')\"\n",
              "            title=\"Convert this dataframe to an interactive table.\"\n",
              "            style=\"display:none;\">\n",
              "\n",
              "  <svg xmlns=\"http://www.w3.org/2000/svg\" height=\"24px\" viewBox=\"0 -960 960 960\">\n",
              "    <path d=\"M120-120v-720h720v720H120Zm60-500h600v-160H180v160Zm220 220h160v-160H400v160Zm0 220h160v-160H400v160ZM180-400h160v-160H180v160Zm440 0h160v-160H620v160ZM180-180h160v-160H180v160Zm440 0h160v-160H620v160Z\"/>\n",
              "  </svg>\n",
              "    </button>\n",
              "\n",
              "  <style>\n",
              "    .colab-df-container {\n",
              "      display:flex;\n",
              "      gap: 12px;\n",
              "    }\n",
              "\n",
              "    .colab-df-convert {\n",
              "      background-color: #E8F0FE;\n",
              "      border: none;\n",
              "      border-radius: 50%;\n",
              "      cursor: pointer;\n",
              "      display: none;\n",
              "      fill: #1967D2;\n",
              "      height: 32px;\n",
              "      padding: 0 0 0 0;\n",
              "      width: 32px;\n",
              "    }\n",
              "\n",
              "    .colab-df-convert:hover {\n",
              "      background-color: #E2EBFA;\n",
              "      box-shadow: 0px 1px 2px rgba(60, 64, 67, 0.3), 0px 1px 3px 1px rgba(60, 64, 67, 0.15);\n",
              "      fill: #174EA6;\n",
              "    }\n",
              "\n",
              "    .colab-df-buttons div {\n",
              "      margin-bottom: 4px;\n",
              "    }\n",
              "\n",
              "    [theme=dark] .colab-df-convert {\n",
              "      background-color: #3B4455;\n",
              "      fill: #D2E3FC;\n",
              "    }\n",
              "\n",
              "    [theme=dark] .colab-df-convert:hover {\n",
              "      background-color: #434B5C;\n",
              "      box-shadow: 0px 1px 3px 1px rgba(0, 0, 0, 0.15);\n",
              "      filter: drop-shadow(0px 1px 2px rgba(0, 0, 0, 0.3));\n",
              "      fill: #FFFFFF;\n",
              "    }\n",
              "  </style>\n",
              "\n",
              "    <script>\n",
              "      const buttonEl =\n",
              "        document.querySelector('#df-cffbba72-ed14-4f15-b77a-8140c2c43622 button.colab-df-convert');\n",
              "      buttonEl.style.display =\n",
              "        google.colab.kernel.accessAllowed ? 'block' : 'none';\n",
              "\n",
              "      async function convertToInteractive(key) {\n",
              "        const element = document.querySelector('#df-cffbba72-ed14-4f15-b77a-8140c2c43622');\n",
              "        const dataTable =\n",
              "          await google.colab.kernel.invokeFunction('convertToInteractive',\n",
              "                                                    [key], {});\n",
              "        if (!dataTable) return;\n",
              "\n",
              "        const docLinkHtml = 'Like what you see? Visit the ' +\n",
              "          '<a target=\"_blank\" href=https://colab.research.google.com/notebooks/data_table.ipynb>data table notebook</a>'\n",
              "          + ' to learn more about interactive tables.';\n",
              "        element.innerHTML = '';\n",
              "        dataTable['output_type'] = 'display_data';\n",
              "        await google.colab.output.renderOutput(dataTable, element);\n",
              "        const docLink = document.createElement('div');\n",
              "        docLink.innerHTML = docLinkHtml;\n",
              "        element.appendChild(docLink);\n",
              "      }\n",
              "    </script>\n",
              "  </div>\n",
              "\n",
              "\n",
              "<div id=\"df-836418dd-e126-41d5-9e22-e7c4ae3a93cf\">\n",
              "  <button class=\"colab-df-quickchart\" onclick=\"quickchart('df-836418dd-e126-41d5-9e22-e7c4ae3a93cf')\"\n",
              "            title=\"Suggest charts\"\n",
              "            style=\"display:none;\">\n",
              "\n",
              "<svg xmlns=\"http://www.w3.org/2000/svg\" height=\"24px\"viewBox=\"0 0 24 24\"\n",
              "     width=\"24px\">\n",
              "    <g>\n",
              "        <path d=\"M19 3H5c-1.1 0-2 .9-2 2v14c0 1.1.9 2 2 2h14c1.1 0 2-.9 2-2V5c0-1.1-.9-2-2-2zM9 17H7v-7h2v7zm4 0h-2V7h2v10zm4 0h-2v-4h2v4z\"/>\n",
              "    </g>\n",
              "</svg>\n",
              "  </button>\n",
              "\n",
              "<style>\n",
              "  .colab-df-quickchart {\n",
              "      --bg-color: #E8F0FE;\n",
              "      --fill-color: #1967D2;\n",
              "      --hover-bg-color: #E2EBFA;\n",
              "      --hover-fill-color: #174EA6;\n",
              "      --disabled-fill-color: #AAA;\n",
              "      --disabled-bg-color: #DDD;\n",
              "  }\n",
              "\n",
              "  [theme=dark] .colab-df-quickchart {\n",
              "      --bg-color: #3B4455;\n",
              "      --fill-color: #D2E3FC;\n",
              "      --hover-bg-color: #434B5C;\n",
              "      --hover-fill-color: #FFFFFF;\n",
              "      --disabled-bg-color: #3B4455;\n",
              "      --disabled-fill-color: #666;\n",
              "  }\n",
              "\n",
              "  .colab-df-quickchart {\n",
              "    background-color: var(--bg-color);\n",
              "    border: none;\n",
              "    border-radius: 50%;\n",
              "    cursor: pointer;\n",
              "    display: none;\n",
              "    fill: var(--fill-color);\n",
              "    height: 32px;\n",
              "    padding: 0;\n",
              "    width: 32px;\n",
              "  }\n",
              "\n",
              "  .colab-df-quickchart:hover {\n",
              "    background-color: var(--hover-bg-color);\n",
              "    box-shadow: 0 1px 2px rgba(60, 64, 67, 0.3), 0 1px 3px 1px rgba(60, 64, 67, 0.15);\n",
              "    fill: var(--button-hover-fill-color);\n",
              "  }\n",
              "\n",
              "  .colab-df-quickchart-complete:disabled,\n",
              "  .colab-df-quickchart-complete:disabled:hover {\n",
              "    background-color: var(--disabled-bg-color);\n",
              "    fill: var(--disabled-fill-color);\n",
              "    box-shadow: none;\n",
              "  }\n",
              "\n",
              "  .colab-df-spinner {\n",
              "    border: 2px solid var(--fill-color);\n",
              "    border-color: transparent;\n",
              "    border-bottom-color: var(--fill-color);\n",
              "    animation:\n",
              "      spin 1s steps(1) infinite;\n",
              "  }\n",
              "\n",
              "  @keyframes spin {\n",
              "    0% {\n",
              "      border-color: transparent;\n",
              "      border-bottom-color: var(--fill-color);\n",
              "      border-left-color: var(--fill-color);\n",
              "    }\n",
              "    20% {\n",
              "      border-color: transparent;\n",
              "      border-left-color: var(--fill-color);\n",
              "      border-top-color: var(--fill-color);\n",
              "    }\n",
              "    30% {\n",
              "      border-color: transparent;\n",
              "      border-left-color: var(--fill-color);\n",
              "      border-top-color: var(--fill-color);\n",
              "      border-right-color: var(--fill-color);\n",
              "    }\n",
              "    40% {\n",
              "      border-color: transparent;\n",
              "      border-right-color: var(--fill-color);\n",
              "      border-top-color: var(--fill-color);\n",
              "    }\n",
              "    60% {\n",
              "      border-color: transparent;\n",
              "      border-right-color: var(--fill-color);\n",
              "    }\n",
              "    80% {\n",
              "      border-color: transparent;\n",
              "      border-right-color: var(--fill-color);\n",
              "      border-bottom-color: var(--fill-color);\n",
              "    }\n",
              "    90% {\n",
              "      border-color: transparent;\n",
              "      border-bottom-color: var(--fill-color);\n",
              "    }\n",
              "  }\n",
              "</style>\n",
              "\n",
              "  <script>\n",
              "    async function quickchart(key) {\n",
              "      const quickchartButtonEl =\n",
              "        document.querySelector('#' + key + ' button');\n",
              "      quickchartButtonEl.disabled = true;  // To prevent multiple clicks.\n",
              "      quickchartButtonEl.classList.add('colab-df-spinner');\n",
              "      try {\n",
              "        const charts = await google.colab.kernel.invokeFunction(\n",
              "            'suggestCharts', [key], {});\n",
              "      } catch (error) {\n",
              "        console.error('Error during call to suggestCharts:', error);\n",
              "      }\n",
              "      quickchartButtonEl.classList.remove('colab-df-spinner');\n",
              "      quickchartButtonEl.classList.add('colab-df-quickchart-complete');\n",
              "    }\n",
              "    (() => {\n",
              "      let quickchartButtonEl =\n",
              "        document.querySelector('#df-836418dd-e126-41d5-9e22-e7c4ae3a93cf button');\n",
              "      quickchartButtonEl.style.display =\n",
              "        google.colab.kernel.accessAllowed ? 'block' : 'none';\n",
              "    })();\n",
              "  </script>\n",
              "</div>\n",
              "    </div>\n",
              "  </div>\n"
            ],
            "application/vnd.google.colaboratory.intrinsic+json": {
              "type": "dataframe",
              "variable_name": "df",
              "summary": "{\n  \"name\": \"df\",\n  \"rows\": 8713,\n  \"fields\": [\n    {\n      \"column\": \"Payments\",\n      \"properties\": {\n        \"dtype\": \"number\",\n        \"std\": 27337,\n        \"min\": 3750,\n        \"max\": 148300,\n        \"num_unique_values\": 1514,\n        \"samples\": [\n          6850,\n          20950,\n          119900\n        ],\n        \"semantic_type\": \"\",\n        \"description\": \"\"\n      }\n    },\n    {\n      \"column\": \"Costs\",\n      \"properties\": {\n        \"dtype\": \"number\",\n        \"std\": 8039,\n        \"min\": 3500,\n        \"max\": 54350,\n        \"num_unique_values\": 702,\n        \"samples\": [\n          39850,\n          7950,\n          8650\n        ],\n        \"semantic_type\": \"\",\n        \"description\": \"\"\n      }\n    },\n    {\n      \"column\": \"Profit\",\n      \"properties\": {\n        \"dtype\": \"number\",\n        \"std\": 20125,\n        \"min\": -10200,\n        \"max\": 109500,\n        \"num_unique_values\": 1384,\n        \"samples\": [\n          20400,\n          31900,\n          41200\n        ],\n        \"semantic_type\": \"\",\n        \"description\": \"\"\n      }\n    },\n    {\n      \"column\": \"Age\",\n      \"properties\": {\n        \"dtype\": \"number\",\n        \"std\": 5,\n        \"min\": 18,\n        \"max\": 49,\n        \"num_unique_values\": 31,\n        \"samples\": [\n          45,\n          34,\n          46\n        ],\n        \"semantic_type\": \"\",\n        \"description\": \"\"\n      }\n    },\n    {\n      \"column\": \"Gender\",\n      \"properties\": {\n        \"dtype\": \"category\",\n        \"num_unique_values\": 2,\n        \"samples\": [\n          \"female\",\n          \"male\"\n        ],\n        \"semantic_type\": \"\",\n        \"description\": \"\"\n      }\n    },\n    {\n      \"column\": \"AgeGroup\",\n      \"properties\": {\n        \"dtype\": \"category\",\n        \"num_unique_values\": 3,\n        \"samples\": [\n          \"18-24\",\n          \"25-39\"\n        ],\n        \"semantic_type\": \"\",\n        \"description\": \"\"\n      }\n    }\n  ]\n}"
            }
          },
          "metadata": {},
          "execution_count": 16
        }
      ]
    },
    {
      "cell_type": "markdown",
      "source": [
        "$H_0 : \\mu_1 = \\mu2$\n",
        "\n",
        "$H_1 : \\mu_1 \\neq \\mu2$"
      ],
      "metadata": {
        "id": "D2L4FbRi_kD-"
      }
    },
    {
      "cell_type": "code",
      "source": [
        "df_18_24_m = df[(df['AgeGroup'] == '18-24') & (df['Gender'] == 'male')]\n",
        "df_18_24_f = df[(df['AgeGroup'] == '18-24') & (df['Gender'] == 'female')]\n",
        "\n",
        "z_st, p_value = ztest_2sample_data(sample1 = df_18_24_m['Profit'],\n",
        "                                   sample2 = df_18_24_f['Profit'],\n",
        "                                   alternative = 'two-sided')\n",
        "\n",
        "print(f'p-value: {p_value}')"
      ],
      "metadata": {
        "colab": {
          "base_uri": "https://localhost:8080/"
        },
        "id": "XnGGKAAQlF8B",
        "outputId": "35347d56-2319-44ee-917a-e7f08be2e296"
      },
      "execution_count": 17,
      "outputs": [
        {
          "output_type": "stream",
          "name": "stdout",
          "text": [
            "p-value: 0.0\n"
          ]
        }
      ]
    },
    {
      "cell_type": "markdown",
      "source": [
        "для мужчин 18-24"
      ],
      "metadata": {
        "id": "qOqCyIVlG4Xx"
      }
    },
    {
      "cell_type": "code",
      "source": [
        "profit_avg_all = df['Profit'].mean()\n",
        "z_1, p_value_1 = ztest_1sample_data(pop_mean = 15_000,\n",
        "                                   sample = df_18_24_m['Profit'],\n",
        "                                   alternative = 'greater')\n",
        "\n",
        "print(f'z test: {z_1.round(5)}\\np-value: {p_value_1.round(5) * 100}%')"
      ],
      "metadata": {
        "colab": {
          "base_uri": "https://localhost:8080/"
        },
        "id": "p1-qpuebG1ks",
        "outputId": "610a868d-9aff-4dbe-bcf4-8946ce464282"
      },
      "execution_count": 18,
      "outputs": [
        {
          "output_type": "stream",
          "name": "stdout",
          "text": [
            "z test: -4.06508\n",
            "p-value: 99.998%\n"
          ]
        }
      ]
    },
    {
      "cell_type": "markdown",
      "source": [
        "для женщин 18-24"
      ],
      "metadata": {
        "id": "8gVtkDWTQEFM"
      }
    },
    {
      "cell_type": "code",
      "source": [
        "profit_avg_all = df['Profit'].mean()\n",
        "z_1, p_value_1 = ztest_1sample_data(pop_mean = 15_000,\n",
        "                                   sample =  df_18_24_f['Profit'],\n",
        "                                   alternative = 'greater')\n",
        "\n",
        "print(f'z test: {z_1.round(5)}\\np-value: {p_value_1 * 100}%')"
      ],
      "metadata": {
        "colab": {
          "base_uri": "https://localhost:8080/"
        },
        "id": "xCg1ffqrG3s1",
        "outputId": "c4a6cd7c-de74-4288-b95c-3caac7d0a2b0"
      },
      "execution_count": 19,
      "outputs": [
        {
          "output_type": "stream",
          "name": "stdout",
          "text": [
            "z test: 66.48343\n",
            "p-value: 0.0%\n"
          ]
        }
      ]
    },
    {
      "cell_type": "markdown",
      "source": [
        "#Красный уровень"
      ],
      "metadata": {
        "id": "KBkrG-DHNVxD"
      }
    },
    {
      "cell_type": "markdown",
      "source": [
        "###Доп графики"
      ],
      "metadata": {
        "id": "DHGrAo0xUqwn"
      }
    },
    {
      "cell_type": "code",
      "source": [
        "for age in range(18,25):\n",
        "    plt.hist(df_18_24_f[df_18_24_f['Age'] == age]['Profit'], alpha = 0.5, label= f'Female {age}y.o.')\n",
        "plt.legend()\n",
        "plt.ylabel('Количество клиентов')\n",
        "plt.xlabel('Profit')\n",
        "plt.title('Кол-во клиентов с определенным Profit в категории женщин 18-24 лет')"
      ],
      "metadata": {
        "colab": {
          "base_uri": "https://localhost:8080/",
          "height": 490
        },
        "id": "1syKCVwMQoBR",
        "outputId": "67eaa650-376a-470d-be82-4ac65bbaecb7"
      },
      "execution_count": 20,
      "outputs": [
        {
          "output_type": "execute_result",
          "data": {
            "text/plain": [
              "Text(0.5, 1.0, 'Кол-во клиентов с определенным Profit в категории женщин 18-24 лет')"
            ]
          },
          "metadata": {},
          "execution_count": 20
        },
        {
          "output_type": "display_data",
          "data": {
            "text/plain": [
              "<Figure size 640x480 with 1 Axes>"
            ],
            "image/png": "[encoded data removed]"
          },
          "metadata": {}
        }
      ]
    },
    {
      "cell_type": "code",
      "source": [
        "bars = []\n",
        "X_marks = []\n",
        "for age in range(18,25):\n",
        "    X_marks.append(age)\n",
        "    bars.append(df_18_24_f[df_18_24_f['Age'] == age]['Profit'].mean())\n",
        "\n",
        "plt.bar(x = X_marks, height = bars, color = 'hotpink')\n",
        "plt.xlabel('Возраст(лет)')\n",
        "plt.ylabel('Profit')\n",
        "plt.title('Средний профит для всех возрастов в категории женщин 18-24 лет')"
      ],
      "metadata": {
        "colab": {
          "base_uri": "https://localhost:8080/",
          "height": 490
        },
        "id": "U7vaP4mnRiKy",
        "outputId": "98e6bf88-2ef2-4fa4-83ef-19f0e8a1d9c7"
      },
      "execution_count": 21,
      "outputs": [
        {
          "output_type": "execute_result",
          "data": {
            "text/plain": [
              "Text(0.5, 1.0, 'Средний профит для всех возрастов в категории женщин 18-24 лет')"
            ]
          },
          "metadata": {},
          "execution_count": 21
        },
        {
          "output_type": "display_data",
          "data": {
            "text/plain": [
              "<Figure size 640x480 with 1 Axes>"
            ],
            "image/png": "[encoded data removed]"
          },
          "metadata": {}
        }
      ]
    },
    {
      "cell_type": "markdown",
      "source": [
        "###Расчеты"
      ],
      "metadata": {
        "id": "HvFEvNdDUxVo"
      }
    },
    {
      "cell_type": "markdown",
      "source": [
        "разбиваем на новые поло возрастные категории"
      ],
      "metadata": {
        "id": "oBwSj-mDO5r1"
      }
    },
    {
      "cell_type": "code",
      "source": [
        "df_18_21_f = df_18_24_f[(df_18_24_f['Age'] <=21)]\n",
        "df_22_24_f = df_18_24_f[(df_18_24_f['Age'] >=22)]\n",
        "df_18_21_f['Age'].unique(), df_22_24_f['Age'].unique()"
      ],
      "metadata": {
        "colab": {
          "base_uri": "https://localhost:8080/"
        },
        "id": "1WA4dgrLNeMt",
        "outputId": "4fefd463-9ff0-4e2a-b2f5-4783b7173c92"
      },
      "execution_count": 22,
      "outputs": [
        {
          "output_type": "execute_result",
          "data": {
            "text/plain": [
              "(array([18, 21, 19, 20]), array([22, 23, 24]))"
            ]
          },
          "metadata": {},
          "execution_count": 22
        }
      ]
    },
    {
      "cell_type": "markdown",
      "source": [
        "$H_0 : \\mu_1 = \\mu2$\n",
        "\n",
        "$H_1 : \\mu_1 \\neq \\mu2$"
      ],
      "metadata": {
        "id": "0UW098eNPx6S"
      }
    },
    {
      "cell_type": "code",
      "source": [
        "z_st, p_value = ztest_2sample_data(sample1 = df_18_21_f['Profit'],\n",
        "                                   sample2 = df_22_24_f['Profit'],\n",
        "                                   alternative = 'two-sided')\n",
        "\n",
        "print(f'p-value: {p_value}')"
      ],
      "metadata": {
        "colab": {
          "base_uri": "https://localhost:8080/"
        },
        "outputId": "21a5a012-4133-4042-b033-a08a41eb7a42",
        "id": "LI3OUSl8P39U"
      },
      "execution_count": 23,
      "outputs": [
        {
          "output_type": "stream",
          "name": "stdout",
          "text": [
            "p-value: 0.0\n"
          ]
        }
      ]
    },
    {
      "cell_type": "markdown",
      "source": [
        "для женщин 18-21"
      ],
      "metadata": {
        "id": "h44Qj1I3QKX3"
      }
    },
    {
      "cell_type": "code",
      "source": [
        "z_1, p_value_1 = ztest_1sample_data(pop_mean = 15_000,\n",
        "                                   sample = df_18_21_f['Profit'],\n",
        "                                   alternative = 'greater')\n",
        "\n",
        "print(f'z test: {z_1.round(5)}\\np-value: {p_value_1 * 100}%')"
      ],
      "metadata": {
        "colab": {
          "base_uri": "https://localhost:8080/"
        },
        "outputId": "fa523078-fd12-48a8-c1a8-2668d0244ff4",
        "id": "9Q2X07IuQJyQ"
      },
      "execution_count": 24,
      "outputs": [
        {
          "output_type": "stream",
          "name": "stdout",
          "text": [
            "z test: 59.57085\n",
            "p-value: 0.0%\n"
          ]
        }
      ]
    },
    {
      "cell_type": "markdown",
      "source": [
        "для женщин 22-24"
      ],
      "metadata": {
        "id": "Lw-p9A4iQJyQ"
      }
    },
    {
      "cell_type": "code",
      "source": [
        "z_1, p_value_1 = ztest_1sample_data(pop_mean = 15_000,\n",
        "                                   sample =  df_22_24_f['Profit'],\n",
        "                                   alternative = 'greater')\n",
        "\n",
        "print(f'z test: {z_1.round(5)}\\np-value: {p_value_1 * 100}%')"
      ],
      "metadata": {
        "colab": {
          "base_uri": "https://localhost:8080/"
        },
        "outputId": "8a185177-7b4f-4d14-b2df-c4274f802821",
        "id": "6XXI9BF9QJyR"
      },
      "execution_count": 25,
      "outputs": [
        {
          "output_type": "stream",
          "name": "stdout",
          "text": [
            "z test: 32.50075\n",
            "p-value: 0.0%\n"
          ]
        }
      ]
    },
    {
      "cell_type": "markdown",
      "source": [
        "средний профит в этих категориях"
      ],
      "metadata": {
        "id": "GfPAZ59dI7hE"
      }
    },
    {
      "cell_type": "code",
      "source": [
        "df_18_21_f['Profit'].mean(), df_22_24_f['Profit'].mean()"
      ],
      "metadata": {
        "colab": {
          "base_uri": "https://localhost:8080/"
        },
        "id": "mZMGLLZMIq9C",
        "outputId": "b334e2ae-dd3f-4bf1-d7e4-ecfdd355098c"
      },
      "execution_count": 26,
      "outputs": [
        {
          "output_type": "execute_result",
          "data": {
            "text/plain": [
              "(25716.510438858117, 29891.23287671233)"
            ]
          },
          "metadata": {},
          "execution_count": 26
        }
      ]
    },
    {
      "cell_type": "markdown",
      "source": [
        "размеры выборок"
      ],
      "metadata": {
        "id": "Cw3UfZfMJ7pm"
      }
    },
    {
      "cell_type": "code",
      "source": [
        "len(df_18_21_f), len(df_22_24_f)"
      ],
      "metadata": {
        "colab": {
          "base_uri": "https://localhost:8080/"
        },
        "id": "NiuCQ4QxJhkp",
        "outputId": "f456e096-a5e7-415c-f089-29f978219d9a"
      },
      "execution_count": 27,
      "outputs": [
        {
          "output_type": "execute_result",
          "data": {
            "text/plain": [
              "(2347, 365)"
            ]
          },
          "metadata": {},
          "execution_count": 27
        }
      ]
    },
    {
      "cell_type": "markdown",
      "source": [
        "стандартное отклонение"
      ],
      "metadata": {
        "id": "pdnGcPcKKEsG"
      }
    },
    {
      "cell_type": "code",
      "source": [
        "df_18_21_f['Profit'].std(), df_22_24_f['Profit'].std()"
      ],
      "metadata": {
        "colab": {
          "base_uri": "https://localhost:8080/"
        },
        "id": "qkknQqAMJ7FK",
        "outputId": "4f2dafc9-3da1-42c7-843a-636b623f31e3"
      },
      "execution_count": 28,
      "outputs": [
        {
          "output_type": "execute_result",
          "data": {
            "text/plain": [
              "(8715.176171686686, 8753.538836216921)"
            ]
          },
          "metadata": {},
          "execution_count": 28
        }
      ]
    },
    {
      "cell_type": "code",
      "source": [
        "1 - 0.95 ** 21"
      ],
      "metadata": {
        "colab": {
          "base_uri": "https://localhost:8080/"
        },
        "id": "MSDdbKNSMHjt",
        "outputId": "4985cc3e-4589-4959-f40b-73a7a007d654"
      },
      "execution_count": 29,
      "outputs": [
        {
          "output_type": "execute_result",
          "data": {
            "text/plain": [
              "0.6594383737118852"
            ]
          },
          "metadata": {},
          "execution_count": 29
        }
      ]
    },
    {
      "cell_type": "code",
      "source": [
        "alpha = 0.05\n",
        "while 1:\n",
        "    alpha -= 0.00001\n",
        "    if 1 - (1 - alpha) ** 21 < 0.05:\n",
        "        print(alpha, 1 - (1 - alpha) ** 21)\n",
        "        break"
      ],
      "metadata": {
        "colab": {
          "base_uri": "https://localhost:8080/"
        },
        "id": "V37_Qg_WMxzt",
        "outputId": "d33f1b5f-9c10-4594-b96f-2139b718c42e"
      },
      "execution_count": 30,
      "outputs": [
        {
          "output_type": "stream",
          "name": "stdout",
          "text": [
            "0.002429999999995375 0.04980884807520425\n"
          ]
        }
      ]
    },
    {
      "cell_type": "code",
      "source": [
        "0.0024 * 21"
      ],
      "metadata": {
        "colab": {
          "base_uri": "https://localhost:8080/"
        },
        "id": "G_kZTrHdR_pT",
        "outputId": "f706ad40-f5c5-4a6b-95b1-252f6d74a693"
      },
      "execution_count": 31,
      "outputs": [
        {
          "output_type": "execute_result",
          "data": {
            "text/plain": [
              "0.05039999999999999"
            ]
          },
          "metadata": {},
          "execution_count": 31
        }
      ]
    },
    {
      "cell_type": "markdown",
      "source": [
        "#Черный уровень"
      ],
      "metadata": {
        "id": "xZoj2X9So-0o"
      }
    },
    {
      "cell_type": "markdown",
      "source": [
        "###2"
      ],
      "metadata": {
        "id": "NdYFA83ls7g0"
      }
    },
    {
      "cell_type": "markdown",
      "source": [
        "в первом кейсе \"Золотая жила\", золотой жилой была категория мужчины 21-24"
      ],
      "metadata": {
        "id": "fY-rthtvpC5L"
      }
    },
    {
      "cell_type": "code",
      "source": [
        "bars= []\n",
        "ages_for_bars = []\n",
        "\n",
        "\n",
        "for age in range(18,28):\n",
        "    mean_profit_by_age = df[(df['Age'] == age) & (df['Gender'] == 'male')]['Profit'].mean()\n",
        "    print(f'age: {age}   profit: {int(mean_profit_by_age)}')\n",
        "\n",
        "    ages_for_bars.append(age)\n",
        "    bars.append(mean_profit_by_age)\n",
        "\n",
        "\n",
        "plt.bar(height=bars, x=ages_for_bars)"
      ],
      "metadata": {
        "colab": {
          "base_uri": "https://localhost:8080/",
          "height": 631
        },
        "id": "ZhoTzvsxpBgc",
        "outputId": "3c44a9fc-2441-4f3b-a04e-1459ca0f1b41"
      },
      "execution_count": 32,
      "outputs": [
        {
          "output_type": "stream",
          "name": "stdout",
          "text": [
            "age: 18   profit: 2096\n",
            "age: 19   profit: 2040\n",
            "age: 20   profit: 1919\n",
            "age: 21   profit: 78856\n",
            "age: 22   profit: 80067\n",
            "age: 23   profit: 80548\n",
            "age: 24   profit: 78583\n",
            "age: 25   profit: 7534\n",
            "age: 26   profit: 7684\n",
            "age: 27   profit: 7850\n"
          ]
        },
        {
          "output_type": "execute_result",
          "data": {
            "text/plain": [
              "<BarContainer object of 10 artists>"
            ]
          },
          "metadata": {},
          "execution_count": 32
        },
        {
          "output_type": "display_data",
          "data": {
            "text/plain": [
              "<Figure size 640x480 with 1 Axes>"
            ],
            "image/png": "[encoded data removed]"
          },
          "metadata": {}
        }
      ]
    },
    {
      "cell_type": "code",
      "source": [
        "df_gold_mine = df[(df['Age'] >= 21) & (df['Age'] <= 24) & (df['Gender'] == 'male')]\n",
        "df_gold_mine"
      ],
      "metadata": {
        "colab": {
          "base_uri": "https://localhost:8080/",
          "height": 423
        },
        "id": "eX7r9S_prLPs",
        "outputId": "993d473e-6850-457b-ecf7-92735dbf545f"
      },
      "execution_count": 33,
      "outputs": [
        {
          "output_type": "execute_result",
          "data": {
            "text/plain": [
              "      Payments  Costs  Profit  Age Gender AgeGroup\n",
              "9       111400  35650   75750   21   male    18-24\n",
              "67      128950  40150   88800   21   male    18-24\n",
              "80      116550  44850   71700   24   male    18-24\n",
              "90      126500  41650   84850   23   male    18-24\n",
              "99      133150  33500   99650   23   male    18-24\n",
              "...        ...    ...     ...  ...    ...      ...\n",
              "8604    100200  40450   59750   21   male    18-24\n",
              "8608    120900  42650   78250   21   male    18-24\n",
              "8634    103350  35100   68250   22   male    18-24\n",
              "8657    125400  32700   92700   23   male    18-24\n",
              "8713    120600  49650   70950   21   male    18-24\n",
              "\n",
              "[529 rows x 6 columns]"
            ],
            "text/html": [
              "\n",
              "  <div id=\"df-f49704d7-dfc2-4127-b9c1-4a8ef077b554\" class=\"colab-df-container\">\n",
              "    <div>\n",
              "<style scoped>\n",
              "    .dataframe tbody tr th:only-of-type {\n",
              "        vertical-align: middle;\n",
              "    }\n",
              "\n",
              "    .dataframe tbody tr th {\n",
              "        vertical-align: top;\n",
              "    }\n",
              "\n",
              "    .dataframe thead th {\n",
              "        text-align: right;\n",
              "    }\n",
              "</style>\n",
              "<table border=\"1\" class=\"dataframe\">\n",
              "  <thead>\n",
              "    <tr style=\"text-align: right;\">\n",
              "      <th></th>\n",
              "      <th>Payments</th>\n",
              "      <th>Costs</th>\n",
              "      <th>Profit</th>\n",
              "      <th>Age</th>\n",
              "      <th>Gender</th>\n",
              "      <th>AgeGroup</th>\n",
              "    </tr>\n",
              "  </thead>\n",
              "  <tbody>\n",
              "    <tr>\n",
              "      <th>9</th>\n",
              "      <td>111400</td>\n",
              "      <td>35650</td>\n",
              "      <td>75750</td>\n",
              "      <td>21</td>\n",
              "      <td>male</td>\n",
              "      <td>18-24</td>\n",
              "    </tr>\n",
              "    <tr>\n",
              "      <th>67</th>\n",
              "      <td>128950</td>\n",
              "      <td>40150</td>\n",
              "      <td>88800</td>\n",
              "      <td>21</td>\n",
              "      <td>male</td>\n",
              "      <td>18-24</td>\n",
              "    </tr>\n",
              "    <tr>\n",
              "      <th>80</th>\n",
              "      <td>116550</td>\n",
              "      <td>44850</td>\n",
              "      <td>71700</td>\n",
              "      <td>24</td>\n",
              "      <td>male</td>\n",
              "      <td>18-24</td>\n",
              "    </tr>\n",
              "    <tr>\n",
              "      <th>90</th>\n",
              "      <td>126500</td>\n",
              "      <td>41650</td>\n",
              "      <td>84850</td>\n",
              "      <td>23</td>\n",
              "      <td>male</td>\n",
              "      <td>18-24</td>\n",
              "    </tr>\n",
              "    <tr>\n",
              "      <th>99</th>\n",
              "      <td>133150</td>\n",
              "      <td>33500</td>\n",
              "      <td>99650</td>\n",
              "      <td>23</td>\n",
              "      <td>male</td>\n",
              "      <td>18-24</td>\n",
              "    </tr>\n",
              "    <tr>\n",
              "      <th>...</th>\n",
              "      <td>...</td>\n",
              "      <td>...</td>\n",
              "      <td>...</td>\n",
              "      <td>...</td>\n",
              "      <td>...</td>\n",
              "      <td>...</td>\n",
              "    </tr>\n",
              "    <tr>\n",
              "      <th>8604</th>\n",
              "      <td>100200</td>\n",
              "      <td>40450</td>\n",
              "      <td>59750</td>\n",
              "      <td>21</td>\n",
              "      <td>male</td>\n",
              "      <td>18-24</td>\n",
              "    </tr>\n",
              "    <tr>\n",
              "      <th>8608</th>\n",
              "      <td>120900</td>\n",
              "      <td>42650</td>\n",
              "      <td>78250</td>\n",
              "      <td>21</td>\n",
              "      <td>male</td>\n",
              "      <td>18-24</td>\n",
              "    </tr>\n",
              "    <tr>\n",
              "      <th>8634</th>\n",
              "      <td>103350</td>\n",
              "      <td>35100</td>\n",
              "      <td>68250</td>\n",
              "      <td>22</td>\n",
              "      <td>male</td>\n",
              "      <td>18-24</td>\n",
              "    </tr>\n",
              "    <tr>\n",
              "      <th>8657</th>\n",
              "      <td>125400</td>\n",
              "      <td>32700</td>\n",
              "      <td>92700</td>\n",
              "      <td>23</td>\n",
              "      <td>male</td>\n",
              "      <td>18-24</td>\n",
              "    </tr>\n",
              "    <tr>\n",
              "      <th>8713</th>\n",
              "      <td>120600</td>\n",
              "      <td>49650</td>\n",
              "      <td>70950</td>\n",
              "      <td>21</td>\n",
              "      <td>male</td>\n",
              "      <td>18-24</td>\n",
              "    </tr>\n",
              "  </tbody>\n",
              "</table>\n",
              "<p>529 rows × 6 columns</p>\n",
              "</div>\n",
              "    <div class=\"colab-df-buttons\">\n",
              "\n",
              "  <div class=\"colab-df-container\">\n",
              "    <button class=\"colab-df-convert\" onclick=\"convertToInteractive('df-f49704d7-dfc2-4127-b9c1-4a8ef077b554')\"\n",
              "            title=\"Convert this dataframe to an interactive table.\"\n",
              "            style=\"display:none;\">\n",
              "\n",
              "  <svg xmlns=\"http://www.w3.org/2000/svg\" height=\"24px\" viewBox=\"0 -960 960 960\">\n",
              "    <path d=\"M120-120v-720h720v720H120Zm60-500h600v-160H180v160Zm220 220h160v-160H400v160Zm0 220h160v-160H400v160ZM180-400h160v-160H180v160Zm440 0h160v-160H620v160ZM180-180h160v-160H180v160Zm440 0h160v-160H620v160Z\"/>\n",
              "  </svg>\n",
              "    </button>\n",
              "\n",
              "  <style>\n",
              "    .colab-df-container {\n",
              "      display:flex;\n",
              "      gap: 12px;\n",
              "    }\n",
              "\n",
              "    .colab-df-convert {\n",
              "      background-color: #E8F0FE;\n",
              "      border: none;\n",
              "      border-radius: 50%;\n",
              "      cursor: pointer;\n",
              "      display: none;\n",
              "      fill: #1967D2;\n",
              "      height: 32px;\n",
              "      padding: 0 0 0 0;\n",
              "      width: 32px;\n",
              "    }\n",
              "\n",
              "    .colab-df-convert:hover {\n",
              "      background-color: #E2EBFA;\n",
              "      box-shadow: 0px 1px 2px rgba(60, 64, 67, 0.3), 0px 1px 3px 1px rgba(60, 64, 67, 0.15);\n",
              "      fill: #174EA6;\n",
              "    }\n",
              "\n",
              "    .colab-df-buttons div {\n",
              "      margin-bottom: 4px;\n",
              "    }\n",
              "\n",
              "    [theme=dark] .colab-df-convert {\n",
              "      background-color: #3B4455;\n",
              "      fill: #D2E3FC;\n",
              "    }\n",
              "\n",
              "    [theme=dark] .colab-df-convert:hover {\n",
              "      background-color: #434B5C;\n",
              "      box-shadow: 0px 1px 3px 1px rgba(0, 0, 0, 0.15);\n",
              "      filter: drop-shadow(0px 1px 2px rgba(0, 0, 0, 0.3));\n",
              "      fill: #FFFFFF;\n",
              "    }\n",
              "  </style>\n",
              "\n",
              "    <script>\n",
              "      const buttonEl =\n",
              "        document.querySelector('#df-f49704d7-dfc2-4127-b9c1-4a8ef077b554 button.colab-df-convert');\n",
              "      buttonEl.style.display =\n",
              "        google.colab.kernel.accessAllowed ? 'block' : 'none';\n",
              "\n",
              "      async function convertToInteractive(key) {\n",
              "        const element = document.querySelector('#df-f49704d7-dfc2-4127-b9c1-4a8ef077b554');\n",
              "        const dataTable =\n",
              "          await google.colab.kernel.invokeFunction('convertToInteractive',\n",
              "                                                    [key], {});\n",
              "        if (!dataTable) return;\n",
              "\n",
              "        const docLinkHtml = 'Like what you see? Visit the ' +\n",
              "          '<a target=\"_blank\" href=https://colab.research.google.com/notebooks/data_table.ipynb>data table notebook</a>'\n",
              "          + ' to learn more about interactive tables.';\n",
              "        element.innerHTML = '';\n",
              "        dataTable['output_type'] = 'display_data';\n",
              "        await google.colab.output.renderOutput(dataTable, element);\n",
              "        const docLink = document.createElement('div');\n",
              "        docLink.innerHTML = docLinkHtml;\n",
              "        element.appendChild(docLink);\n",
              "      }\n",
              "    </script>\n",
              "  </div>\n",
              "\n",
              "\n",
              "<div id=\"df-d91283c2-93fb-49fc-abd3-bbf668a99f02\">\n",
              "  <button class=\"colab-df-quickchart\" onclick=\"quickchart('df-d91283c2-93fb-49fc-abd3-bbf668a99f02')\"\n",
              "            title=\"Suggest charts\"\n",
              "            style=\"display:none;\">\n",
              "\n",
              "<svg xmlns=\"http://www.w3.org/2000/svg\" height=\"24px\"viewBox=\"0 0 24 24\"\n",
              "     width=\"24px\">\n",
              "    <g>\n",
              "        <path d=\"M19 3H5c-1.1 0-2 .9-2 2v14c0 1.1.9 2 2 2h14c1.1 0 2-.9 2-2V5c0-1.1-.9-2-2-2zM9 17H7v-7h2v7zm4 0h-2V7h2v10zm4 0h-2v-4h2v4z\"/>\n",
              "    </g>\n",
              "</svg>\n",
              "  </button>\n",
              "\n",
              "<style>\n",
              "  .colab-df-quickchart {\n",
              "      --bg-color: #E8F0FE;\n",
              "      --fill-color: #1967D2;\n",
              "      --hover-bg-color: #E2EBFA;\n",
              "      --hover-fill-color: #174EA6;\n",
              "      --disabled-fill-color: #AAA;\n",
              "      --disabled-bg-color: #DDD;\n",
              "  }\n",
              "\n",
              "  [theme=dark] .colab-df-quickchart {\n",
              "      --bg-color: #3B4455;\n",
              "      --fill-color: #D2E3FC;\n",
              "      --hover-bg-color: #434B5C;\n",
              "      --hover-fill-color: #FFFFFF;\n",
              "      --disabled-bg-color: #3B4455;\n",
              "      --disabled-fill-color: #666;\n",
              "  }\n",
              "\n",
              "  .colab-df-quickchart {\n",
              "    background-color: var(--bg-color);\n",
              "    border: none;\n",
              "    border-radius: 50%;\n",
              "    cursor: pointer;\n",
              "    display: none;\n",
              "    fill: var(--fill-color);\n",
              "    height: 32px;\n",
              "    padding: 0;\n",
              "    width: 32px;\n",
              "  }\n",
              "\n",
              "  .colab-df-quickchart:hover {\n",
              "    background-color: var(--hover-bg-color);\n",
              "    box-shadow: 0 1px 2px rgba(60, 64, 67, 0.3), 0 1px 3px 1px rgba(60, 64, 67, 0.15);\n",
              "    fill: var(--button-hover-fill-color);\n",
              "  }\n",
              "\n",
              "  .colab-df-quickchart-complete:disabled,\n",
              "  .colab-df-quickchart-complete:disabled:hover {\n",
              "    background-color: var(--disabled-bg-color);\n",
              "    fill: var(--disabled-fill-color);\n",
              "    box-shadow: none;\n",
              "  }\n",
              "\n",
              "  .colab-df-spinner {\n",
              "    border: 2px solid var(--fill-color);\n",
              "    border-color: transparent;\n",
              "    border-bottom-color: var(--fill-color);\n",
              "    animation:\n",
              "      spin 1s steps(1) infinite;\n",
              "  }\n",
              "\n",
              "  @keyframes spin {\n",
              "    0% {\n",
              "      border-color: transparent;\n",
              "      border-bottom-color: var(--fill-color);\n",
              "      border-left-color: var(--fill-color);\n",
              "    }\n",
              "    20% {\n",
              "      border-color: transparent;\n",
              "      border-left-color: var(--fill-color);\n",
              "      border-top-color: var(--fill-color);\n",
              "    }\n",
              "    30% {\n",
              "      border-color: transparent;\n",
              "      border-left-color: var(--fill-color);\n",
              "      border-top-color: var(--fill-color);\n",
              "      border-right-color: var(--fill-color);\n",
              "    }\n",
              "    40% {\n",
              "      border-color: transparent;\n",
              "      border-right-color: var(--fill-color);\n",
              "      border-top-color: var(--fill-color);\n",
              "    }\n",
              "    60% {\n",
              "      border-color: transparent;\n",
              "      border-right-color: var(--fill-color);\n",
              "    }\n",
              "    80% {\n",
              "      border-color: transparent;\n",
              "      border-right-color: var(--fill-color);\n",
              "      border-bottom-color: var(--fill-color);\n",
              "    }\n",
              "    90% {\n",
              "      border-color: transparent;\n",
              "      border-bottom-color: var(--fill-color);\n",
              "    }\n",
              "  }\n",
              "</style>\n",
              "\n",
              "  <script>\n",
              "    async function quickchart(key) {\n",
              "      const quickchartButtonEl =\n",
              "        document.querySelector('#' + key + ' button');\n",
              "      quickchartButtonEl.disabled = true;  // To prevent multiple clicks.\n",
              "      quickchartButtonEl.classList.add('colab-df-spinner');\n",
              "      try {\n",
              "        const charts = await google.colab.kernel.invokeFunction(\n",
              "            'suggestCharts', [key], {});\n",
              "      } catch (error) {\n",
              "        console.error('Error during call to suggestCharts:', error);\n",
              "      }\n",
              "      quickchartButtonEl.classList.remove('colab-df-spinner');\n",
              "      quickchartButtonEl.classList.add('colab-df-quickchart-complete');\n",
              "    }\n",
              "    (() => {\n",
              "      let quickchartButtonEl =\n",
              "        document.querySelector('#df-d91283c2-93fb-49fc-abd3-bbf668a99f02 button');\n",
              "      quickchartButtonEl.style.display =\n",
              "        google.colab.kernel.accessAllowed ? 'block' : 'none';\n",
              "    })();\n",
              "  </script>\n",
              "</div>\n",
              "    </div>\n",
              "  </div>\n"
            ],
            "application/vnd.google.colaboratory.intrinsic+json": {
              "type": "dataframe",
              "variable_name": "df_gold_mine",
              "summary": "{\n  \"name\": \"df_gold_mine\",\n  \"rows\": 529,\n  \"fields\": [\n    {\n      \"column\": \"Payments\",\n      \"properties\": {\n        \"dtype\": \"number\",\n        \"std\": 10175,\n        \"min\": 89050,\n        \"max\": 148300,\n        \"num_unique_values\": 377,\n        \"samples\": [\n          139800,\n          104900,\n          114350\n        ],\n        \"semantic_type\": \"\",\n        \"description\": \"\"\n      }\n    },\n    {\n      \"column\": \"Costs\",\n      \"properties\": {\n        \"dtype\": \"number\",\n        \"std\": 3971,\n        \"min\": 27000,\n        \"max\": 54350,\n        \"num_unique_values\": 255,\n        \"samples\": [\n          46250,\n          41400,\n          44700\n        ],\n        \"semantic_type\": \"\",\n        \"description\": \"\"\n      }\n    },\n    {\n      \"column\": \"Profit\",\n      \"properties\": {\n        \"dtype\": \"number\",\n        \"std\": 10963,\n        \"min\": 46750,\n        \"max\": 109500,\n        \"num_unique_values\": 386,\n        \"samples\": [\n          69600,\n          61050,\n          96950\n        ],\n        \"semantic_type\": \"\",\n        \"description\": \"\"\n      }\n    },\n    {\n      \"column\": \"Age\",\n      \"properties\": {\n        \"dtype\": \"number\",\n        \"std\": 1,\n        \"min\": 21,\n        \"max\": 24,\n        \"num_unique_values\": 4,\n        \"samples\": [\n          24,\n          22,\n          21\n        ],\n        \"semantic_type\": \"\",\n        \"description\": \"\"\n      }\n    },\n    {\n      \"column\": \"Gender\",\n      \"properties\": {\n        \"dtype\": \"category\",\n        \"num_unique_values\": 1,\n        \"samples\": [\n          \"male\"\n        ],\n        \"semantic_type\": \"\",\n        \"description\": \"\"\n      }\n    },\n    {\n      \"column\": \"AgeGroup\",\n      \"properties\": {\n        \"dtype\": \"category\",\n        \"num_unique_values\": 1,\n        \"samples\": [\n          \"18-24\"\n        ],\n        \"semantic_type\": \"\",\n        \"description\": \"\"\n      }\n    }\n  ]\n}"
            }
          },
          "metadata": {},
          "execution_count": 33
        }
      ]
    },
    {
      "cell_type": "code",
      "source": [
        "z_st, p_value = ztest_2sample_data(sample1 = df_18_24_f['Profit'],\n",
        "                                   sample2 = df_gold_mine['Profit'],\n",
        "                                   alternative = 'two-sided')\n",
        "\n",
        "print(f'p-value: {p_value}')"
      ],
      "metadata": {
        "colab": {
          "base_uri": "https://localhost:8080/"
        },
        "id": "qOz6mvcOscIo",
        "outputId": "6aacdaa1-3707-4edf-9675-ee8e5b56ed21"
      },
      "execution_count": 34,
      "outputs": [
        {
          "output_type": "stream",
          "name": "stdout",
          "text": [
            "p-value: 0.0\n"
          ]
        }
      ]
    },
    {
      "cell_type": "markdown",
      "source": [
        "###3"
      ],
      "metadata": {
        "id": "v-Z6dRxxs-30"
      }
    },
    {
      "cell_type": "markdown",
      "source": [
        "####Неверно"
      ],
      "metadata": {
        "id": "5DXFTbPbgliJ"
      }
    },
    {
      "cell_type": "code",
      "source": [
        "df_18_m = df[(df['Gender'] == 'male') & (df['Age'] == 18)]\n",
        "df_18_m"
      ],
      "metadata": {
        "colab": {
          "base_uri": "https://localhost:8080/",
          "height": 423
        },
        "id": "24lKXI98tBT9",
        "outputId": "887c8e1d-90f0-454b-eb42-0746ecc8ada2"
      },
      "execution_count": 35,
      "outputs": [
        {
          "output_type": "execute_result",
          "data": {
            "text/plain": [
              "      Payments  Costs  Profit  Age Gender AgeGroup\n",
              "5        14300   7500    6800   18   male    18-24\n",
              "8        10300   7700    2600   18   male    18-24\n",
              "13       10450   7650    2800   18   male    18-24\n",
              "14        9300   8800     500   18   male    18-24\n",
              "22        8950   7300    1650   18   male    18-24\n",
              "...        ...    ...     ...  ...    ...      ...\n",
              "8690      7200   9550   -2350   18   male    18-24\n",
              "8691      7250   6400     850   18   male    18-24\n",
              "8707     10500   7550    2950   18   male    18-24\n",
              "8708      5600   9250   -3650   18   male    18-24\n",
              "8710      8650   8600      50   18   male    18-24\n",
              "\n",
              "[1515 rows x 6 columns]"
            ],
            "text/html": [
              "\n",
              "  <div id=\"df-01e9e23f-6841-4db8-a5bc-7882baca9c66\" class=\"colab-df-container\">\n",
              "    <div>\n",
              "<style scoped>\n",
              "    .dataframe tbody tr th:only-of-type {\n",
              "        vertical-align: middle;\n",
              "    }\n",
              "\n",
              "    .dataframe tbody tr th {\n",
              "        vertical-align: top;\n",
              "    }\n",
              "\n",
              "    .dataframe thead th {\n",
              "        text-align: right;\n",
              "    }\n",
              "</style>\n",
              "<table border=\"1\" class=\"dataframe\">\n",
              "  <thead>\n",
              "    <tr style=\"text-align: right;\">\n",
              "      <th></th>\n",
              "      <th>Payments</th>\n",
              "      <th>Costs</th>\n",
              "      <th>Profit</th>\n",
              "      <th>Age</th>\n",
              "      <th>Gender</th>\n",
              "      <th>AgeGroup</th>\n",
              "    </tr>\n",
              "  </thead>\n",
              "  <tbody>\n",
              "    <tr>\n",
              "      <th>5</th>\n",
              "      <td>14300</td>\n",
              "      <td>7500</td>\n",
              "      <td>6800</td>\n",
              "      <td>18</td>\n",
              "      <td>male</td>\n",
              "      <td>18-24</td>\n",
              "    </tr>\n",
              "    <tr>\n",
              "      <th>8</th>\n",
              "      <td>10300</td>\n",
              "      <td>7700</td>\n",
              "      <td>2600</td>\n",
              "      <td>18</td>\n",
              "      <td>male</td>\n",
              "      <td>18-24</td>\n",
              "    </tr>\n",
              "    <tr>\n",
              "      <th>13</th>\n",
              "      <td>10450</td>\n",
              "      <td>7650</td>\n",
              "      <td>2800</td>\n",
              "      <td>18</td>\n",
              "      <td>male</td>\n",
              "      <td>18-24</td>\n",
              "    </tr>\n",
              "    <tr>\n",
              "      <th>14</th>\n",
              "      <td>9300</td>\n",
              "      <td>8800</td>\n",
              "      <td>500</td>\n",
              "      <td>18</td>\n",
              "      <td>male</td>\n",
              "      <td>18-24</td>\n",
              "    </tr>\n",
              "    <tr>\n",
              "      <th>22</th>\n",
              "      <td>8950</td>\n",
              "      <td>7300</td>\n",
              "      <td>1650</td>\n",
              "      <td>18</td>\n",
              "      <td>male</td>\n",
              "      <td>18-24</td>\n",
              "    </tr>\n",
              "    <tr>\n",
              "      <th>...</th>\n",
              "      <td>...</td>\n",
              "      <td>...</td>\n",
              "      <td>...</td>\n",
              "      <td>...</td>\n",
              "      <td>...</td>\n",
              "      <td>...</td>\n",
              "    </tr>\n",
              "    <tr>\n",
              "      <th>8690</th>\n",
              "      <td>7200</td>\n",
              "      <td>9550</td>\n",
              "      <td>-2350</td>\n",
              "      <td>18</td>\n",
              "      <td>male</td>\n",
              "      <td>18-24</td>\n",
              "    </tr>\n",
              "    <tr>\n",
              "      <th>8691</th>\n",
              "      <td>7250</td>\n",
              "      <td>6400</td>\n",
              "      <td>850</td>\n",
              "      <td>18</td>\n",
              "      <td>male</td>\n",
              "      <td>18-24</td>\n",
              "    </tr>\n",
              "    <tr>\n",
              "      <th>8707</th>\n",
              "      <td>10500</td>\n",
              "      <td>7550</td>\n",
              "      <td>2950</td>\n",
              "      <td>18</td>\n",
              "      <td>male</td>\n",
              "      <td>18-24</td>\n",
              "    </tr>\n",
              "    <tr>\n",
              "      <th>8708</th>\n",
              "      <td>5600</td>\n",
              "      <td>9250</td>\n",
              "      <td>-3650</td>\n",
              "      <td>18</td>\n",
              "      <td>male</td>\n",
              "      <td>18-24</td>\n",
              "    </tr>\n",
              "    <tr>\n",
              "      <th>8710</th>\n",
              "      <td>8650</td>\n",
              "      <td>8600</td>\n",
              "      <td>50</td>\n",
              "      <td>18</td>\n",
              "      <td>male</td>\n",
              "      <td>18-24</td>\n",
              "    </tr>\n",
              "  </tbody>\n",
              "</table>\n",
              "<p>1515 rows × 6 columns</p>\n",
              "</div>\n",
              "    <div class=\"colab-df-buttons\">\n",
              "\n",
              "  <div class=\"colab-df-container\">\n",
              "    <button class=\"colab-df-convert\" onclick=\"convertToInteractive('df-01e9e23f-6841-4db8-a5bc-7882baca9c66')\"\n",
              "            title=\"Convert this dataframe to an interactive table.\"\n",
              "            style=\"display:none;\">\n",
              "\n",
              "  <svg xmlns=\"http://www.w3.org/2000/svg\" height=\"24px\" viewBox=\"0 -960 960 960\">\n",
              "    <path d=\"M120-120v-720h720v720H120Zm60-500h600v-160H180v160Zm220 220h160v-160H400v160Zm0 220h160v-160H400v160ZM180-400h160v-160H180v160Zm440 0h160v-160H620v160ZM180-180h160v-160H180v160Zm440 0h160v-160H620v160Z\"/>\n",
              "  </svg>\n",
              "    </button>\n",
              "\n",
              "  <style>\n",
              "    .colab-df-container {\n",
              "      display:flex;\n",
              "      gap: 12px;\n",
              "    }\n",
              "\n",
              "    .colab-df-convert {\n",
              "      background-color: #E8F0FE;\n",
              "      border: none;\n",
              "      border-radius: 50%;\n",
              "      cursor: pointer;\n",
              "      display: none;\n",
              "      fill: #1967D2;\n",
              "      height: 32px;\n",
              "      padding: 0 0 0 0;\n",
              "      width: 32px;\n",
              "    }\n",
              "\n",
              "    .colab-df-convert:hover {\n",
              "      background-color: #E2EBFA;\n",
              "      box-shadow: 0px 1px 2px rgba(60, 64, 67, 0.3), 0px 1px 3px 1px rgba(60, 64, 67, 0.15);\n",
              "      fill: #174EA6;\n",
              "    }\n",
              "\n",
              "    .colab-df-buttons div {\n",
              "      margin-bottom: 4px;\n",
              "    }\n",
              "\n",
              "    [theme=dark] .colab-df-convert {\n",
              "      background-color: #3B4455;\n",
              "      fill: #D2E3FC;\n",
              "    }\n",
              "\n",
              "    [theme=dark] .colab-df-convert:hover {\n",
              "      background-color: #434B5C;\n",
              "      box-shadow: 0px 1px 3px 1px rgba(0, 0, 0, 0.15);\n",
              "      filter: drop-shadow(0px 1px 2px rgba(0, 0, 0, 0.3));\n",
              "      fill: #FFFFFF;\n",
              "    }\n",
              "  </style>\n",
              "\n",
              "    <script>\n",
              "      const buttonEl =\n",
              "        document.querySelector('#df-01e9e23f-6841-4db8-a5bc-7882baca9c66 button.colab-df-convert');\n",
              "      buttonEl.style.display =\n",
              "        google.colab.kernel.accessAllowed ? 'block' : 'none';\n",
              "\n",
              "      async function convertToInteractive(key) {\n",
              "        const element = document.querySelector('#df-01e9e23f-6841-4db8-a5bc-7882baca9c66');\n",
              "        const dataTable =\n",
              "          await google.colab.kernel.invokeFunction('convertToInteractive',\n",
              "                                                    [key], {});\n",
              "        if (!dataTable) return;\n",
              "\n",
              "        const docLinkHtml = 'Like what you see? Visit the ' +\n",
              "          '<a target=\"_blank\" href=https://colab.research.google.com/notebooks/data_table.ipynb>data table notebook</a>'\n",
              "          + ' to learn more about interactive tables.';\n",
              "        element.innerHTML = '';\n",
              "        dataTable['output_type'] = 'display_data';\n",
              "        await google.colab.output.renderOutput(dataTable, element);\n",
              "        const docLink = document.createElement('div');\n",
              "        docLink.innerHTML = docLinkHtml;\n",
              "        element.appendChild(docLink);\n",
              "      }\n",
              "    </script>\n",
              "  </div>\n",
              "\n",
              "\n",
              "<div id=\"df-df2759b4-e616-4f9c-8751-fbcaf0c4904b\">\n",
              "  <button class=\"colab-df-quickchart\" onclick=\"quickchart('df-df2759b4-e616-4f9c-8751-fbcaf0c4904b')\"\n",
              "            title=\"Suggest charts\"\n",
              "            style=\"display:none;\">\n",
              "\n",
              "<svg xmlns=\"http://www.w3.org/2000/svg\" height=\"24px\"viewBox=\"0 0 24 24\"\n",
              "     width=\"24px\">\n",
              "    <g>\n",
              "        <path d=\"M19 3H5c-1.1 0-2 .9-2 2v14c0 1.1.9 2 2 2h14c1.1 0 2-.9 2-2V5c0-1.1-.9-2-2-2zM9 17H7v-7h2v7zm4 0h-2V7h2v10zm4 0h-2v-4h2v4z\"/>\n",
              "    </g>\n",
              "</svg>\n",
              "  </button>\n",
              "\n",
              "<style>\n",
              "  .colab-df-quickchart {\n",
              "      --bg-color: #E8F0FE;\n",
              "      --fill-color: #1967D2;\n",
              "      --hover-bg-color: #E2EBFA;\n",
              "      --hover-fill-color: #174EA6;\n",
              "      --disabled-fill-color: #AAA;\n",
              "      --disabled-bg-color: #DDD;\n",
              "  }\n",
              "\n",
              "  [theme=dark] .colab-df-quickchart {\n",
              "      --bg-color: #3B4455;\n",
              "      --fill-color: #D2E3FC;\n",
              "      --hover-bg-color: #434B5C;\n",
              "      --hover-fill-color: #FFFFFF;\n",
              "      --disabled-bg-color: #3B4455;\n",
              "      --disabled-fill-color: #666;\n",
              "  }\n",
              "\n",
              "  .colab-df-quickchart {\n",
              "    background-color: var(--bg-color);\n",
              "    border: none;\n",
              "    border-radius: 50%;\n",
              "    cursor: pointer;\n",
              "    display: none;\n",
              "    fill: var(--fill-color);\n",
              "    height: 32px;\n",
              "    padding: 0;\n",
              "    width: 32px;\n",
              "  }\n",
              "\n",
              "  .colab-df-quickchart:hover {\n",
              "    background-color: var(--hover-bg-color);\n",
              "    box-shadow: 0 1px 2px rgba(60, 64, 67, 0.3), 0 1px 3px 1px rgba(60, 64, 67, 0.15);\n",
              "    fill: var(--button-hover-fill-color);\n",
              "  }\n",
              "\n",
              "  .colab-df-quickchart-complete:disabled,\n",
              "  .colab-df-quickchart-complete:disabled:hover {\n",
              "    background-color: var(--disabled-bg-color);\n",
              "    fill: var(--disabled-fill-color);\n",
              "    box-shadow: none;\n",
              "  }\n",
              "\n",
              "  .colab-df-spinner {\n",
              "    border: 2px solid var(--fill-color);\n",
              "    border-color: transparent;\n",
              "    border-bottom-color: var(--fill-color);\n",
              "    animation:\n",
              "      spin 1s steps(1) infinite;\n",
              "  }\n",
              "\n",
              "  @keyframes spin {\n",
              "    0% {\n",
              "      border-color: transparent;\n",
              "      border-bottom-color: var(--fill-color);\n",
              "      border-left-color: var(--fill-color);\n",
              "    }\n",
              "    20% {\n",
              "      border-color: transparent;\n",
              "      border-left-color: var(--fill-color);\n",
              "      border-top-color: var(--fill-color);\n",
              "    }\n",
              "    30% {\n",
              "      border-color: transparent;\n",
              "      border-left-color: var(--fill-color);\n",
              "      border-top-color: var(--fill-color);\n",
              "      border-right-color: var(--fill-color);\n",
              "    }\n",
              "    40% {\n",
              "      border-color: transparent;\n",
              "      border-right-color: var(--fill-color);\n",
              "      border-top-color: var(--fill-color);\n",
              "    }\n",
              "    60% {\n",
              "      border-color: transparent;\n",
              "      border-right-color: var(--fill-color);\n",
              "    }\n",
              "    80% {\n",
              "      border-color: transparent;\n",
              "      border-right-color: var(--fill-color);\n",
              "      border-bottom-color: var(--fill-color);\n",
              "    }\n",
              "    90% {\n",
              "      border-color: transparent;\n",
              "      border-bottom-color: var(--fill-color);\n",
              "    }\n",
              "  }\n",
              "</style>\n",
              "\n",
              "  <script>\n",
              "    async function quickchart(key) {\n",
              "      const quickchartButtonEl =\n",
              "        document.querySelector('#' + key + ' button');\n",
              "      quickchartButtonEl.disabled = true;  // To prevent multiple clicks.\n",
              "      quickchartButtonEl.classList.add('colab-df-spinner');\n",
              "      try {\n",
              "        const charts = await google.colab.kernel.invokeFunction(\n",
              "            'suggestCharts', [key], {});\n",
              "      } catch (error) {\n",
              "        console.error('Error during call to suggestCharts:', error);\n",
              "      }\n",
              "      quickchartButtonEl.classList.remove('colab-df-spinner');\n",
              "      quickchartButtonEl.classList.add('colab-df-quickchart-complete');\n",
              "    }\n",
              "    (() => {\n",
              "      let quickchartButtonEl =\n",
              "        document.querySelector('#df-df2759b4-e616-4f9c-8751-fbcaf0c4904b button');\n",
              "      quickchartButtonEl.style.display =\n",
              "        google.colab.kernel.accessAllowed ? 'block' : 'none';\n",
              "    })();\n",
              "  </script>\n",
              "</div>\n",
              "    </div>\n",
              "  </div>\n"
            ],
            "application/vnd.google.colaboratory.intrinsic+json": {
              "type": "dataframe",
              "variable_name": "df_18_m",
              "summary": "{\n  \"name\": \"df_18_m\",\n  \"rows\": 1515,\n  \"fields\": [\n    {\n      \"column\": \"Payments\",\n      \"properties\": {\n        \"dtype\": \"number\",\n        \"std\": 2033,\n        \"min\": 3750,\n        \"max\": 16900,\n        \"num_unique_values\": 208,\n        \"samples\": [\n          4950,\n          10600,\n          11500\n        ],\n        \"semantic_type\": \"\",\n        \"description\": \"\"\n      }\n    },\n    {\n      \"column\": \"Costs\",\n      \"properties\": {\n        \"dtype\": \"number\",\n        \"std\": 1024,\n        \"min\": 4550,\n        \"max\": 11900,\n        \"num_unique_values\": 117,\n        \"samples\": [\n          9600,\n          7300,\n          8150\n        ],\n        \"semantic_type\": \"\",\n        \"description\": \"\"\n      }\n    },\n    {\n      \"column\": \"Profit\",\n      \"properties\": {\n        \"dtype\": \"number\",\n        \"std\": 2268,\n        \"min\": -6250,\n        \"max\": 9950,\n        \"num_unique_values\": 227,\n        \"samples\": [\n          2100,\n          -2450,\n          3500\n        ],\n        \"semantic_type\": \"\",\n        \"description\": \"\"\n      }\n    },\n    {\n      \"column\": \"Age\",\n      \"properties\": {\n        \"dtype\": \"number\",\n        \"std\": 0,\n        \"min\": 18,\n        \"max\": 18,\n        \"num_unique_values\": 1,\n        \"samples\": [\n          18\n        ],\n        \"semantic_type\": \"\",\n        \"description\": \"\"\n      }\n    },\n    {\n      \"column\": \"Gender\",\n      \"properties\": {\n        \"dtype\": \"category\",\n        \"num_unique_values\": 1,\n        \"samples\": [\n          \"male\"\n        ],\n        \"semantic_type\": \"\",\n        \"description\": \"\"\n      }\n    },\n    {\n      \"column\": \"AgeGroup\",\n      \"properties\": {\n        \"dtype\": \"category\",\n        \"num_unique_values\": 1,\n        \"samples\": [\n          \"18-24\"\n        ],\n        \"semantic_type\": \"\",\n        \"description\": \"\"\n      }\n    }\n  ]\n}"
            }
          },
          "metadata": {},
          "execution_count": 35
        }
      ]
    },
    {
      "cell_type": "markdown",
      "source": [
        "средний профит от мужчин 18 лет"
      ],
      "metadata": {
        "id": "OEohsP1y6BRI"
      }
    },
    {
      "cell_type": "code",
      "source": [
        "df_18_m['Profit'].mean()"
      ],
      "metadata": {
        "colab": {
          "base_uri": "https://localhost:8080/"
        },
        "id": "Y05kinX31-BP",
        "outputId": "79e6a87f-a951-4def-a541-0de3d095ff67"
      },
      "execution_count": 36,
      "outputs": [
        {
          "output_type": "execute_result",
          "data": {
            "text/plain": [
              "2096.6666666666665"
            ]
          },
          "metadata": {},
          "execution_count": 36
        }
      ]
    },
    {
      "cell_type": "markdown",
      "source": [
        "мощность"
      ],
      "metadata": {
        "id": "ErrQl_s659yw"
      }
    },
    {
      "cell_type": "code",
      "source": [
        "sigma = df_18_m['Profit'].std()\n",
        "1 - sps.norm(df_18_m['Profit'].mean(), sigma).cdf(15_000)"
      ],
      "metadata": {
        "colab": {
          "base_uri": "https://localhost:8080/"
        },
        "id": "r3syKkBP1hUo",
        "outputId": "60df38ad-bb6f-4dfc-db5b-d862b61f2391"
      },
      "execution_count": 37,
      "outputs": [
        {
          "output_type": "execute_result",
          "data": {
            "text/plain": [
              "6.4150553757968964e-09"
            ]
          },
          "metadata": {},
          "execution_count": 37
        }
      ]
    },
    {
      "cell_type": "code",
      "source": [
        "for effect in range(0,50_000):\n",
        "    power = 1 - sps.norm.cdf(15_000, df_18_m['Profit'].mean() + effect, sigma)\n",
        "    if  power > 0.8:\n",
        "        print(f'effect: {effect - 1} power: {power}')\n",
        "        break"
      ],
      "metadata": {
        "colab": {
          "base_uri": "https://localhost:8080/"
        },
        "id": "H3Hkuv0I0Zuh",
        "outputId": "16d9f31b-c746-4c1b-8fd1-965a80b9f8f9"
      },
      "execution_count": 38,
      "outputs": [
        {
          "output_type": "stream",
          "name": "stdout",
          "text": [
            "effect: 14812 power: 0.8000664046525492\n"
          ]
        }
      ]
    },
    {
      "cell_type": "code",
      "source": [
        "for effect in range(0,50_000):\n",
        "    power = 1 - sps.norm.cdf(15_000 - effect, df_18_m['Profit'].mean(), sigma)\n",
        "    if  power > 0.8:\n",
        "        print(f'effect: {effect - 1} power: {power}')\n",
        "        break"
      ],
      "metadata": {
        "colab": {
          "base_uri": "https://localhost:8080/"
        },
        "id": "3R0J4PzJ35Ff",
        "outputId": "030634d4-3f6f-4aad-dc44-b7be39f7137b"
      },
      "execution_count": 39,
      "outputs": [
        {
          "output_type": "stream",
          "name": "stdout",
          "text": [
            "effect: 14812 power: 0.800066404652549\n"
          ]
        }
      ]
    },
    {
      "cell_type": "markdown",
      "source": [
        "![image.png](data:image/png;base64,iVBORw0KGgoAAAANSUhEUgAAAjsAAADcCAYAAACWCGBIAAAAAXNSR0IArs4c6QAAAARnQU1BAACxjwv8YQUAAAAJcEhZcwAADsMAAA7DAcdvqGQAAJYTSURBVHhe7b1faBxHuvf/fX9X6oss1uAcULt94fEeH8jICYc0mkBmdwj7KjsLHmFdGCxdrXtYhL1wLLQTgvEoIZbMEuwIa8FexKLOXmkMupCZCewczy7LZCeQEW1C4pnA5qwmF560IAkjn81F6+78Lk4/9VbXdM9/ObZSH2gsd1f1dFc99dRTTz1V/X+OHj36P5BIJBKJRCI5pPx/4gmJRCKRSCSSw4Q0diQSiUQikRxqpLEjkUgkEonkUCONHYlEIpFIJIcaaexIJBKJRCI51EhjRyKRSCQSyaFGGjsSiUQikUgONdLYkQwdwzBgmiai0ajnvGmaSKfTnnMSyZPiaZDLYrEI27aRTCbFSx0ZJK9E8kOno7GTzWZh2zZs20YulxMv+7K6utpzHsnhIRaLIZFI4MyZM+ycYRhIJBL46U9/6kkrkTwpnga5VBQFAPD888+LlzoySF6J5IdOR2Pn+PHj7G9d1zuOKjRN8yiTUCjkuS45/KytrQEAZmdnkc1mYZomrl69CgC4d++ekFoieTJIuZRIfrh0NHYIy7IAAL/61a/ESx7eeOMNKIrC0kt+eFQqFWQyGezt7SEejyORSGBvbw8rKyswTVNMLpE8EaRcSiQ/XLo2dj788EM4joNIJAJN08TLjJ/97GdwHAcffviheEnyA8I0Tei6DlVVoaoqdF3HzZs3xWQSyRNFyqVE8sOka2On2WyiVqtBURTMzc2JlwEA6XQaoVAItVoNzWZTvAwASCaTsG0bxWJRvAS4HiQxCK9Tnp2dHdi27TnXKY/f70CIUfILWtQ0DdVqFbZt+3qvNE2DaZrs/pRuaWlJTMpYWlpiacVDfL6dnR3s7Ox4zgXRLqCR4qrEEW27PDxB5dsufzqd9s3TCSpvv0MMNoX7bMVikcnFzs4Ocrmcx0g3TbPlXuKxurra0z0JP3kEgHK5DNstG8MwWn5PPKicgsqa8JNlyrO6ugpN05DL5dhzVavVFnmkd/J7H03TsLOzg2q16jnfS5kM2q66lXuSa77uMGS5NE3TI5PFYhGGYYjJGIZhsHIKh8MAgOXlZVSrVeRyOV8ZJgbJm06nmcxRvYvtHW10AckolQt/r6DDr3wJwzB823K5XG6RxyC6fVb+vJ+M8uX2JHSBePDyQn0GXzaWZcE0zcB70nvy+XZ2dnzzDKI/esnztNO1sQNuXvsXv/iFeAkA8POf/xwA8Ic//EG8xKDgOgq248lms1BVFRCC8NrlQcD5dnmCfgdCjNLZs2c91+BO04VCITiOw+5BaJqGQqHA3OOFQgGlUgmjo6NIpVItDZQ4duwY4HY49Xod9XodjuMAPs+nKIrvO/nRLqDxueeeE08BHfLwBJVvUP5oNIqLFy960nRLKBRCs9lEoVBgBxnTkUjEkzadTmNtbQ3hcBi1Wg2FQgH1eh26rqNUKjFF8NVXX7GyrtfrAADHcTznHj161NM9Cb/3MwwD4XAY9Xod+Xwe33zzjee3qL79fj+orNFGlunvF154AaVSCbquY3d3F7ZtIxQKIZVKeRR4u4HM3NwcFEVh5YQ+ymSQdoUe5J7kWpTvYcmlZVmIx+Oo1+soFAqwLAuRSATLy8u+Rlwul8Py8jIikQj29vZYPVM96LqOjY0N385+kLzZbBYLCws4cuQISqUSCoUC9vf3kUgkUC6XPWnFsiKoQ85mswCAR48eMdm0XWO+2Wx6ZPbrr7/23IMnFoshFAqxsqPyGxsba6sfebp9VriG0fLyMsbGxrC9vY1CoYDd3V1Wbk9SF/D3qtfr+OabbwBX/kqlEhKJBGtj9XodqqoikUjg3r17vvccHR2FZVlIJBLY399HvV6HoihIJBJ4//33PekH0R+95Hna6cnYMU0TzWYTqqq2WHTRaBSRSAR1V5n3SjqdRjweF08PnU6/MzY2BrjKPxwOt4ycXn31VTSbTezu7gKuBUwcO3YM+/v7mJubw+TkJAzDwMzMDObn5wEAExMTLC0PCdSdO3cQi8UQi8XY/Q8Lt2/f9m04naDyffz4MQzDYMfjx4/FpNA0DRcvXoTjOJifn8fU1BQMw8Dk5CQ2NzehKAru3LkDAFhcXGRlHYvFAAC7u7ueczdv3uzpnu2gDv6vf/0rACCfz3t+i+qbP8eP/vzoJMtwjcG9vT1MT08jFotB13Wsr68DAM6cOcMU6ccffwwAeO211zz5wQ1uaBDTT5kM0q4Okn7kcnZ2lr3z1NQUMxAvXrzo6ZhMd8rMtm1MT08zgxNuW1dVlZXX7Oxsi7eh37yGYSAej8O2bSQSCczMzMAwDOi6zsrfz0DiiUajCIfDaDabzAiZmZlhskn1u7297ZHZSqUi3KmVL774grXjqakp/P73vwcAnDp1SkzaFX7PCgAnTpxAoVDA+Pg4K4NYLNZi2D8JXcDfKxaLsT7yvffeg+LGuMbjcXZ9enoatm1DVVVcu3ZNvB1UVcXo6CgymQx0XUcsFsPc3BwLNemkO9Cl/hDpJ8/TQk/GDgD85S9/AXwClalDJ2XeCzS6ajabbMRwEHTzO2Rdk/KfnZ1l16LRKFRVxcOHD5lngbdsK5UKdF1vMfbo/0Er02jUW6vVxEuBmKbJjqWlpZbOY1DOnj3L7r+6ujrQ/Wkk0Mv7Ef/2b/8GuAqyE+SB2N7ebqmDy5cvAz6eoE4M457JZBK6rqPZbGJxcVG83BfdyDLckbeu655OaHFxEbZtQ1EUnD9/np1zHKfFECGZbzab7P37KZNB2hWPKPfiqLcX+pFLsSzhtm/LsjwdKADWKfz6179uyUNcvnx56HnJsL579y4ajQaX4/95Pl555RXPeZHl5WUAwNbWlnjpwKC675WgZyVjRIS8NORR75Z+5L4dZKQ5joNLly556qpSqeDu3btAm0Hy7Oysx7jL5/PY3t4GAExOTnIpW+lWf/D0k+dpomdj58aNG4BbqaRoNE3DxMQEHMfpS5nT6GplZQX7+/viZcbY2BjK5XLL0S2dfocfTdIy1VdffZWdI4WysbGBb7/9FnBHDyKapiGdTnsUczto1Buk1PxIJBLsSKVS2Nra8rhweS5dutRSZkENiNB1nd3/3Llzbe/fDhoJ1Ov1vvK/8MILgOtq7sSPf/xjwDUe+bLn60DpcRQ/yD1N00Q2m8WtW7fQbDZx5coVMUnfdJJlws8DBncqBFz5wh2lQzBE6G+6hj7KZFjtCj5yXyqVOnop/BhELsX3NU2TDWSoAzUMgxl4ndo1LeYgz8YgeeGO+gHgpz/9actzkiHkJ7OnTp2CaZool8uIRCIolUp96fNO0O+YpolcLoeLFy+iXq/j0qVLYtJAennWZDKJ1dVV9pv9epB6lftO0BYt9Xq9xSgFwALngwbJfrLxj3/8AxCmjf3oVn/w9JPnaaJnY6fRaLDRxBtvvAFwFm+pVBKTd4RGV5ubm0xgglAUBeFwuOXohm5+h0aTjx49QqPRQK1Wg6qqbKQ7MTHBRrjfffcd4DM6ME0TpVIJCwsLHsUcRDQaZYqtF1R3NYmqqlhZWUGz2UQ8Hm8JzKS0YpkFNSAik8mw+2cyGdi2HXj/IPiRAHkQeoUU0wcffCBeaoEaeDgc9pQ9XwcU99Atg9wzkUggHo9DURQ8fPgQn3zyiZikL7qR5U6QUcGzsbEBuCsqCTJKyEhBH2UyjHZF8HJP03GpVKqnaa9B5VJ830Qi0bUe8qNfjwYC8pKxww9Y6NB1HQiQWarPsDslFBScOii83Oi6DkVRMDIygn//938XkwbSzbMmk0mUy2Wsra3h3LlzA9dVr3LfCZJx8jQNgy+//FI81UI/+qOfPE8bPRs74AKVSSlOT08DgkLsBhpd1Wo15gZsBwVuiUcnuv0dGk2SwPIu92QyiVAoxKbxPv30UwDA0aNHWf50Oo0Et3dHN89I1v0gAn/z5k388Y9/BAC8/PLL4mWP4UJHoVAQkwVimiZzqfrdPwgaCVy5csV35NIJTdOYMvMbxYhQGRYKhZb3pePkyZNitrYMck9VVTExMYFSqYR4PM7KcBC6leVO8HJL5PN5FvyaTCbZ9JLoYei1TAZtV0EsLi4yjxPpoG4YVC7Fd1V7bE8iNPDopaMk/PKS186v3dPhN81B9ZnJZAB3eshvGmhQeLmZmJjA5uYmVFXFrVu3xKSBdPOsb7/9NsLhMAqFAqanpweuq17lvhNk2HfywvRCkEeU6Ed/9JPnaaQvY8d0A5VDoRBM14Vbq9W66pCIkZERNrq6cOGCeHlo9PI7ZGl//vnnABfH8OqrrzJ3Po1+KZqe95DQarS7d+92vXcHBYT6jUx6wW+EN0x6vb9hGFDdkYA4v90t5Dnkp1DaQStBenEld2LQezYaDczMzKBeryMcDvuu2OmWXmSZGBkZEU8B7ugU7nJino8++ghwDRGaXhLj8Hotk0HbVTt6NRCGIZd+kHFG73j//n3ALedO8W70qYph5AWAvb09oIcyFDFNEysrK4A7BX6QNBoNXL58ma0mEg2WTgQ9azKZhKqqsN1l3r30TUH0Kved+POf/wxwYQwipCuC4mP84tVeeuklICDGsV/90Wuep5W+jB1wgcrkvvvP//xPIUV7VFUdaHTVLb38DiksvmMnl/vp06dh2zZrNKQojxw5wtKS4uXjIODuo+OH4S5HbgqrCPphZmYGGNBD1A4aCXZ7/7C7NLPfkYDmfnbEcRy89dZb4mVfqMOcmJjwndaIRqM9K9Nh3ZMMBr9l193SiywTqqqiXC63rBIKucv5RbmjmLyJiQkW1yV6bHstk0HbVTtefPFFQOjs2zGoXFqW1dLJUAC64zhskEPT/XA9SX7lBG7VleM4rOwHyQvOc3b+/PmWZ4WrdzoZUTSgVVW1K/keBE3TPKv1esXvWckwGR0d9ZSBpmlMZnqlV7nvRD6fZ04D8RuSyWQSv/zlLwEAf/rTnzzXiEKh4HkOw11xB582iwH0R695nlb6Nnb4xtVsNrv2ZPAMe3QVRLe/QyMhvsFRAGAoFGoROsdxPKMnmt5LJBLI5XIw3QC6VCrVMgItl8tsFQGNTHrB5ALjaK8P27aZN2RQ+NVY5XIZcXcpa7f3H2QkkM1mUSgUoCgKHMfB3bt3WwKsSTlS8DXcgL319XUoioK1tTVWB1RGW1tbbGlptwzrnouLi2g2mwiHw76Kslu6lWWi2WyyfUbK5TKq1SoboNDUJw/F1CiKglAoBMuyWpRcr2UyaLvi4eW+Wq1CVVVYltW1/hlELuF2nqVSib1zLpdjHQstoSYuXboE210+vLa2hmq16pHbnZ0dJBIJOO5SZr6cB8m7uLgIy7KgqipKpRKy7nfAstksqtUq27unE7S6iQZSw4IPUM5msyiVSlDcmM9+PTDis1YqFeYtKhQKnt8aHR0VcndHr3LfDVeuXIHjONB1HTs7OyiXy7AsC2tra6z9BQVe7+/vY21tDZZlwbIs1p+0K8de9Qf6zPM00tHYoU6a3MsEP/ogLw8PpRc7eTrfaXTF/17QvQi/8/38Drn8eUG5efMmHMeB4zgt1rK4F47pulRt22bBgXCNGTEAeWxsDM1mM/C7PEHlTmUuBsYVCgWcPXvWo/SC7gFuvljkwYMHrPHR/UdGRlruH1Qn9P92IwExj8jx48dZZxcKhRD2CUonV7LqBl8Ti4uLyGQyqNVqiEQi7B329/exubnZ08iL6PWeJC8ifquduqEfWSYeP36M+fl51Nz9VWjKOZPJBBoI/OqkoM++9FImg7YrBMj948ePsb6+jqmpKZaO5FqU72HIJdy64985EomgVqthbm6upTwbjQZ0d1+jer2OUCjkkVvaeDQej7d0JoPkhbvsen19Hbu7u4i73wGbmJjA7u5ui84JKrO1tTU4XXwiqFvK5TIz+KkO4/E4dnd3sb6+3pVR1cuznj9/Hpa7mCaRSOD06dOo1Wq4fv26J28v9CL3aKMLiHw+j9nZWSbf4XAYqhsnJ8q2yNmzZ2FZFkZHR6G6U3Z+5diP/ugnz9PO/zl69Oj/iCclku+TcrnMGn0nTNNEIpHoKu0PCcMwsLy8jHq93vNoMxqNYmtrC81mE+Pj4+JlyQCQbGcyGd9BTjsGySs5PFAMj9R5vdHRsyORSH5Y0Aah3QaGSyQSydOONHYkEgmDNghFQJCjRCKRPItIY0fy1NFpnlvSmaCYqk6cP38eSpe790p6h+qjn1iHQfJKDg9SP/aHjNmRSCQSiURyqJGeHYlEIpFIJIcaaexIJBKJRCI51EhjRyKRSCQSyaFGGjsSiUQikUgONdLYkUgkEolEcqiRq7EkEonkGcIwDMRiMRw9ehShUAhjY2Oo1WptPy0gkfzQkZ6dQ4Cmachms7BtG8ViUbzsIZ1Oo1wuw7ZtdhSLxZZvuvwQiUajrGxWV1fFy4EUi0VWlr185FPTNORyOVSrVZa/Wq3CNM223yLqtr41TWMfKaT7W5bV07tJnh5M08TOzg6Wl5eRSCSg6zr7LtyXX34pJpdIJBzSs/OMk0wm8fbbb7PvpLT7FlI2m0U8HofjONje3objODh+/Dj7AvLKykrLxwx/KKTTaVy8eJF9bLFQKHRlAKbTaSwsLLD/d/vdomg0io2NDbaB3xdffAFFUXD69GmEQiH2MVmRXup7Z2cHiqKg2Wzi8ePHOHLkCPvAqmVZ0hPwDEFtt9ls4uHDh/jHP/6BL7/8sitZk0gk0rPzTLO6uoq1tTWMjo6yr+YGoWkaM3Ti8ThmZmZgGAYmJyexubkJuF/R/SFSLBaxsLAAx3FQq9XEy4FomoZf/vKXaDab7ON83TI/Pw9FUVAoFBCLxWAYBmZmZpBIJNBsNqGqaoux1Ut9w91pdWVlBePj44jFYhgfH0epVAIA6LrekxdK8v2RTCYRj8dRr9eRSCQwMzODxcVFaehIJD0gjZ1nmHPnzqFer2N2dhb37t0TL3t4/fXXAQC7u7toNBqeazdu3AAAjI2Nec7/EDAMA5FIBKVSCYlEAo8ePRKTBHLt2jWEQiFsbW1hf39fvNyW48ePA+6XrHkajQYePnwIAHjppZc813qpbwAYHx9v8dTNzMywv+kbWJKnm9nZWQDAu+++29J2JRJJd3Q0dtLpNJvvz2az4mWAi1nY2dlBNBpl5+mcX/yBpmnY2dlBtVoF3E7Htu0W5Z9MJn3PR6NRFoPAp/OLYVhdXYXtE4dBz+03wqX3Fu/XLg/9jjjiapeHp907+LGysoJYLNbVN4zoezpjY2Mt9XH+/HnAnRLpFip/v0MsZ7jvViwWsbOzA9uVi1wu53kWMZbI7+hUhr1y//59ZDIZzMzM9NSRRKNRNtpeXFwUL3eEvm3jNwX1r//6rwCAP//5z57zvdR3N/z3f/+35/9UP3Dln4/1yeVynrbdD9Q+2h2i7Ozs7LD2YJomi2/a2dnxjW3q1IbondrJEemidgfdn35vdXWVxWCRjFerVSwtLYm3BwLitYrFou9zkTx88sknLWUg1kuQHiXoei6X85wXY/kodswPKkNR3xOGYbAyCOozotGop6zomYPKi2LUbNtGOp0WL0PTNFYu3Xg96V1F7ylB1+n9SHaTySTTZfxzB92n1/fM5XIsHR3VarWlntGmX0ObfhM9yt5hoqOx88ILL7C/JyYmfJVLJBKB4zhQFIXFfwBArVaDoiiYm5vz5AGAubk5Fq8AV5E1m02Ew2FPoT///PNcrv/H1atXAQB/+tOfAC4dxVzwPPfcc55/CUor/kY0GsXFixc9aYigPPC5P9EuD0+7d/BDHLW3I5/Ps/q4d+8eazjJZBIXL16E4zj43e9+J2YLhOq52WyiXq+jXq+j2WwCPuWQTqextraGcDiMWq2GQqGAer0OXddRKpWYTD169Ijdy3anhfj71+t1fP311557D0qj0QhU6u1YXl6Goih49913xUtdQWWdSCQ8yiqXy0FVVViWhXw+z+Xorb6D4Nvv3//+d881RVGgKApyuRwWFhYwMjKCer0Ox3Gg6zrW19db2n8vkFyIddpOdhRFYdN2iUQC+/v7qNfrUBQFiUQC77//vid9uzaUzWZZrFO7tvjNN994no0MU/4ceQDpPi+88AJKpRJ0Xcfu7i5s20YoFEIqlWrpjKLRqCdtoVCAZVkIh8NYW1tr6ThVVYVt27h37x7i8TgePnyIQqGA3d1d6LqOjY0N1p5N04TjOAiHwy2dI7ip6k8//ZSdy2azWFhYwJEjR1AqlVAoFLC/v49EIuHbWVIZBul23ntIHkyedDqNra0t6LoOx3FYew+Hw0ilUi2GGIT7+E23v/HGGwiFQnAchz1fOx48eAAE3CsajSIcDqPZbLKBBcnlr371K6bLSG7D4TCWl5dbjIV+3pPi9AqFAjv29/dZPfPtL6hfQxv57lX2DhMdjR0SsiDDhVysFOvAu94//vhjAMBrr73GzhG/+MUvAAB/+MMf2LmtrS3AFah2aJrGDKy1tTXx8sDcvn3bV1k+61y4cAG1Wg2qqmJjYwPFYhFra2vY29vD/Px8S+faDgp03d7eRiwWQywWw/b2tpgMmqYxY2p+fh5TU1OeWCFFUXDnzh3AVZJ0LzrH33+YXo1BoKkvP4OkW/L5PFZWVuA4Ds6dO4dyuYxqtQpd11EoFA4sePjatWuAa3AEPbuu69jc3GSxPvF4nHXelH8QxDoNkh1CVVWMjo4ik8lA13XEYjHMzc3BcRxEIpGuFHQ6nUY8HhdP+5LP5z3Ptru7C7heODrE34xEItjb28P09DRisRgzDgHgzJkznk7qvffeg6IoWF9fx+TkJAzDwNTUFObn5wHAE/BOBgt14Hy8XSwWg2VZUBSFDf7A6WJRV2uaxjpe8kYahsHql+KBDMOAruuo1WoIh8MeLwR16GQEilOhpJvpGcSpcdIHADwypus6MpkMM6zF8qX70DOJhtyrr76KZrPJ6ko0PEQ2NjYAt95EA57q4S9/+YvnPNy2YVkW4vE4Ym4cHHmS3nzzTZau3/ckDMNgh67rsG0biqKwcIR+6UX2DhsdjR3q9DOZDADglVde8Vw/ffo0bNtmIwXeylxcXPQdZUSjUaiq2qJw19bWmAIThZnn2rVrUBQFpVKpp6mHbqDRXy+Bqt1y9uxZmKYJ0zSxurra9h0PgkajgQsXLrCGQ94Z27bxySefiMnbQh6/r776SrzkgTx429vbLZ3r5cuXAc5L9Kxw6dIlOI6DS5cuiZd64ubNm0zphsNhhEIhNJtNfP7552LSoRB1p97gTokFsb6+zuoGrtzcvXsXAPDiiy9yKZ8cs7OzHg9cPp9nBtLk5CSXshXy1PYTSN4tzWYTuq57jPHFxUXW1miqmLwGtm23TH/m83nU63WEQiHWWfMe1LNnz7bou+vXr3vSgRtAioYIGT+8biPPxt27d1vuTVNQvM4nj8EXX3yBWq3meVZwv/Hhhx+i2Wy2DBp5jz4vY3C9UlSnoseF8tAAmgbZ4PqThw8fMg9hkGeDqFQqgQP406dPA5xBxEOrGPmyIj0QDoeZ4dTve3ZikH6pV9k7bHQ0dsiirlQqsG3bYwkbhoFQKISPPvqI7fNw9OhRT36qVF446W9xNNdoNJiFubGxAdM0mTAcOXIEpmkil8shkUigVqt5rGJ+JCFa6t1Co796vR4410xcunQJ5XLZc4jKRUTXdSQSCSQSCZw7dw5bW1sdf2eYpNNplEoljI6OYnNzE5lMBnVuOqkXISePX6f9PX784x8Dbnoy9PgDAVMOvaK5e8qIR9DIqV9WV1ehqio++OCDls6hFzRNQ7FYRCqVQr1ex9zcHAqFAhRFwcLCgq+LexA0TWMey1Kp5DEcRPzq9G9/+xvAeRieNH4evX/84x9AwFQJD733yspKz4Hk3fL48WPxFOAOJMANDn7yk58AAEZGRlpk1TRNHDlyBPDprB8/fuwrb1QufBvK5/PME8e3aTJa+OB2qs+f/vSnLc9Cupe/N++5//DDDwFBt7/22mtwHAc3b95kZcIP6ig/TSOJUCwUeY4heGnIk//qq6+yc2SsbGxs4NtvvwUAnDhxgl0P4j//8z8BwZhLJpMIhUKo1+u+Mkf352k0GszIIs9LP+/Jw9eDZVkYHR3F+vq67zNNTEy09EV+A7F+Ze+w0NHYURSFNdiPPvoI4ISLGsPGxgYLgBUrj6zjn/3sZ+wcCarfFNQnn3yCOjcnr7tzmKFQiP3fcRxm4ROVSoXlKxQKHkFJJBKetH7woz8ahbVDVVWEw2HPIb67SCaTgaqqUFUVmUwGtm0jHo+3zOkfBIZhsOXVs7OzuHz5MkzTRCwWY9NJt27d6tpQJCPYbNNpguuIwuEwM/T4A1yw7iD8+7//e8u9E4kEYj4BwP2iaRrOnDmDZrPZMlrrlbt37yISibCl5/l8HoZhYHZ2Fra7x06nsu2FO3fuQHVjgfiYim7xU7LfN35GmQh5ajc3N4dant0ido5k9JA+Ew/SIaRPCeqIuoV0NYUE0PRSs9n0lAMZO/xAjA7SvXz7JM/9559/jps3b8JxHOYJIc8BDTwpH+91ovfjY4Y6QZ3vo0eP0Gg02FQ8GVETExNsluC7774DABw7dsxzDz/o+fmZBDLc/vrXvwqp2yMau/28Jw9fD1RHNHAUCYVCLX2R36CkX9k7LLQ1dkgAaDREhgtZwjQ3W6lU2BSF2CjFUQa5HIMs53v37iESiWBzc5MZBXDniFVVxfT0NPb29pBKpVoi2s+fP8/msKkC9/b2UO9ilRGN/q5cueI7ghLhDRc6CoWCmCwQ0zTZ1MDLL78sXh461MFtbW21lPvly5eZu1106foRjUYRcje+6wQFchYKhZbyouPkyZNitp7J5/Mt91V99qoZhDfeeIONcsWRFBl/5PHzWzFCJJNJhN0ASPH5KpUKk4tOnsJuyeVy0HUd9Xq971igJz3l2g2dRu/kqa3VagMbp/0ierppipL0WdBB+pQMk04DKRHaToIMDWrXojed2rCfPqODnyak9yFPBj+VRYYCTaNR2+friQwgcVuFdlB+ystPZZEnhuJryLgQyz0Icebh9OnTcPqIBRX7vX7ek4cv/7m5Oezt7QUOjP10K/WbPL3K3mGjrbFDDYWEluY5I5EIlpaWoCiKx8PiOI5vo6RRxuzsLGt0fpbz0tISVHf0GaScKpUKfv3rXwPu/XhPRKPRwNTUFE6ePMkqbnJyEl988QV3h1YMw4Dqjv6eZEWTwngSUCcdNBompfejH/1IvNQC1eFnn30mXmqBVk8NY6rqacFvJEXvp7oev3ZTKzRSFUeDBE0ZDaPMyNCxbbsrjyUCOtYzZ84APW5PMEz8PI7Ukfi175GREeapvXDhgnh56IyMjIinANejCW4/JVoBF5TeD9ITfgY0nRMHHuQBURQF6XSaLRIRO/G9vT0goM79oHT3798HOMNmdnaWBQmTDvXzslCHG2SokmHF73dF+SkvxYK++uqrzEihgXjQDEMQlO/VV19lYRm1Wi1wwOvXJmnwB8447ec9g8jn82zBxiAD435k7zDR1tgRLWpwVvX09DQgNB6KhBdHgTTKmJiYYKNVsdGBuye/QsuPdsFl/UCu1yAD66DoReAHhRSm3xQGubjhs7eLiObuxIyAOhQhZTIxMeEbExSNRlu8G08rly9fbhkF0UFGAI2Q28kSufnDwjYLBMn0oIYFb+j4BbcGcfHiRY/XNBqNsrYpDlJo/xO/EecwKRQKnrKiVSoIkENVVXvy1A6Kqqool8seo8w0TYTcoHPqBPP5PJruDtmiZxpu+xKNGvI+nD9/3nP/pLttBNxpURGKSTl//jzCbmCq6NUlfS7emzAMw6PPyYNBZUrvc/r0aahukDDh52UhfaDresv78yvmbt26xc6L3iS4bUhVVbZAht4raIYhCJp5UFWVxblQLJIf8XjcE2epaRqWl5cBN3iZ6Oc920HT8YMMkPuRvcNEW2OHLGp+xQ0pllAoBMuyPIrEb44WwijDLx9cAQi5gWHdeFdI4EgJD8KTGv3xq7HK5TJb8vnGG2+ISbsil8u1BKSNjY2xc3yjvH79Opufpg3DTDfgu1QqQXEDV9uVfTabZWkLhUKL4vSjUqlgfX0diqJgbW0NuVzOE0+1tbU11LiaXtE0zTMdRcY4H/TnpxgGoVKpsM82+JVJIpGA4zgtruhe6ntpaYkZA3A7Q/496fCDpomr1SrK5TK2trbYtKW4ioM8WH57fQyT/f19rK2twbIsWJbFOphSqRQoh0/SU9tsNjE2Nobt7W2U3W0EEm5M2h//+EdP2itXrsBxHKRSKZTLZVb3xWIR29vbLSt03nrrLdYh0/0ty8La2hoURYFlWb57MFFMiurGb9CeZDyLi4uwLAuqqqJUKiGbzcI0TWSzWVSrVSwvL7fE3Igd7sOHD5lng++8/bwspA8AeGSsWq2yZc9iIC7l51cikUESCoVa3itohiEImnlQ3RXCfmVJ2G6c5c7ODsrlMkqlEiLuNii0Mg59vicPyQT1FaQT+N/oh15l7zDR1tjxm/ogwwVCVD86eCh4RexnOf/85z8HfO4ZFCxlmqYnFqgd5E6lfwkyztqN/nivFv9/v+cS7088ePAAjruvAsUSjYyMoFAoeEbcdE/xN4PwC0hTFIWd46dSKpUKZmdnWSdLzxGJRFCv17GysuLr9eGhEVYh4COZQeW8uLiITCbDpkDpt/f397G5uel7ryfFsWPHPOVISjLETVV1E+zYbZ0RMzMzWF9fR61W88gF3A48Ho+3KMJe6ptH9Qmmp8OPO3fusPizsBtbRLIaRKctCNBGPjpdgztQoFUpqrvJ3vr6eovMUhvq5Kn1a7+D8PjxY8zPz6Pm7gND0yGZTKal88zn85idnYVlWThy5Air+9HRUZRKpZbpxkajwd6/6W5ip7rexJWVlbZxWNTeEeABA4CpqSmsr69jd3cX8XgciUQCExMT2N3dxcrKCkzXK0WeH3H6lbwYYhxmkKHJ6wNqZ4qisPISDWqaduHvTYac4xNfQzMM3XLjxg3WfnnPlB+fffYZVlZWsLe3x9qPZVmYnZ1taa+9vic47xDJRCKRwJEjR3x/o12bCZLvXmXvMPHEvnoejUaxtbWFZrOJ8fFx8bJEIvmeKZfLCIfDyPTw5fatrS3U23x5fVAoFoWMu6cNwzCwvLx8oGUwCEtLS0ilUrDkV+7bUq1WEQqFMD093WK0wB1cJxKJwIGe5OmnrWdnmND+OeJqAIlE8mxy9epVOI6D3/zmN+IlyVMC7VQveswl/w8+hMLP0JEcDp6IsaNpWtvAZIlE8mwRjUahu9/rkR3E0wmtMuUDpCWt0PSsGHwvOVw8EWPn/PnzUNyts6VilEieTtrFo4lUKhWoquobdzBMKC7jaaXXOLsnCa32lN70YDRNQzgc9o394WkXHyN5NnhiMTsSiUQikUgk3wdPxLMjkUgkEolE8n0hjR2JRCKRSCSHGmnsSCQSiUQiOdRIY0cikUgkEsmhRho7EolEIpFIDjXS2JF8r0SjURSLRdi2Ddu2kcvlfD9ICHc3WNu2D/XH6iTPNtFoFKZptuyyu7S0dOAfS/2+2NnZwc7OjnhaMiR+iDJ1EEhjR9KRdDqNcrnMDBLbtlEsFlsaH6FpGnK5HKrVKktfLpd9jZTbt29jbGwMKysr2NzchK7ruHPnjpgM0WgUs7OzqNfrLd8a6gX+HTodQe8nkQRB337jvyOmaRpmZ2fxs5/9zJP2sKAoCvuOomT4/BBl6iCQ++xI2pLNZhGPx+E4Dra3t+E4Do4fP86+hLyysuIxPqLRKDY2NqAoChzHwe7uLo4cOcI+sLm+vs42oqPvCvHnisUiIpFIy7eQyuUyxsbGEI/HAz/a2g3il77p2ZrNZssHDt99993AjxlKJEHQd5Ysy8K3336LF198EaqqHtrvKtlP+ffLDgM/NJk6CKRnRxKIpmnM0InH45iZmYFhGJicnMTm5ibAbbVOvPfee1AUBZZl4eTJk4jFYhgfH8f6+joAYHZ2lk1TvfTSSwCAL7/8kuV/9OgR+5swTRPhcBi///3vBzJ0ACAWi3kO2l12e3u75Zo0dCT9kEqlPF+zHxkZkZ2SZCCkTA2ONHYkgbz++usAgN3d3RYj48aNGwCAsbExdi4ajbKt1y9dusSlBhYXF2HbNhRFwdzcnOdaO5LJJBKJBCzLGmj6SiJ5UlQqFUxOTkJVVaiqivHxcdkpSQZCytTgdDR20uk0i2HIZrPiZcCderBtGzs7O4hGo+JlaJoG0zQ9MRyWZcE0Td9g1KCAt17P03Mlk0nxElZXV2Hbtu8H8qLRKHK5HHZ2dtjzlstlLC0tiUkZhmF4Am2r1Sp7P9M0PbEgfgcFmtFz+QWeRaPRwHf1I5fLtfxOtVpFLpfzrScR+u7P2NhYSz2dP38eAFCv19m5M2fOsHOicQQAn332GcB5dD799FMAwIkTJ1ia48ePs+8MaZqGt99+G81ms8V4elL0Iwt++MUxFYtFX9mEz+/u7Ox46k2sV/EgGUkmk+y3BsGvDYtxW/Rbq6ur7H3p+avVatsyM00TlmWxe1uW5RvjRfjJNh3i77RrU/TM4vRmuzxB7bCfPEHw8uZ3iPcZpOyXlpY8Zd+NjlhaWmJxfITdQa+308fUz5CcGobR8s7i0UmmV1dXW8pxZ2enRW7bkUwmA/U6IcYz+h38O4t9RbtnGqZM/dDpaOy88MIL7O+JiYkWIU4mk4hEInAcB4qisFgOIhqNolQqIZFIsI+B1ut1qKqKRCKBe/futdwzKOCtn/MA8Pzzz4uX8Nxzz4mnALfRbW1tQdd1OI6Der0O27YRDoeRSqWQy+XELFhaWsLy8jIikQhs20a9XoeiKEgkErh27Rq++uor9t5kHNC96aDpG3ouv+e7fft24Lv6oes6AKBQKLBjf3+ffa1aLHeRfD6PWq0GRVFw7949pvySySQuXrwIx3Hwu9/9jqU/duwYEDAVBQCff/45ALD4HdM00Ww2MT09jXQ6jaWlJUQiETa1dOPGDaiqipWVFV/j6aDpRxb8oDag6zp2d3dRKBRgWRbC4TDW1tZalFwymcTGxobndx3Hga7reO+99wDXoKSj2WwCbmcjyhnJfrcy44emabh3756nDdu2jUgkguXlZZaOfuuFF17wvK9t2wiFQkilUr5K27IsJBIJwJXVUqmEkZERLCws+A5GwMkQL9v0ziSHRLs25acb0CFPUDvsJ08QlI6vT75exfsMUvapVAqqqrL7K4rCdIRomGiaxvKEw2H2PHDlj/R6oVBoyRukj6PRKC5evOhJ880333jemQZA/LkgPUO8/PLLUNwpdV5GSG7FdieSTqextraG0dFRlh8A67eIR48esWeyXeOv2Wx6nvXrr78G3BhIsa9wHIc9k2iUDlOmfuh0NHaOHz8OAKzTE6cgZmdn2XVwo3aCj+GIx+MsHmJ6epo1jmvXrnnyfF9omsYa3ebmJsbHxxGLxaDrOjKZDOtw+EYSdVcJwQ2+1XUdsVgMJ0+exObmJr766issLi56YkHgTg3x5zpN0WSz2b4DAA3DYIeu67Dd6SSapmrHhQsXUKvVoKoqNjY2UCwWsba2hr29PczPz3viWo4ePerJK0KdMs+VK1fw+PFjLCwsYHZ2FqVSicUGxeNxFAqFwA7vIOlHFoKgNrC+vo7JyUkYhoGpqSnMz88DABYWFjzp3377bdZm6HfHx8eRyWSYgudlh4zDO3fusHP0xethQEanbdusDeu6junpadbueSKRCPb29jA9Pc3SUszWmTNnPEa2aZpQVRWWZbHynJmZQSKRQLPZRCKR8PUw0PQpL9tffPGFmGzo9NMO+8lD8PVMRzv6KXvbtln6WCyGeDwOy7KgKArefPNN7u7A3bt3WX1NTEx4nkfXdUxMTMCyLIRCIbz99tuevEFQp82Tz+c977y7uwsI5dFN2wOAe/fuMRmZnJxEqVQC3Hu144UXXmArRCn/+Pg404ekl2ZmZtgz0UpSMQawUqkwneY4DjKZDOsrxsfHWQwkH9PYjkFk6odKR2OHhDCTyQAAXnnlFc/106dPw7ZtNiXBW6BRIYaDH51XKhXcvXsXcD1GTwNzc3NQ3JHr5cuXPddM02SdCh+UOzs7yzomWlFEXL58ueVcP6TTacTjcd+OZRC6uV+j0cCFCxeYgUSeO9u28cknn3jS0mi7F0ipqaqKkydPYmZmBpqm4erVq7Dd5d/JZJK5ind2dpDNZrtSCIPQjyz4QW3Atu0WWcjn86jX6wiFQmwUnEwmoaoqms0mpqamPOlN08TMzIznXLccOXIEpmmyI51Od12G1D5//etft7RhP6Oq2WxC13VUKhV2jo/ZoilQcPcWpykbjQYrYxpMEJqmsbp5kvTTDvvJMwj9lP2dO3c86RuNBquPcDjs8eiGw2Emm37e1kajgampKTSbTaiq2tEgoU77SZUPz1dffSWe8mAYRkvbB9cX9tpvka4olUotA7jLly+zOhIdCiJPWqYOCx2NHRpBVSoV2K7rmpSkYRgIhUL46KOP2IoafnTfKYaDvBn9dJK9cOnSJZTLZc/hJ6jklXrw4IF4CXDnnCE8L8Wb8CuKhgm5eB3HwYULF8TLXcF3cpZlYXR0FOvr6x4FF0Q6nUapVMLo6Cg2NzeRyWRQr9eh6zpKpZLHVU2u5kF5//33AQDvvPMOAOC3v/0tRkZGsLKygg8++ADxeJwFSB8U/ciCHz/5yU8AACMjI556oOPIkSMA59onuaSR7LAIhUJIJBLsWFhYQKlUanGbi0SjUSjuNgLdyAuAliX8BLn4aWpc0zRWfteuXWspm1OnTgE+LnzySPp5CtsxMTHRogdEIyuIftphP3kGpduyj0ajCIVCcBynpeOFa7SQMUkDnOnpacD1WnTi4cOHQAfvCXXa9Xo9MB50GJw9e5bJVLFYRDweR6lUahl8+GEYRotckjHSqe2LhMNhAMDW1pZ4CeBiGsVpWJ7vQ6YOCx2NHUVRWEP56KOPAHfUC85S3djYYMGsvAB0iuF4UqiqinA47Dn8BJXOkZeqG/rJ0wvk4p2fn/c1GLuB7+TI9fnjH/9YTNaCYRhYWFiA4ziYnZ3F5cuXYZomYrEYNjc3oSgKbt26xYzfYdQzxe188MEHyOfzSKfTCIVC+NOf/oSbN2/i8uXLqNfrvsbqMBlWvVLnIhobdNDvUPs5qDZTd+PkVFXFxMQE1tfXoSgKUqlUS2wFD3V0wzC+vv32W8//+WlUsVwSiQTrHL777jsu1//rQHutm1Ao1KIHup0K6Kcd9pPnoBDLfpj16kengQ912s1m0+NtOgh0d7l2IpFg73306NGuPJuxWKxFLhNufFmvUFsfZEuLp0mmnjXaGjvkvtzf3wdcowbcVFYkEkGtVkOlUmEVSCNVcEqK4n6+LzKZDFP0dFCwGQ81UDHuqB2Uh19RNCzIxbu5uTlQA+Hfe25uDnt7e4jH474Bizw0ZbK1tdUyqm/ndg2qb+qkgjpyin/ip47IWBD34lEOOCivH1nwg4KyeWPD76D6pTbTKf5pEBqNBhYXF1nsAo3Y/SAjjG/X/SK+0/3799nfYnnwhziV8OKLLwIAPvjgA8/5ThQKhZZ705REO/pph/3kOUjEsudXWh4E1D5FQ5WgTvvKlSsH3mnz+n96ehqWZSESiTAPcjsMw2iRGbVLA1mEdEq7wUU7njaZetZoa+yQFUydU6VSQa1WQyQSwdLSEhRFwccff8zSO47j8Zj8+c9/Bto0KFpaSp6j7xvqmIIMF4pP4Dtr+nvQTlHk1KlTbF5WVPaDkM/nWRDdyy+/LF72QAoraIqO6u1HP/oRwLlnaUQuQp1U0NQQrTTqNNLrNGocBv3Igh9///vfAXcaqxvIWxFUhsOkm3IkpRoKhXwDhf0Ield6J1rm3Wg02DN0M8oGF9NUr9dbDPCDoJ922E+eYdFt2efzeTjuClq/etU0jeUho5TaRDde1dOnTwNcH8BDBsT30WlXKhUWC0f9W69QefXab9G0YFD5kX6kcub5PmXqsNDW2CFFzytFMm5oNLi2tsaukUuUhCGfz6PZbCIUCrUs000mk/jlL38JAPjTn/7kufZ9QZ4rXddbYhlofhkAbt26xc7T+/utzFlaWmq5T7dQIOBBzMuSh6VTzANd9wuK1TSNKQtSaFTfiqK01LfprvxoNpu+K8/MgF2SxeXqcBu++Oy0T0i7vVl6oR9Z8IPKRFXVlvvALUf+mU13OX4oFGqJpaD4gWGgaRpTun7KlceyLADA8vKyxyiJunsBiaiqinK53LLyJ+R+loN/Bwqy9PseGtw2xEOrg4ZVDp3opx32k2dY9FP2t2/f9qTXNI0tHrEsi7XHmzdvMtksFou+BqqmaSgWiwiFQqjX677GTDgc/l47bdLTog4RMU2zRf7gtgNwYR3dQn3n7Oxsi3eHvDZB+vH7lKnDQltjh+IH+Kh16txD7nc6+I6JjCLeYr5y5Qocd5nuzs4OyuUyLMvC2toau0dQoJgYTNjN+UEC3SqVClummUqlUK1WUS6XUa1W2fJgMbC3Uqmw6YDl5WVYloVyuYydnR2kUqm2wWadGJaLlw+uK5fLSCQScBwH169fF5N6uH79Ohx3DwjaTMs0TeRyOZRKJSiKglKp5FFoKysrgGsk8OVHv3nlyhXuF/6XZJtdku/evQvHcXD+/Hmk02msrq4iHA63BEmSa5nfF2oQ+pGFIKgNpFIplMtlVo7FYhHb29stK7r++Mc/Am4cC/+7y8vLLGi3V/jVWNlsFoVCgbU/scxFeDkolUoou22Y9iASaTabGBsbw/b2tqf+wb0bcenSJdi2zeSFlzFqQ+A2vgu7qzsNw2jRA2S8USCy2KH0Sz/tsJ88w6CfsldVlaUvl8vY3t5G2F1BKAZwkyxH3P2wyBCGq3+3t7cRcfeQCfLQPulOmw9QzuVyzFgRy0Pku+++QyqVguVulGi6m2rS+/VqrC0uLsJyl/Svra15+gpaku6nH4nvS6YOC22NHb9pjEajwUYE/MZKCHDp5/N5zM7OskZBQYH1eh3r6+sty2vBGU1hIZiQaHeejxeh+9D8NE/QXPLi4iIymQxqtRoLaFQUBbVaDZlMxtcwm5mZwfr6OlMc4XAYe3t7KBQKeOutt8TkbaHnaufi5T1t7aAy5wPrjhw5AsuyMDs727GjrlQqbO8bcPeJRCKo1+tYWVlp8fqY7moFsfzoN/3e6c033/RVrHDljd+P5syZMyj4fBOGXMqdvBQiQXKAPmXBD74NHDlyhJXj6OgoSqVSS6dw8+bNlt+FW5+/+c1vPGk7cf/+fdjuxnL0u/F4HI8fPw5sfyIkB3wbHh0dZeUg8vjxY8zPz6NWqyHsLgagtKJh1Wg0cPbsWRTcDS/pGcPu6J/iwY4dO8YMWkVRWnQA/Q64QGRa4UZ17FfXfroBfbbDfvIE4ThOYNp21/ot+2azycrRtm0UCgWcPXu2pXPN5/OIu/tfkb4jwu4mg7TfmJiXnrldpx30Xv3w4MEDOO5Am9ddQeUhcvnyZTbgofz7+/soFAq+Rn43TE1NtfQVjuME6sdhytQPnUP11fOy6+Vpt9xRIpEcDIb7Fft6vT70NmiaJhKJBDKZDMwOU1j0HN2kPSwcZNl3ggYa/QbuSiRPgraeHYlEIpFIJJJnHWnsSCQSiUQiOdRIY0cikQwFin85iBgCil0IirH5oXOQZd+JdjFEEsnTwqGK2ZFIJBKJRCIRkZ4diUQikUgkhxpp7EgkEolEIjnUSGNHIpFIJBLJoUYaOxKJRCKRSA410tiRSCQSiURyqJGrsSQSiURyaEkmk/i///f/4l/+5V9w/PhxHDlyBAAwPj4uJpUcYqRnRyKRSFxWV1exs7ODnZ0d8VIgmqahWq3Ctu2e8gFAOp1GuVyGbdvsKBaLLd9+E4lGoyzf6uqqeJlBX6an56P7p9NpMemhI51Oo1qtYm1tDefOnUM8HmffC6vX62JyySFHenYkEskPHk3T8P777yMSibBz3X7rKZvNIh6Ps//3ms9xHGxvb8NxHBw/fpw9w8rKiu/HKtPpNC5evMg+1Oz3YVy4Ho21tTXA/X7V/v4+xsbGWL719fWuP2b7rJFOp7GwsADHcVCr1fDll1/i008/xf379wM/Qio53EjPjkQi+UFjGAZKpRIikQhKpZJ4uS3JZBLxeBy1Wk281BZN05ihE4/HMTMzA8MwMDk5ic3NTQDA2bNnxWwoFoueTrwdzz//POr1Oubm5qDrOmKxGOLxOPNqzM7OilkODRcvXoTjOJidncXU1BQuX74M0zSlofMDRho7EonkB41hGHAcB5lMBjMzM+Lltrz55psAgEwmI15qy+uvvw4A2N3dbemAb9y4AQAYGxvznDcMgxlkiUQCjx498lwXMU0TsVgM+XyenWs0GuxL8IqiIBqNcjkOB+l0Goqi4IMPPkClUhEvS36gdDR2dnZ2YNu2eJrNFyeTSXYuaH6Yd7EahuGZn/Y7isUiSw+30VqWxa5bluU757y6utpyL9u2US6XPemWlpY896tWq8jlcr4Nv1gssnn4dDrtyReUp92cfzabhe0zz95Pnk7w9SAefs9N9Ud1TmW3tLQkJmXkcrmWe9s+sQt0TtM0z/kg+aJnF9OLMQ7VapUpb55kMgnbR5aIoN/1g+I4xPcTZRtd/C5PsViELbQhyr+6ugpN0zz1Ua1WA+vCMAwmq/R8QfIJn7rm0/fSRju9L7UX/h2D8CsPgtq2WNeapvnqh6By8sM0TSQSiZZ7dyKdTiMcDqNQKPTcqdK3rMbGxlpk/Pz58wDQEldy//59ZpCJBlK/fPXVV57/k1zDLRc+Fsk0zZZn7Zdu9QbVu5/ui0aj2PHRmy+//DIA4NNPP23R9X5tlkdM365v8GN1ddU3BstPpofdX/arO5aWlnx1Kl/X4jv5HfSO7doxTyfdMWw6Gjs0v8tjGAbC4TDq9TobNRiGgY2NDUQiEdTrdRQKBViWhUgkguXlZVaB33zzDer1OjvoA3L8OX7EYlkWEokE4M5Nl0oljIyMYGFhoUU5PffccwCAZrPZ9n6pVAqqqrLriqJA13VsbGy0VJCiKFAUBblcDgsLCxgZGWHPres61tfXWxQA5RFJp9Nsbp+elegnTydCoRCazSYKhQI7ms0mAHhiE+D+ztbWFnRdh+M4qNfrsG0b4XAYqVQKuVzOk54IhUKAUH/wkRvLsqAoCt544w3PeTEd3MYXCoVgWZZHqWezWSwsLODIkSMolUooFArY399HIpFoMWiff/55IOD+aHPej5dffhmKosCyLFaO9Xq9RbbRxe/yUBrKw//9wgsvoFQqQdd17O7uwrZthEIhpFKpFsW/urqK5eVljI2NYXt7G4VCAbu7u0ymRflMJpPY2Njw1DXJ83vvvddTG233vtlslsWv8O8YhF95EH6yr2kaCoUCEokE9vb2mH4YHR1FKpVq0Q9B9DO9oWkafvnLX6LZbOKtt94SL3ckn8+jVqtBURTcu3ePdabJZJJNwfzud7/z5OG9MoNAbdZxnJb3VhQFo6OjTO/u7+8zHZlIJPD+++970vdLt3qD6t2v/m/fvu2rN48fPw6404CpVAq2bbf0R36D5V77BpFkMokzZ87AcRymJ+g3b9265TGYDqK/7Ed3FItFpFIpjIyMsGcGgEQigbt377J0jx49Yr9nu4NEsZ/9+uuvgQ7tmKed7jgIOho7ftBc8l//+ld27sSJE6jX64jH45iamoJhGJiammqZf87n84jFYuzY3d0FAM85qmjTNKGqKizLgq7rMAwDMzMzSCQSaDabSCQSvhb39va2537kmqb72baN6elpdj0ej7POmNzSIrquY3NzE+Pj4ywPCdG1a9fE5C1Eo1FcvHhRPN2WfvIQ1DAfP34MwzDY8fjxYzEpNE1jv8O/o67ryGQyrCP0GxGNjIwAQv35cf36dQDAz372M/FSC6+99hoA4N69e+ycYRiszBOJBItx0HUdtVoN4XA4cOQyLO7du8fKcXJyksV3BL3zIEQiEezt7TE5JcMaAM6cOeMxYE6cOIFCoYDx8XFWLrFYjHWmc3Nz3J2Bt99+mxlvVNfj4+PIZDJ49OhRT200CN5IPyiOHTuG/f19zM3NYXJykumH+fl5AMDExISYZWhcu3YNoVAIW1tbLQZDt1y4cAG1Wg2qqmJjYwPFYhFra2vY29vD/Py8Z/ppmJAuDor5UVUVo6OjyGQyLNZnbm4OjuMgEol0rPtu6FZvBMEb0iK0tDwSiWBubs7TH1Eb+uUvf+nJM0jfQOTzeZw8eZLJIv1mqVSCoiieGKmD6C+JXnTH6OgoVlZWmH43DIP1r+FwmPWvMzMz7Pfu3LkD+PSzvXo3nzQ9GzvJZBK6rqPZbHoi+RcXFzE5OdnS8D/99FOAs+R7gZTVpUuXPOcbjQa2t7eBHoPs6H537tzxVEyj0WC/wVcwz/r6Oi5fvsz+32g0mOX74osvcin9oVFIkILxo588xL/9278BAL744gvxUgtzc3NQFAX1et3zjnCVAJW1X8CkqqrMW9SOSqWCer2OUCjkO6oiDM5ryI9i6bfv3r3bImPZbBYA8Morr3jOPynEqQC4Ctc0TXa0e2c/ms0mdF33yOni4iJs24aiKGyqAwBTliI04jt27Bg7l0wmWZ1NTU1xqf+3rnuNWfGDjPRms8lGgQdBpVKBrustRgH9vx+d0w3RaJQF+g6ymqnRaODChQusTsnbats2PvnkEzH5UKCpN8dxWvQqz+zsrKf95fN5pgcmJye5lP3Rrd7wgwzpIL1I9e5nMC4uLqLZbCIUCnk8NYP0DZ04evQowPWFOKD+kuhFd+i63rLir9FosEGxOAPQC2fPnmX6b3V1ta+yGyZdGzumaSKbzeLWrVtoNpu4cuWKmARwFcHS0hJ7Sb8Oshs0TWMVfu3aNU/HYZomTp06BQS4N/2IRqMIhUJwHMfTiIlGo4G660r1q+Avv/xSPIW//e1vQBdLTWkUUigUOgYVEv3k4XnhhReAgI5Y5KWXXgIAPHjwQLwEuK5O+DRA3nvUDefPn4dt21hYWEA2m/XUA8nX1atXYds2fvOb33jyUhn/9Kc/bZEFkjE/d+jY2BjK5XLL0Q984y0Wi4jH4yiVSr4dXigUQiKRYMfCwgKq1WpHVzgRVKZkPFD98iSTSayurra0ER5S6jRCPAjISF9ZWcH+/r54uSOXLl1qqa92XhpN05BOpz0ycZAsLy9DURS8++674qWeSKfTbNptc3MTmUwG9Xoduq6jVCp1LSvdQlNkAPD73/++paPl8Rul/+Mf/wC4aaJ+6VVv8JAh7TgOLly4IF72IBo6BP0uTaMM2jeI8P0fTU2VSiXfew+rv+QJKtd2usMwDE/7Ie/YIOi6zvTfuXPnsLW1xQam3wddGzuJRALxeByKouDhw4ctIw8KiNra2kIqlWIvqeu6J1230GoFuL8tHuFwGADw3XffcbmCISEdppL3Uwgi/CjEb/TtRz95RKij++CDD8RLLZARw488uoE6oG68R3CVxmeffQYAiMfjSLixWBDk67/+679aypaMHb4BiTJG89k8iqIgHA63HP3A/zbJ09GjR1tiYuDOqauqClVVMTExgUKhgFAohFu3bolJe+Lbb78VTyGZTKJcLrPN08Q2wkNenn4M6G4gI31zc9NXuXeDqqot9SUa2oRpmiiVSlhYWPDIxEFhuCuiLMsK7Ey7wTAMtoR8dnaWLY2OxWLY3NyEoii4deuWr2z1g6ZpbPpyfX29ZTTfDX4Dvn7oVW/wkCE9Pz/f1liDa0h0w7D7htdee43JIXmwRN007P6yG/x0R9rdeHF5ednTfoLaWy9kMhmmAzOZDGzbRjweb4kbelJ0beyQ0i6VSojH457gJbjLJXU3fmJubs7zkv1w//599jfdy+8Qp12C4Fc/DItOjYl353cahRD95BHRNA3hcBjNZrPFaPCDGiJ5eLqF0n/++efiJV+y2SwSiQQsy8LExARUziNG8mVZFuLxeEtANI1K+AYkHn7udd7o4I9+4H97enqajdo6BW02Gg0Y7qoKRVH6NmDBucR53n77bYTdVUHT09PsGSnYkIcGB373GRTeSO+2XfrhV8d+75JOp5Fwg5NXVlYGrt9uoGk+VVVbvE8E/b+dfqD7bG1ttbTRy5cvM1kR4636QdM03Lt3j5WjnyeyG06cOCGe6ote9QbBG9LtDM1evDA4gL4hFosxOcxkMmwRBW/8D7u/7AaxzVNfQwYw6WTVDdAeJqZpMpuBVss9abo2duAq7ZmZGdTrdYTDYU8cAlnrFy5caCuI3dJoNFgnPIzRTT6fh+M4UAL2liADAYKhRfhZumfOnAF8logS7733HhRFwZUrVzqOQoh+8ojQiieaY+8EKZ0gZUZGBO8N0DQNkUgEjuO0GL5+UJwDxYr4vVuj0cDU1BSbc+aNgr29PSCgHr4PKpUKi3npVqn2MqVDAZwiJKPUuVIMjm3bMAyjpeMUIe+dn9dnEEZGRgY20nvl5z//OeDGcfXjqRgE1cf7RND//+Vf/sWTh4emXIO8JWTc/+hHPxIv9QRv6FiW1bWh7adzyUjpxyND9Ko3iFOnTnVtSFMskN/gx0/PD9o3tMM0TRbQy08rD7u/5OlWd8zOzkJRFGxvb2NxcdFXJw+TfmO0hkVPxg5Bq7D4+UUyTPjpJwQEtXYLBaCRsIj0uvqG7nf79m1PY9Y0jTU8S1juTFy8eNHze9FoFNPT04CwKo0nHA53HIWI9JOHR9M0tvyx2yWxGxsbgDtNI5Ypv6qGn4K5du0aFDd42q+8RK5evQoA+Mtf/iJeaoHS8LLz8ccfA27cj58iNgzDV1EdJNRxdNOIo9EoGzl2ozDJc8C/q2maCLnbCdAokZZ7jo6Otsi0X+C8aZosQFOcZqJ5+35QVXVgI71XSOeIMQiiDA+TyclJNvoVD4L+364Nk8z4BYSTQQAAf/7zn8XLXSMaOmJAejsKhYInZshwVz4CYJ+gIKwe9lLqVW8QYddT3Y0hTas4JyYmPM9E5QEApVLJ8/uD9A2dICORn8o6iP6S6FZ3/POf/wR8YrCSyeTQvFw8foPmJ0lfxg5FtIfDYSZM5EW4evUqCz6tVqtdj3r9uHTpEmzbhq7rbKMj0zTZZkmpVErM0ha6n6qq2N7eZu7m7e1thMNh2LYduEJhb28PqVQK1WoV5XIZW1tbCIVCsG070C3czShEpJ88RDabRaFQgKIobOQkutpJiCkIFK6XgpYm8u9YrVaxsLAAuKvRKpUKkskkLHcPDqfDig5C0zTo7p4utDtsO27cuAHHXe5OBszi4iIsy4KqqiiVSkzGstksm3MeRNa6gQ9QzuVyWF5eBgD88Y9/FJN6VmNls1lsbGwwd3E3CrPZbLJ9c6guKBaF/z1a5aYoCgqFAvs9Cnz1g/InEglPXS8vL/sGNXfLIEZ6P1DHlUgkkMvlYJomyuUyUqlUS4xEO2gjODoIv3PD4vr163DcpdyibqOlyqVSyVOemqZ5nom8AxMTE+wcb+jduXOHGWGhUMiTl46ggNH9/X2sra3BsixYlsVkvVQqtXgP6Tfa7avSj94Q6daQNt3AYEVR2DuUXT2vul5Qcb+vQfoGwjAMtgkh1WexWMS5c+cAbtUoDqi/JLrVHWtra3AcB+FwGOVymcmfaMz2C68vy+Uy4u7WIWLZPyk6GjuO4/gqDnHpt2EYKBQKcNxvvcTjcezu7mJ+ft43fzc0Gg2cPXsWBW7zuIQbeElznTwUjxAUtMzfj4w1EuRCoYCzZ88GNqY7d+6wuAEaZVAeEcdxOo5CxGfsJ4/I8ePH2TRPKBRi78cf5D5XXTc8sbi4iEwmg1qtxvLSCCyTyXgMOtWd0w0KEhRlhp9WE9P7yUYjYGsB2idjd3eXBThPTExgd3cXKysrMDmvBM3D+90fbc778eDBA2Z8kQxGIhFWNvwUyv3792G7+y9R2omJCdTr9ZZypGegZ+V5/Pgx5ufnUXP3EAqFQr6/B9fbRco9kUjg9OnTqNVqbG8jkZs3b7bUNdyRq7gKrhP07J2MdL93FGlXHn6yb5omVlZW2ICIFPrKykrg1LIfJ06c8LQRwu9cO3qRqUqlgtnZWbZXEy9X9XodKysrLV6fY8eOeZ7Jr63z2wzw8Pn4QxzVE2fPnoVlWRgdHWUGwvr6essz8ZB3JIhe9Qa4em9nSIt54OqKQqHADJgwp+d1XW/5/UH6BqJWq2F3dxeRSMS3r+L100H0l0S3uqPRaHjSJdyA6kKh0NXCliD89CVtWsiXYycdPWzkV887UC6XEQ6HkclkPML6NELPSiOtdpjuFvndpJU8OQzDwPLyMur1OmI9brQmkQyK7cYKdasXlpaWkEqlUAj48rrkySF1R3s6enYkEolEIvFjenoathscL5E8zUhjRyKRSCQ9s7S0BEVR8M4774iXJJKnDmnsdKBdHMHTht+ct+TZ4knPY0skPL3okMXFRZw8eTIwlkbyZJG6oz0yZkcikUgkEsmhRnp2JBKJRCKRHGqksSORSCQSieRQI40diUQikUgkhxpp7EgkEolEIjnUSGNH8sximibsLr/J80OkWCxiZ2fH91tiEolE8kNCGjuSZxb6irpc+urPxx9/DEVRcO3aNfGSRCKR/KCQxo7kmYQ2NGv3FfVoNIpyuQzbtrG6uipeZuzs7MC2bd+j3ONHIOkjhJTfsqy2nxlJJpPMA2PbNnZ2dlAsFgO9VZqmIZfLoVqtep4xnU6LSbG4uAjHcdgHIyUSiYSnWx0pUiwWmf4J0lVPG9LYkTyTvPLKKwCAjY0N8RIAIJ1OY2NjA2H3I47PPfecmIRBX4mv1+stx6NHj8TkgdBXnemDh7b7EcKE+1VukXQ6jbW1NUQiEfb7ABCJRHDr1q0WJRKNRlEqlaDrOhRFQb1eZx8tXFhY8HzxmqCPfYr3kkgkP2x60ZE86XTa83X2dl+7f5qQxo7kmUPTNEQiETSbTVQqFfEyisUiFhYW4DhOxy8xE7u7u4jFYi1Hu68885imyb4OPTExgVgsBl3XMTc3x74AzH8/SNM0XLx4EQCwvr6O8fFxxGIxnDx5kn3B/M033+R+AXjvvfegKAosy8LJkycRi8UwPj6O9fV1wP1CvBif8+GHH7JrEolEgj51JFy99ctf/hLNZhO2+9HYZwVp7EieOc6fPw8AzBPCYxgGIpEISqUSEolET56ZQaCpojt37qDRaLDz+Xwe29vbAICzZ8+y83Nzc8w7s7i4yM4DwKVLlwAA4XAY0WgUcL064XAYjuOw68Ti4iJs24aiKJibm/Ncu3v3LgDgX//1Xz3nJRLJD5NBdOS1a9cQCoWwtbWF/f198fJTTUdjZ2dnBzs7O+JpgJu3E794q2mab+yCn5s9iHZxFLYb28CzurrK5g8pDoLSlsvllmcE9/x+Lv50Og3btlEsFj3nV1dXW56N4iz8fgNuRyU+Px1+86R+cRy5XK5l1B5UN8lk0vfZERDzERQj0q58qLzFeJR2eYLKFD0+1wsvvAAA+PLLL8VLuH//PjKZDGZmZjxGx0ESjUYRCoXgOE5LecAtE7jGC/HSSy8BAB48eMDOEY1GgxlyZ86c8fxbr9d93+uzzz4DuPsSjUYDjuNAVdUW+WnH0tJSi6zS4TclBzcP3+ar1SpyuRwz2ES6bRe06k4s2yAZpGfPZrPsXLs2AU7f8ND9/dqoSFBbFLHd9uxXF5qmYWdnB9VqlZ2jNiO+Dw+1uZ2dHd+y7qVttWu/QeXdLo9IUJn2er7db4p6xjAM9t5BBy8X1H+J5SXqd8MwUOT0NB3VatX3uUSC3g2cvPrFDIq/S/2DX9370a+OjEajiMfjvgO0Z4GOxo6iKFAURTwNuNdENE1DoVBAIpHA3t4eCoUCSqUSRkdHkUqlWhpKEHRvMYaCOgHxt2m+8Ve/+hXW1tYQDoc9MQ3Ly8stAkj3EOcco9Eom2IQf+fll19mUwmFQgGFQgH1eh2RSATLy8stDQJuDAYANJtN9g7NZhPwmSelOI5wOIxarcbur+s6SqWSR0kG1Q29j3iNj/nY3d1FoVCAZVkIh8NYW1trefag8oHPcxNBedqVaa/PderUKQDAp59+6jkPt3PvVsZ4jhw5AtM02SH+Zjuofnd3d8VLgKtcACAUCrFz9LffOwBgo61jx455/g0ahX3++eeA8BsEPdfrr78uXgqEfo+Xc8uygIDfsCwLqVSKxSvV63UoigJd17GxsdHS9tBDu1hbWwPc1Xc8QTI4PT0NALh16xY7F9QmCL/zdP+g3+EJaositVoNio8HDoK3jyDDHq73UDSSkskki/lSFMUTS4E+2lZQ+0WbcmiXRySoTHs9H/Sbfnrmm2++8fQf9KFM/hy1K03TcO/ePSQSCVYXtm0z/U4sLS1heXnZo6dJV4dCoZbn8iPo3eDzXsTq6iqWl5cxNjaG7e1tFAoF7O7usnYmyocf/erI5eVlKIqCd999V7z0TNDR2OmVY8eOYX9/H3Nzc5icnIRhGJiZmcH8/DzAufu7RYyhiMViYhIPuq7DsizE43EW00BKWoyBCOL27dsdFde9e/dgGAYMw8Dk5CRKpRLgPq8IdQ7b29vsHWhqg0fT/jeOw3EczM/PY2pqit1/c3MTiqLgzp07YrauoZiP9fV1VjdTU1OsbhYWFsQsQ6NdmX6fz0WEQiEkEgl2LC8vo1qttnQGfpw4cUI85cFv9HTkyBHxlAfxy8VHjx71/F+EjAQ/6F5+RkoQx48fBwQ5v3fvnpgMEOKVpqenmYzH4/HA+CP00C4qlQq7TyfvsGEYCIVCqNfrvvFc3zcff/wxAOC1114TL+EXv/gFAOAPf/gDO0f1EGQkUSwWxV2Inr2noW09Sfz0TD6f9/QfZPzz56id37hxg8ky9SG6rmN6etoT20IGNa+nDcPAF198wdIcBCdOnEChUMD4+DhmZmZgGAZisVigfAwLw536sizrmd3qY+jGTqVSga7rLQVC/+9F4faDZVmYmprydDB8DEQnyzebzUJV1Z6Ctni++uor8RQbnfld46GR3fb2dkv5Xb58GeBGw71CMR+2bbe4IPP5PBuR+I3AB6VdmfbzXDQdRB6TQZmbm4OqquyYm5tjq5iuXr3a0T1MXpBe6LUd9Jqeh0atvJegE6Ojo4BryHSCj1fiDYxGo+Ebf0R02y7gGl3gDIIgqNPq5rm75dSpUx6v3yBthLYDEMsjGo1CVdWWfaOo485kMgC3CpE4ffo0bNtmHkLeS9BP2xqEs2fPsjJaXV0d2n27pZ2e6RaS5V//+teePqRSqWBycpL9n9qjqKcPGjKsRERP8LC5dOmSb7zgs0TXxk65XG45xsbGxGQMTdOQTqc9SuJJ8O2334qn0Gg02Mi3nSs/nU6zOcmg+XGCb9jFYhHxeBylUqlFqYAbnfnFmPD8+Mc/Btz0fLnx5cePWuid/IRf5Cc/+QkAYGRkpOW+pmkyT4Of+/TSpUstdd+th65TmQ7yXH4ek34QFVY+n8fk5CQbLdEoOIjvvvtOPNUR0XPTiV7TDwp1vJ2IdohX4uOPREO923YB13hZX1+Hqqqw3L2LaDqTjJFyuYxwOIzNzU3fZwGAsbGxFln2i4vgCYfDHq/f2toayuVyx4FTEOS94lfI0d+iZ4t0bKVSYdMp9Lvkxfroo49YGfIewEHaVj9tXtd1Vkbnzp0buJx6oZOe6YZoNArF3Yaik1eQZDqbzQ78fhMTEy1l3cmoSCaTWF1dZXVJbeEgWF1dhaqq+OCDD4amc78PujZ2wuFwyyG6CwnTNFEqlbCwsOBREt8njx8/Fk95oLneZrPJVvu0g2/YpMSPHj3qK/iksIIUMEHKX1SufPnxnR4pxqtXryKbzcJ0DS9+bpmgUbQ4XUMHjVS++eYbIef/dnxi3XfjaeimTAd5Lr+yHiY0WqJ6CSIo7qYdQfE9QQTF6hwEZDyTQm9Hp3ildnTbLojt7W3Y3N5F5OGj9hIOh9FsNvHnP/9ZzMpQFKVFluk+QRQKBeb1o+mMcDiM999/X0zaFbQ31M9+9jN27tVXXwW4+CRCURTYbuD0Rx99BLieSHCr+zY2Nlj74NvlIG2rnzafyWQ83tF6vT5QOXVLN3qmG3qR5fPnz7NwCZJL27aR6KOfC4VCLWWtqqqYDHCNnHK5jLW1NZw7d47VZScZ7hdN03DmzBk0m002u/Cs0rWxw7v56fBThul0Ggk3OHllZcWT/vukU4wEzfVeuXKlK+uVb9jT09OwLAuRSKSlYdPIlxRWO6hD45WreJw8eZKlNwwDhUIBjuMgHo8jkUhgdHSUxSjxUABrvV5vuSd/iF4OCO9KR6FQEJO10E2Z9vNcVJbtvHTfB0GeTjIe/GRAjLEgaKRG5UMEGV4xN1bMzyiiPOK9giB3fTdGHHWUQe8eRC/tAm76W7duYXR0lMkjySC1l0wmA0VRfDdkJILkrFsqlQouXLgA+HiquiWfz8O2bTaFRFNYYpwRTXPREl8ykmgqKxKJoFaroVKpsPbB67l+2hbRb5sn8vk8Mzz6Ladu6UbPdAPJcqe+Aq7H8tNPP4XjOGg2m54A5V7x0/c0bSny9ttvIxwOo1AoYHp6uq+66YU33niDOTVE7xO1efIC+u3i/jTRtbHTLT//+c8Bd3+PmzdvipcPHD9vEylWBIwiDcOAqqrY3Nz0bfidqFQqmJqaAnwaNo3CaGlwO77++msg4B2CMAwD4+PjTOh1XfcNJP373/8OuC7tJ0G3ZdrPcz2p/R1oSsDPgOAxTZOthvHrZMl4+K//+i92jpac+8XRaJrGRmq0T87W1hYgLF/nefHFF4GApewkT91MS8F1qzuO0+Jl8COfz7N3F2NyILwLH2PVS7uA671UFAUbGxu+bRhuPWxsbEAJCIgeFoN0qAR5aWZnZ1lZ/PWvf/WkIV1C8lepVFCr1RCJRNjnUijgGa7Xl/e+9NO2hskwyqkT3eqZbqD8oVDIV5Z5kskkUqkUHMdBIpF4IgHKyWQSqhs8bRhGx6m2YeLnfSK9orpewKCB2NPC0I0dmmYRlXinVRTDIh6Pe+ZsNU1j0zp+Hg+4HUitVhvITUejd75D0TSNLZftpuOgkdvExIRvpxmNRruKz/Ejn8+j2WxCVVXfuqAYq2HRbZn281yk/MmbMQjFYtF3n4vV1VXoug4IS5iDoKDIt99+2zO9ZhgGkwH+PlTX1HERmqYx76BlWazDoHJSFKVlnxvTXQ3VbDZ9Bxg0AusmoNs0TSiKglKp1HVnRe9++/Ztz7trmsaMNf5dem0X0WgUuq7DcRzfmDieoADgYULy2K1Xyo8bN24AblunWBixLGiVHz91TcYNrQbi89D0C713P21rmFC7GqScOtGtnukW6iOWl5c9shyNRj3t7le/+hXgDkK6bSeDQoPh0dHRlnZGg51hc/nyZY/HiT/Ii0VewGHVwUExdGOHvAoJ93tAphs4SFbwQWO7SwZ3dnZQLpdRKpUQcfehuH79upgccA0Uck13Cx+gnMvlmEH1xz/+EXAD10qlEhRFQaFQ6MoKr1QqWF9fh6IoWFtbY+Vnuhs0bm1tDdTBX7lyBY7jIJVKoVwus3sXi0Vsb297dvgdlF7KtNfnIu+F33JsTdM8rlbqSPggQF7xK4qCc+fOMXkpl8vY2dnBuXPnAPdTDt3UHa1WUFUVpVIJ5XIZlmUxuRDvU6lUmOs5lUrBsiyPvNq23RKkuLKyArjxYtVqFeVyGdVqFYlEAo7j4MqVK5704IIum81mW6VMsQAUc3Dq1ClPOZa5oEkK8qVyvHTpEoul2d7eZum3t7cRdlcDUd5+2gUFiNP2Dp2gdFevXhUv9QW/GiuXy7Ft9t955x0xadc0Gg0WAB8KhTzGIEEra/jVamTc+OUh/cp7l3ttW4MgLto4d+5cYDmJQbl+7ZQ/H0QveqYbrl+/DsdxEHF3GC677Xhra4sNfnjjWzRQD5JKpYK6u39VoVCAaZqsPdHqyW7oVUceFjoaO47jBBopfudN08TKygps22ZBvHAVdS/zmZ1+N+jaZ599hpWVFezt7TH3uWVZmJ2dbVGsdI92c73i7zx48ACO+60jCg6jufNMJsNG1tQRFwoFX28MreARV/IsLi4ik8kwdzX9xv7+PjY3N33vJUJzz+Kz5/N5zM7OwrIsHDlyhN17dHQUpVKpJbiP8vsFMIrPTfRTpr0+F3kL/KZ0jh075nG1klufd8PyyzN/85vfoFQqMXkJu59ksCwL09PTHT0JRKPRYPvKwH021V0Gm8lkfO9jGAZrK+QKdhwHhUIBZ8+ebSk/0zQ9y+LDriuZ5NvPjc/vvNyO559/3lOefBnSobqxLYob5Evl2Gg0cPbsWRQKBTTdTTzDrpEjvks/7SJoWi1IBtfW1uC4HRYR1CYIv/Plcpm9D8lkOBz2Le92OikI3gNN3zDjoWkCfrUaGUngBpaE33Rrr22rnzbvpxPHxsZ8y4nuIU6L+LVT/rz42/3omW6oVCqsvOC2g9HRUdaOwU3B9uL99MNP1gm/8gcXGK0oChKJBE6fPo1arRY4kPejVx0ZRD/l+33yf44ePfo/4slnEdM0kUgkApWo5HBhWRZUd9WHXycv+V9yuRx0XcfKyorvFBdhGAaWl5e7bj9kyHSTVuJPNBrF1tYWms0mxsfHxcsSiWSIdPTsSCRPI3/6058A+TXvjkTcr8O3M3Qk3w80PSfurSORSIaPNHYkzyQ0VXH69GnxksSFVuzIzvTpQ9O0wMBkiUQyfA6NsdNu/lNy+Gg0GiiVSgiFQnIqJYBXXnkFjuPgrbfeEi+1QDECsv08Gc6fPw/F/dCkGEsokUiGz6GJ2ZFIJBKJRCLx49B4diQSiUQikUj8kMaORCKRSCSSQ400diQSiUQikRxqpLEjkUgkEonkUCONHYlEIpFIJIcaaew8w0SjUSwtLcF0vz9mWRZs2z6wDyBKJJLDSTQaRbFYhG3bsG0buVzO87FJnqWlJdi2faAfEZVIhk1Xxk46nUa5XGYNwbZtFIvFjvubGIaBarUK27Z9v+JNGIaBYrGInZ0d2LaNnZ0d5HK5tnl+yNBHG7e2tpBKpdg3e1RVhW3bng8HSiSSw0GveljTNORyOaaDbdtGuVz2NVJu376NsbExrKysYHNzE7qu486dO2IyRKNRzM7Ool6vy125Jc8UHffZyWaziMfjcBwH29vbcBwHx48fZx/ZC/rmDn2rishkMjBN05MGAFZXV9kXpuljhWH3g4SO42B+fl5++4gjGo1iY2MDiqKgVqvh0aNHKJfLqNVqcnMyieSQ0qse5vWE4zjY3d3FkSNH2Ecf19fX2cdp6bto/LlisYhIJMI+/kqUy2WMjY0hHo8P9BFMieRJ09azo2kaa2DxeBwzMzMwDAOTk5PY3NwEAJw9e9aTJxqNwrIsJBIJ1Ot12LbtuS7y3HPPoVQqYXp6GrFYDLFYDNPT03AcB4qi4D/+4z/ELD9olpeXoSgKVlZWMDk5CcMwYJqmNHQkkkNKP3r4vffeg6IosCwLJ0+eRCwWw/j4ONbX1wH3m3I0TfXSSy8BwtfV/b6gbpomwuEwfv/730tDR/LM0dbYef311wEAu7u7LcJ948YNAMDY2Jjn/NzcHEZHR7G5uYlYLIb9/X3PdRHDMDAzM+PprCuVCkqlEuBz/x8ymqYhEomgVqv5etMkEsnho1c9HI1GEQ6H4TgOLl26xKUGFhcXYds2FEXB3Nyc51o7kskkEokELMuSukfyTNLW2KHv5YyNjbUEq50/fx7gpp6Ira0tzM7O4vLly57z/SIaS8lkErZtY3V1lc1JU6xPtVrF0tKSJ32v7OzsYGdnRzzNfrdYLLJz/Ny53yHeZ2lpiQUR0/PmcrmuA4qpzB89esTinOhelmX5vvvq6iorr04Evbsf0WiUlbtlWeJlgPtt2yeY8aCeC1wMGF/Opmm2yLCIpmme+uHLNii/X1xEsVj0jTejuDS48Rf8b7WTg2g06pFz24298KtvcOn5Z7JdeaQ8hmG0vKd4kKy3qytqF+VyWbwE9CHz4rtS/F40Gu3pmf3aazuCZMwvnrBdnIwfuVyu5Tk7lQNPr3r4zJkz7JxoHAHAZ599BnAenU8//RQAcOLECZbm+PHjcBwHcGX87bffRrPZbDGeumFQXUH0Ikv8/fiDl9NoNNpynQ5R1oPkA+4Uo1+eIDRNg2maLTqDl6mgdqVpmu+z+MmpX9lomoZsNuspR0oryhbcMufjxPx0qRhH5neQPiS97KcfD5q2xk4+n0etVoOiKLh37x4ruGQyiYsXL8JxHPzud79ryTOMKRVFUQAAe3t7nvPPP/88AOCFF15AqVSCruvY3d2FbdsIhUJIpVJdC50fiqKw3+ah3+Wv1et1djSbTcA1gPjzhGVZSKVSUFWVXVMUBbquY2Njo6vKf+GFFwAAR48eZdNZhUIBpVIJo6OjSKVSyGaznjzPPfec5992BL27H5FIhKVVVdVX+Z85c4YpTHp24qCea2lpCcvLy4hEIqwuFEVBIpHAtWvXxOQeXn/9daiqimaziUKhwMp2ZGQEiUQCd+/e9aSPRqMeGSwUCrAsC+FwGGtray1lQu+Ry+WwsLCAkZER1Ot1OI4DXdexvr7eonDS6TS2trag6zocx2FTw+FwGKlUCrlczpM+mUxiY2PD80z0XIqi4NixY4DbgfJySvXEn6OpjHZ1Re3Cj15lnn92elcqm/fee6+nZ/Zrr+3wkzFelvjniUQiWF5eDuyURXRdBwBWF4VCAfv7+6wcxDoX6VUPUx37TUUBwOeffw4ALH7HNE00m01MT08jnU5jaWkJkUgE29vbgOs9UlUVKysrvsZTJwbVFehDlkhWm82mr3zAfS4xDelxUdb95ANu+4zH44BPHj80TcO9e/eQSCSguB+CtW2byRQR1K6uXbsGRVHYzAdcw255eRljY2PY3t5GoVDA7u6ur3y98cYbOH36NGzbZrJIae/du8fSwTVMUqkURkZGWFoALbrw0aNHrPxsN2xFLPevv/4a4Npj0PsdJG2NHQC4cOECarUaVFXFxsYGisUi1tbWsLe3d2DBw5qmYWJiAgDw8ccfi5cBV1D39vZYrA91FnAbTicFMgwoxigWizHFcOfOHXZucnIScJUJrZTiY5Pi8TjrhN58803h7q0cPXoUcJXn+vo6YrEYmwacn59nc/qiNX8Q0KiwVqsBPjED6XQaihtEDXekeNBE3ZUicAMwdV1HLBbDyZMnsbm52fUqtcePH8MwDFa2FGhPgfMExUWsr6+z+KmpqSnMz88DABYWFjzpCV3Xsbm5ifHxcSYHZKzzBpmmabh48SIAeNLruo5MJsMMAb7z+NWvfgVFUbC5ucmeyTCMFkWWz+c98ru7uwsIMu3XKXVLPzL/9ttvQ3HjTOhdx8fHkclk8OjRowN/Zh5RlvjnIaVPddMtVBeGYUDXddjudBJNU7WjFz1MeiII6tB5rly5gsePH2NhYQGzs7MolUosNigej6NQKPguMOmGQXVFP7JEbG9ve+RjZmaGXSNjj09DerwbotFozzJAhqNt24jH44i57Xl6epq9fzuoX1xbW2PnTpw4gUKhgPHxcVZnsViMGcj8dOXly5cxPj6OqakpJouxWAy2bUNVVY/RODo6ipWVFaZjDMNAIpFAs9lEOBxm/czMzAwrP1rBJ5b7MBwgg9LR2Gk0Grhw4QJrmGQN27aNTz75REw+FG7cuMGsXlodINJsNqHruqcQ+flocu8+DZCA3rlzx/O8jUaDuYV54QmCGufm5mZLudDoD27wocipU6dgmiY7xJFQr9AoJpvNotlsMrkgfvrTnwIA/vCHPwBtRtjDfK7Z2VnWWYrlc/ny5ZZzvcJ3ElE3LsK27Zb75vN51Ot1hEIh3/dZX1/3TPM2Gg02UnrxxRfZ+bm5OdYOxGlh0zSZYuY7D5IRmpr4vuhV5pPJJPOqTU1NsfRw35XvpHrhyJEjHvlKp9NdDYTayZLhTqcpitK1d6cd3XRyvehhkoFeIENSVVWcPHkSMzMz0DQNV69ehW3bMAwDSXfLC9ud+shms12V5aC6oldZ6hbyIHU7CBK5ffu2x0jrBnqXX//61x4vWaVSYYPjIFZXVxEKhWBZlqccyHARIS8WefqC0DQNIyMjcBzHI0u6rrfEZzUaDTx+/BjgPGP9cPbsWdYmV1dXffXksOlo7KTTaTZNsrm5iUwmg3q9Dl3XUSqVhv6QS0tLbOXBb37zG/EygwpcxHbdaH6u0G6gDs1PePohGo0iFArBcRzfkVGj0UDdne7qVniCOrJvv/0WCHCnhsNhJBIJdqytraFcLnelrPzgR18PHz70KH6NC6SmEeeRI0dYep5hPhfFHPCrSvqB7yCz2SwKhQKazSauXLnC0vzkJz8BAIyMjHg6Uzroff3ctX7P97e//Q1w3fwEjYgfPHjAzvFQPArfuX3xxReAK7+9Kv9OTExMoFwuew6/GI5+ZJ46AfLWDItQKOSRr4WFBZRKpcB4J6q/l19+GWjT1v7rv/4L6FHP8PJhWRZGR0exvr7e1ai3Fz1M00GD8v777wMA3nnnHQDAb3/7W4yMjGBlZQUffPAB4vE4C5BuxyC6oh9Z6hZ6Lr/22IlsNgtVVVEoFAKnC0Wi0SgUdyuAbuocnC7K5XI4d+4c6vW6b5uDO2BYXV1lMnbq1CkxCYPSkH5TFAUbGxu+05SGu+JX1G2DoOs6a5Pnzp0bSO93S1tjxzAMLCwswHEcFnRsmiZisRg2NzehKApu3bo1tAdMJpOYnZ2F4+6v061A8FCH3y80Wr569Sqy2SxM00SxWPTMp/YCNcBhKnE+kLBbCoUCVFWFqqrMZRoOh5lC6xUafd2/fx8bGxsAN0IjjwRNQTqOEzjaHOZzDcurwXeQ8Xic3Zc6ZHCdnNiZ0kF5KLi0E36y3s/7GIaBQqGAsbExbG1twXYDBPuVX55QKIRwOOw5eOOM6EfmO8WZ9Eu9XmfyNTExgfX1dSiKglQq5TtQo/qjKcugjrAfg4KXDyq3H//4x2KyFnrVw8MoQ4rb+eCDD5DP55FOpxEKhfCnP/0JN2/exOXLl1Gv1z1tIohBdEU/stQttILNz4hqB8Xp1Gq1ngbF/bwL6RfdjWN78OBBi0FCHre1tTWcO3euRYb9EPXb3t4e/vu//9uTJp1Oo1qtYnl52Ve3DUImk2Htcm5uDvV6vW+93y1tjR1yHW9tbbUo48uXLzOXai9LGINIJpO4desWFEXB9evX+44F6jRf3QnqLCj+JZFIYHR0NHAVQSf4lRSDQqP2Tm7JTlQqFVy4cAHoYzREkHXfaDSQz+c97ulXXnkFjuMw9z817k6ehkGfizqgfoxBHr6DVN3ATLGDpCBPMa14dCvHfmVD70Menm7Z2tqC4zhwHAelUgkFN0B5UHjDlI5MJiMm60vmv/vuO2AI7bcdjUYDi4uLLLhzenpaTMLei6YmgmSJOnB67m7gy21ubg57e3uIx+MdF1T0q4fF2BciFosBbYwiilfip0/JuBf34qFyaMcguqIfWeoG8hjRTEC3UJxOs9lkuqpb6F168YyQfpmensbu7i7OnTvXYpy9/fbbCIfDKBQKmJ6eZjJGsWV+UJqJiQmsrKxgdHQUCwsLzHij91TcmMSJiQmWhzxpwyKfz7Owk370fre0NXZIkINGNyQoP/rRj8RLPcEbOuvr6y2V6cfIyIh4CuCCSMUle71gGAbGx8dZ5fpFqndLPp+H426Q6NehaZrGnvn+/fviZQ80t8zHdfDQeeqI2yGODnpFVBR/+ctfoCgKGxHy89jUaXcjyIM8FynvXo2DTty8ebOlg/z73/8OtJHDdviNjPjlwgTVY1CHS3P8fKelaRp++9vfIhQKYX5+ngUs9iu//dCPzJP3qt1odFh045XpJEunT58GAPz5z38WL3VFPp9nwZw0ZRZEr3p4a2sLaFOWpCeCpkffe+89gFvWHkQ35YgBdUU/stQNZBjSMvxuoUUJV65c6VlX0cAnFAr5vks7KpUKzp8/D8dxkEgkmBePYt0orko0hjvRaDQ8+o0MYYpZ297exuLiYs/v2isHfX90MnYofsUvOJDmWjFAg4ePoSMGAwahqmrLHJ9pmgiFQmg2mx6DKeru8yDuTfCkoMZ8+/Ztz/NqmsYCUy3L6ljha2trcBwHqqq2xBzkcjkm9GJQmR80Z97ryAbcqIvfA4nc02QMfPjhh+wadRxBnTbPIM9FKxTEFUpw3fJimfUCzX+TwUkjVL+6gFu3QcGrFy9e9OSJRqOs3P7617+y81Smuq63/Aa/5PXWrVvs/NzcHEJuEGO3XqWDoFeZN93lz6FQqGWwQzEDw0DjVnq2GxS0k6VcLodQKIR6vT5QGVPH4rc6iqdXPUyyqbjbHPCY7sqmZrPpqyfMgF2SxeXqcNtEp2cfhq7oVZY6obk7UkNY1dQN4XAYm5ubfdc7eViXl5c97xJ195dqR6PRYGVBqzZpSffo6GhL2QQNiv0gLyB5Kv/5z396zhPJZHLoXja4wdcQ9P6w++22xs7169fhuPtK0GZCphssVSqVoLjr/fmKNwzDE8BIBXPp0iV2jp8r/+1vfwvFDdp67bXXWgIgywGbpzWbTbavQLlcRrVaRcJdIvzHP/7Rkzbi7vNAI6QnzaVLl2C7S/voecvlMra3txF2V/QEBZ3xNBoNpihSqRSq1SrK5TJ2dnbYnC4FE4rwq55on5d26dtBypVXdJVKBba7fFpUpNSA/KbfhvlcFW7n7eXlZViWxconlUr5/r4f4gqearXK6ok3xq9cuQLHcZBKpVAul1n6YrGI7e3tliW2xN7enqf+tra22OiXv3+lUmHbKfDpq9UqW9YuBrhSB/IkPTl+9CPz1G4TiYTnXZeXl9sGW7bDL9icjEG/zp5oJ0vU1t59910xW1t4mSqXy0gkEnAcB9evXxeTeuhHD6+srACuscaXJf0mH2xPJNvsknz37l04joPz588jnU5jdXUV4XC441LtYeiKfmQpiGw2y8qsUCj07Amp1WotKyN7ga/LUqmEcrkMy7LYXlqdIFkhY61SqaDu7jlE2wPQO46Ojgq5/1cGLcti8aj0/4i7lxQFnNPAOhwOM92Wy+V6Ng6D4FdjFYtFnDt3rkXvD7vfbmvsVCoVtucCuKCmSCSCer2OlZWVltHGiRMnEOYCGOlBVVVl5/xWqCiK4snHH36d1OPHjzE/P88CWkOhEGq1GjKZTEtDJTqNQtpB861Ol65bnkajgbNnz7JVPfRetrux09mzZ7selSwuLmJlZQV1d2lz2N0W3rIsxOPxlhFHuVxmv8kHrlmWhdnZWU96x43z6ASN7sRg8I8++gjggrwJvwDbg3guuKPf9fV1phzD4TD29vZQKBTw1ltvick93L9/nylhPiBvf3+f1RNPPp/H7OwsLMvCkSNHWPrR0VGUSqXAaYA7d+6w+fRwOIymu4mheH+49Z3JZFCr1Vh9K+5y10wm4zGODMNgHgdzSJ4QcB2QX3xKUAB2PzJ/8+bNlneFOxputzLTD7+6jMfjePz4MdbX11uWt/vJ2MzMDGtrJEvt2loQNJrnZerIkSNM1jt1uP3oYdM0MTc31yI3fu2LePPNNwMNh0aj4dk/6syZMygUCi1eL5Fh6Ip+ZClIZikmLOjZg/I5joNmhzgdMY8fVJckE+FwGKOjo6w9E0H9DW/ckOf4/PnzsNz9hhKJBE6fPo1areZrRJfLZezv77N41EQigZGRESbTVI5U39S/Jtyg+kKhgA8++EC8bdc8ePAAjrs/GP3+2NhYW7kcpN/m6fjV86cNw/1Cb71eZ27gTuRyOejuRmzD7AQkkl4ol8sIh8NSDiUSiaQDw+6323p2DgPRaJTtRTGMApNIJBKJRHJwHES/feiNHdoB9I033hAvSSQSiUQieco4iH77mTN2guYyg5iamoKu6y1zuhLJk4ZkNijORSKRSCQH028/czE7EolEIpFIJL3wzHl2JBKJRCKRSHpBGjsSiUQikUgONdLYkUgkEolEcqiRxo5EIpFIJJJDjTR2JBKJRCKRHGrkaiyJ5HvAMAzEYjEcPXoUoVAIY2NjqNVqLZ8xkEieNqLRKM6cOYNjx47h1KlTGBkZgaqqmJ6e7vjpC8mzxerqKs6dO4fNzc2Bvgn2NCA9O5IDxTAMVKtV2Lbt+QCsH/RROtu2Yds2dnZ2kMvl2JeTDwOmaWJnZwfLy8tIJBLQdZ19A+rLL78Uk0skTw3JZJJ9uDaVSiHhfs9OVVXYto2vvvpKzCJ5xnnuuec8/z7LSM+O5MAwTRMJ90v0ANp+48SyLKiqimazyT4O+OKLL0JVVTiO09UHE592stks4vE4ms0mHj58iH/84x/48ssvA8tEInlaiEaj2NjYYB+hffToEcrlMmq12jPfLiXBkA4P+nDqs4T07EiGTjQahWVZSCQSqNfrsG1bTOIhnU5DVVXU63WMj4/DMAwYhgFd11Gr1aAoCubm5sRszxTJZBLxeBz1eh2JRAIzMzNYXFyUho7kmWB5eRmKomBlZQWTk5MwDAOmaUpDR/LMII0dydCZm5vD6OgoNjc3EYvFsL+/Lybx8MILLwAAvvjiC/ES/vM//xMAcPz4cfHSM8Xs7CwA4N133x3qFugSyUGjaRoikQhqtRpu3rwpXpZIngnaGjs7OzvY2dkRTyOZTMK2bRSLRXaO4iyCDvE+S0tLnviMarXac3xGNptl+dPptHgZmqaxeBHLsth5wzBg2zbK5bInPUHXc7kcAKBcLsO27RY3XrFY9D2fy+U8z7S6ugrbtrG6uupJB+4efDyLX/nyULmJMTBB9YWAZ+30Ozx+zxnE1tYWZmdnuw5o++677wAAp06dEi/h5ZdfBgB8/vnn4qVAlpaWmFyIh9/zp9NpVse2K4uix0W8j3gElTvxr//6rwCATz75BKZpMrn0i0vqVT6Jdu/Npw2SZ4KuR6PRlvuIR6f3Jrlpd/jJ/urqKjRNQy6Xw87ODmy3XpaWljz3R4f2FY1GfdtFuzz0DEHl36vuikajnvfwq/N2z+P3DmIZigel7aWNB3H+/HkAwKNHj2AYhqdOLcvyrROi17ICwNqGeIjv0ItOCirfXs/D7VdyuZznOYvFYlfPAe7e7Q7xd4vFIqvTdDrtKdN25SnKnu3Kdbs6ozzVapWFISQSCezs7KBYLPrqjU5yJvZZvL4NOvjyXFpa8tXRmqZxv9KetsaOoihQFEU8jeeff55dJ+r1OjuazSbgNkj+PGFZFlKpFJu6qNfrUBQFuq5jY2Oja6HhR/tnz571XAOAN954A6FQCI7jQFVVdt40TTiOg3A47CskdK9PP/0UAPDXv/4VADAzM+NJ51c2UffT9M1mk42C2gV50T2oTPm//e6fzWbZu/B50Ka+EHCvdr8j4vecQeTz+Z7c2zdu3ECz2UQ4HEYul2MCvLS0hHg8Dtu2cePGDTFbIMeOHQME+aOPcIrPn81msbCwgCNHjqBUKqFQKGB/fx+JRMLT2fUi335QEOe9e/cQj8fx8OFDFAoF7O7uMrknWexVPgl6b8uyUCgUUCgUmJEfCoVYugcPHgABbSYajSIcDqPZbKJSqQz83iQ3Yp6gOqG/X3jhBZRKJei6jt3dXdi2jVAohFQq1dIRtGtft2/f9m0X7fKIMsLTq+5KJpPY2NiArutwHIe9t67reO+991i6ds/j9w7d1ksvbTwI8rwePXqUTWcVCgWUSiWMjo4ilUohm82K2XouK4J0NuWx3Wlw8R160UlB5dvr+Wg06pFLamPhcBhra2u+hoAI3bPZbHrqi69L8Xep/nO5HBYWFjAyMuKRpfX19ZaOP51OY2tryyN7tm0jHA4jlUq1DJbg6lzKA/cZ+X8jkQiWl5db6rudnPn1WY8ePWqpX7E8vv76a8A19FKpFEZGRpheg2uA3b17l/1OJ9oaO70Qi8XYQQGmd+7cYecmJycBV5GT4p+enmbX4/E4LMuCoih48803hbv7MzY2BgCo1Wq+HcOrr76KZrOJ3d1dwFU8RK1WA9wpFx5N05hwLC4uAgAWFxfRbDYRiURafkOE7kdlMEzS6TTi8bh4+pmn0WjgypUrsG0buq6jUCigXC4jlUqhVqvh7NmzPU39UIPj5Y9kgMcwDGZMURwNHysUDofZCKhb+faDZIYafDweZ78Vi8WY3F+9epXl6UU+CTL+7927B8ONe7p3754nDQBsbGwAruISFeT8/DwA4C9/+Qsw4Hvz8Hna1QkRiUSwt7fHdAQpdAA4c+ZMy3P7wSvZYdCP7nr77behKAosy8L4+DhisRjGx8eRyWTw6NEjT1o/gt5hWPXSDUePHgUAVgexWAyGYWBmZgbz8/NwHAfxeNyjG/spK7jyDQC7u7ssz507d8Rk3xvvvfceFEXB+vo6i12amppi7WZhYUHMEsj29ranHvm6DELXdWxubjJZIv0VCoVw7do1lk7TNFy8eBEAPOl1XUcmk2FGEm+cGYaBVCoFx3GQyWQwPj7Onmd7exsnT55keePxuO9sikhQnzUzM9NSv2J50IB5dHQUKysr7HkNw0AikWAD5E59MjE0Y6dbJiYmALdh8qP/RqOBS5cuAUDXL6AoCur1Oj7++GOAi4uA28GoqoqHDx8yq5QfAfzhD38AuOchqHOhzoagSieh9kPTNMTjcTiOg7feeku8PBDRaBQXL15Es9lklvCwOHLkCEzTZEc3Qjxs8vk83nnnHTiOg1AohHA4DMdx8OjRo54MHXCdvliHIuTZuHv3bstv0MjllVde8Zzvh0gkArgjFz/D7fr165506EM+4SoFuB1NOyqVSmDg9+nTpwHOIPq+aDab0HXdoyMWFxdh2zYURWFTK0GQkvUrp37pVXclk0mo7gpDcf8k0zRbPMUiw3wHvzbejcEIziu4ubnZYmDn83n2fLz+7bWsiNdffx3gPAndcPbsWfZeq6urgR6jQSGvp23bvuVQr9cRCoUO7PcBYH193RMe0Gg0mHfjxRdfZOfn5uZY/yiGE5imyfoz3rtL8rixsRGoQ0zTZLrBzzPMM6w+S9f1llixRqOBx48fA4LebEdbY4cErhvXXDdEo1HmovQrzEajgbrrfu30ArxAra2tAa4nhyAlvrGxgW+//RYAcOLECXY9n88zi5i/F3Vu4ojYMAxYloV4PI5isQjTNHHkyBGAa2zkXrt+/bqnQ6P9J/xiUrqFXNkrKysdA37L5XLLQV4wP0KhEBKJBDsWFhZQrVYPtNGKmKaJtbU1NqpYX1+H4zhIJBKwLKtrxQzO49dpKo1GzD/96U89HYFpmqwh+7ll++Xx48cthg645+R/q1f5hPs+3XYSFPjNG3PJZBKhUAj1er1j2R00pMhESGnS1IofpGQdx8GFCxfEyx4mJiZa2gp1xjz96C7q8Nt5sILo5R26wa+Nl0qltrEbIuK0KUH6laZe+ikr4qWXXgK4e3aDruvsvc6dO4e1tTWUy+WedEY3/OQnPwEAjIyMtOgLvj/oZlqtX/z24vrb3/4GcPoMXDnSlLUIxdbw09tUF6IhJ0L9Le0PFkQvfVY3GO4KQLG8u6WtsUPW39WrV5HNZmGaJorFIpaXl8WkXUGF2U/jF+Hn/hqNBmq1GlRVZSOFiYkJNJtN5PN5FgBLMQ3ERx99BAD41a9+BXCrDprNpm8j/fDDD+E4DiKRCBKJBBMUamyhUAi7u7u4f/++Jx914uFwGOVyGaZpIpvNolqtdhQYcK7szc1N3+cSCYfDLUe7Trter0NVVaiqiomJCRQKBYRCIdy6dUtMeiCY7l4OtVoNiUQCpmlicXGRGTqqqnY9NxuNRtmIphOkHHhlSQfNWTtuXMkw6LVx9iKfNCDp5r0B4ObNm0yWqc3QyJxi1J5GuukEScnOz8/7Gpc85EXkD79po350F+mbbqarRHp5h24Q2/j6+joURUEqlep6UMMPFtvRT1kR9Bt8vFwnMpkMe7e5uTnU63WEw2G8//77YtKBIANbNBzpoP7gm2++EXIeLH4DE3qWIAN1ELqRx177rHak02lUq1W2EatY3t3S1tgxDAOFQoHN0SUSCYyOjrKgx14hIWjnZegWahTUGfFTWTRCpbgDqnCaeyYo6JUaZ7t4m3Q6jYWFBRZHoLpBd+Aa2+bmJsLhMO7du+cZVTQaDczPz7M4kEQigYmJCdS5gLQgeFe26I4Mgho+f3TbCTYaDRjuah9FUYbm1WsHzelmMhlPQ+rk8vbjzJkzQJcdDHkJeGUpHsOIfaDG3mvj7EU+6Tl7UW50HzJyTp8+Dcdx2MjtaURswyK8ks3n8+LlFgqFQkudZzIZMVlfuosGWZ2eWaTXd+iVRqOBxcVFlEolAMD09LSYxANtCSEOFoPop6wIGvyJA8ZuyefzbIpT9BoNCq0I5Q1Hv+Mg6qwdfnqR+kXy8AwT6tuCBoL99FlBkIeT4qQmJiZYOXfbpxFtjR24Bs/4+Dj7AV3XfV3o3ZDP5+E4DhRF8a0gTdO6FnZqeCSAi4uLcBwHr776KlPeNLdIjU/sbMgjpCgK0uk0XnvtNYBz0/H88pe/BAD8+te/9rWkAeDy5cvME8EHi8F998nJSVaOJ0+exNTUVKC7Hq67lOY8h+HK7oVhuB27hbxOfuXaaDSYQfgv//Iv4uUWqA6DlkDy7O3tAT5ycRDQO/jFQ9E5cV67F/mcmJjo2VCh9vHqq6/CMAyEQiHUarWuRm4HzcjIiHgK4DpDv5H/qVOnhqZkRfrRXWR40vluOMh3EAnqrERoGp6PCeGh86SL+ykruH1NyJ1GHUQGB8nbjr///e9AG9l8EvjpKhrg8Z0/1UWQN44GR/ygkPRPp6lNGnT5GRvD7rNmZ2ehKAq2t7exuLg4UN12NHaGDQWz3b592+P90DSNTVVYltXxpWi0xHtGaCrr9OnTsG2bdZ5kaftNI1Dswvnz5xF2g8/ETndpaYl1BOI1kaDA0n5QVRWKouDKlSsdy2OYRKNRNirrZHQOA6pDcUkxOAXoOE7HEZNhGAi7y6a7cZ2SN/D8+fO+8/uGYfgq634gL4r4W8lkkq2a8Juq60Y+TdOEoigolUo9yQnFBamqyjxoH374oZjse0FV1Za4C9M0EQqFAuuX6n4YStaPXnWXaZpoNpsIhUItz0vxByIH/Q6EpmlMR3Xaw4qm4VVVbekIc7kcVHfVFR9E2mtZgZuKHXQalfSIOHgYlHw+j2az6VsOcN/NbzAzTC5evOj57Wg0yjxzfLnRQEbX9ZZn5VdI8aEKf/rTnwDXwAh6j3Q6zZwJ4vJzHECf9c9//hPw2VQ2mUz27Dl84sbOpUuXmILd3t5mQYHb29tMmfsFCIqQhUuNCpyiDoVCrOIIx13lI0KxC6o7Ty/mA4Bf/OIXQEDlivBR+aKQ9cNBubJ5+JUa2WyWfQNnfX29L4E1DMM3OPrSpUvsHB8n8Mc//hEAcO7cORbTZArxYb///e9Zej/K5TJLu7KyIl72ZXFxkXniSqUSi0ujeKrl5eWhucLfeuutFrm3LAtra2tQ3KXJ4ooDdJDPpPthxoS78depU6c85V7mgm3HxsZQ9tlMjOKCVDe42e8Zvg+azSbGxsZYWfEbnJG8+DEsJetHP7qLnjWRSKBarbJ3WV5eDlywcBDvILZxissLkjueRqPBOs9UKsXeY2dnh22D8M4773jy9FJWS0tLLH6xXq93DJAV4VdjFYtFnDt3zveZ4BOQTgZf0HmRK1euwHEcpFIplAVdtb293XGF0qDs7e156mBrawuhUAi2sEKsUqmwrRr49NVqlS2PX19fb1ntSNsCLCwsYGdnx1M+lJf6Bj9jHUPus/ziXXO5XE8ebKIvY4emhbp1g/I0Gg2cPXsWhUIBTXedPAl/oVDwXZrrB7kS+cqijsHPnd8uWI7mruEzRUDLR23bbqncoPenab5uli3TPfigNvq7kytbDISjd/fD7/z9+/dhuyt+KOiLYokymYyn8fg9ZxAnTpxg9RrmgqNVVWXn+BULN2/eRCaTgWVZGBsbY88yNjYGy7IwNzfXUSGPjY2h2WxiZWWlpZ7Q5vmnpqawvr6O3d1dFpc2MTGB3d3dwHv1A8m9ZVlM7lV33nllZaVlaTJPkHw+//zzCHNTJHyZ00FGkqIoCIfDLXEXN27cYGXz8OFDz7VhEFTuna49fvzYE+dGntVMJtMiCxQb007JivJPeehfHr/nQZ+6i2S7Vqsh5AZDw/Vq/OY3v2Hp+nmHbvBr4/F4HI8fP8b6+npbueNZXFzEysoKG8iF3a0hLHeFqvjMvZTVj370I2Z4+W0pENTfPHjwAI67X4yoM2ZnZz3PROVLz04HDYCDzovykc/nMTs7C8uycOTIEfa7o6OjKJVKvs8v0k722l2Du5SfVv2GXS8glafI4uJii+wp7odcRf1OTE1NsTzgnAr0r2VZmJ6ebsnbb5/ViYZPvKuqqigUCvjggw/E5G2RXz13RxapVAqWZXXd+CWSJ0WQfBqGgeXlZRS6/CIxdTRi2mq1ilAohOnp6ZYpsicNvVO9XkcsFhMvSyQ/SMrlMsLhMDKZzNAGYN1gyq+eHy5omqrfwGuJ5CA5SPlMp9MIPSV760gkEslB8YM3dgzDYPEKT9Jilki64aDlk9zfgwaFSiQSydPMD97YoSV4fnuXSCTfN+3kk+a/g+b3O0FLgP1i3L4vguIzJJIfMu3i2w6STjFEzxIyZkcikUgkEsmh5gfv2ZFIJBKJRHK4kcaORCKRSCSSQ400diQSiUQikRxqpLEjkUgkEonkUCONHYlEIpFIJIcaaexIJBKJRCI51EhjRyKRSCQSyaFGGjsSiUQikUgONdLYkUgkEolEcqiRxo5EIpFIJJJDTVtjZ2dnBzs7O+JpJJNJ2LaNYrEoXgLcz8JblgXbtmHbNizLQjqdFpMhGo1iZ2eHpfFjdXWV3cfvHiLJZBK5XA7VapXlq1argR9RXFpaQrlcbkmraRpLw18POpLJJOCWGZWLaZrsOXZ2dlruS0Sj0ZZnLhaLMAyDpTEMo+U3xYN+l8psdXWV+xV/gurYj2Kx6HlXHvpNsZw1TfOVh6WlJU+6drR7xmw22/KuJFN8+YGT22q16jnvB90j6BCfh94/mUwimUyysrJtG+VyueVZ0KE80+k0bJ82ZhiGR0743wgq02g02pKeDj8ZoeenMtjZ2UEul2uR3aB6GZZ+aCfH9Bvlctlzvp8yhSunfm3Q7z4SieTZo62xoygKFEURT+P5559n10Usy0IikQAAFAoFlEoljIyMYGFhoaUjjEQi7B6qqvp2CGfOnGEfQXvhhRfEyy38x3/8B1RVxcOHD1EoFFAoFAAAiUQC2WzWk7ZYLCKVSmFkZKQl7d27d1m6R48eoV6vo16vw7ZtAECz2WTn6vU6vv76a8Atk9HRUVYO+/v7qNfrUBQFiUQC77//Prsv3M5rY2MDkUgE9XodhUIBlmUhEolgeXmZlck333zj+T0qE/7co0ePAADPPfec5992BNWxH5SO6p/H77c0TUOhUEAikcDe3h6Th9HRUaRSqRZ5CCLoGdPpNOLxOCD8/sbGBgBgYWGBnQOAt99+GwCwsrLiOe8H/R5fvnTw1wn6/V/96ldYW1tDOBxGvV5Hs9lEOBzG8vJyS8cZVJ7RaBQXL170pCFisRhCoRCTFZKXsbGxwDKNRCKAILPNZhPwqbd0Os2ev1aroVAooF6vQ9d1lEolj8ETVC/D0g/t5FgsM6KfMo1GoyiVStB1Hbu7u6xMw+Ew1tbWfPWSRCJ5tmhr7PSKaZpQVRWWZUHXdRiGgZmZGSQSCTSbTSQSCUSjUZb+pZdeAgDUajUAwNmzZ9k1uIpXURR2/fjx457rfkxOTkLXdczMzMAwDBiGwZTrxMSEJ+3o6ChWVlbYs1Ja6qDoWWdmZhCLxRCLxXDnzh3A/Qo1nYvFYqhUKuy+qqpidHQUmUwGuq4jFothbm4OjuMgEol4lOeJEydQr9cRj8cxNTUFwzAwNTWFzc1NgCuTfD7v+b3d3V3A7fzoeNqU8rFjx7C/v4+5uTlMTk4yeZifnwd86qMX+M5LZHFxEfV6HaFQiHWgq6urTDbFTrUdfPnS0Q5d12FZFuLxOGKxGMbHx5nX8s033xST+3L79u2WDlnkiy++YDI7NTWF3//+9wCAU6dOiUkRCoUAQWb9vqKuaRouXrwIx3EwPz/P5HFychKbm5tQFIXJfz/0qh+GSbsyfe+996AoCtbX15mcTk1NMTkVjWaJRPLsMVRjhzqvS5cuec43Gg2mXGdnZ9l5GrFls1k0m002AiV++tOfAgD+8Ic/AD4jsm7593//dwBgBgKh6zpu3rzpOddoNPD48WOAGxH3w+zsrKdTzefzrAwmJyfZ+cXFRUxOTqLRaLBzAPDpp58CXEfVD6dOnYJpmuwQPQsHTaVSga7ryOfznvP0/0HejTovMoRFfvOb38BxHCQSCRiGwTyEomwOG8uyMDU15alP+s1wONwyFSSSzWahqmrge3WCPDY85BH96quvxEse5ubmoCgKtre3W+rs8uXLwIBtolf9MCzalWk0GkU4HIZt21hcXPRcy+fzzGh+0m1HIpEMl7bGDinObjwGmqaxzuvatWueTtY0TTbi5F3SvKfm4cOHUBSFzd1rmoZIJIJarcYU75EjR1j6dkSjUfa7uVwOt27dQrPZxLvvvismBdz345+1299pB+/pIf7xj38AAR6qaDSKpaUl9gyil6sfwuEwEokEO9bW1lAulzt2uJ24dOkSyuWy52jnpdE0Del02lPGg0CdV6FQYFN3IpVKBaVSCQCwvLwMRVHw+9//vsWoHDbffvuteAqNRoO1pddff128zKBpuXq93jLlKsIbsrlcDhcvXkS9Xm8xJMDJ25dffile8vDjH/8YcNOL7ZfqjB9wHLR+ICYmJlrkze89/ehUpj/5yU8AACMjIy3PZHK6QJwWk0gkzxZtjR0abV29ehXZbBamaaJYLGJ5eVlM6lHifAdLRzgcBgB89913LB0pzvv377M4C/Lm0Cjz448/BgA4jtO1JyASibDf1XUdiqK0eHXgKsJqtYrl5WXPs3b7O73i19lQYOTW1hZSqZTnuQelUChAVVWoqorp6WnUajWEw+GWuKFeUVUV4XDYcwSVmWmaKJVKWFhY8JRxv1DnVavVOnayb731FvvbcZwWL96ThLyFQdC0XLPZxPnz58XLLfCGLMn4yMgI82LyjI2NAW5dtIOMItFI5uuMYsXwBPQDEQqFWuRNVVUxWQvdlCl5vUKhUMszJThd8M033wg5JRLJs0RbY8cwDBQKBTiOg3g8jkQiwYJvRe7fv8/+pg7W7yB3ODhPTaPRQD6f90xlvfLKK3Ach7mWyVjpZk7fdGMDqJPf3NxEJBLBrVu3mFeDFCHN1U9MTLA8FIQ6bE6cOCGewo0bN6DrOmq1Gubm5tgzZDIZMelAVCoVXLhwARhwKgIAMplMS71ScDdPOp1Gwg1OXllZ8aTvB77zondpx40bNwDXA6EoSsfO/iDp5C2kabkrV6505X3iDdmJiQlsbm5CVVXcunXLky4ajSIUCrHA+naQl4y/t3icPHmSpT9o/UD4PU837aObMv38888BNxBd/A3+EKf1JBLJs0VbYweuQhsfH2eNXtd13Lt3T0yGRqPBRn3dTpOISvgvf/kLFEXB0tISm8Ii6N69dtSVSgWXL19G3V0RRSPM2dlZFp+wuLgYqAz7xa8MKCD7iy++YOdo+ufChQsHrlCH/Y6d+PnPfw4AuHv37lC8KhRI2q7zIgzDQDweh23bSKVSLH7noGMv+GkeggwOBHhXDMOAqqrY3NzsSwYajYZHxnmP19zcHADgs88+43L4w68o7JaD1A+D0G2Z/v3vfwfcaSyJRHJ46Wjs9AIZJ0ErNvh9QMhDs7+/z87RVNb09DQA4MMPP2TXaNTp5x3phKZpbGRN7uh//vOfgE/8TDKZZG7/QSgUCp6O1TAMNjW1trbGzlMHIMZyDCNmR4TioboZ5Q8Dejdxy4Cg/WA6EQ6HO3ZecOubVtC88847qFQq+OCDDwBu+flBEY/HPbEhmqaxaR0/jwfc96rVar5ejW7RNI3JLbVDTdPY0nxe5oKg9jcxMeFrFEaj0Y5Th+3oRT8MSrdlSh5lVVV9f5/izXhobye/GCCJRPJ0MlRj59KlS7BtG7qus835TDeAcmdnB6lUiqXl9/4gKpUKbNtGKBRCs9n0eANoLv/YsWPsnB8UwEi/nc1mUSgUEHL3JqGOcm1tDY7jIBwOs/S5XK6rTqEb9vf3sba2BsuyYFkW6/BKpZIneNkv7qFarfbswfJDDGJdWFiA4zh45513xKQHAo3wE4kEcrkcTNNEuVxmnpZe6abzgjt9FQqFUCqVWH1fvnwZtm1DVVXfTeqGhW3biMfj2NnZQblcRqlUQiQSgeM4uH79upgccNtAN9NyPHzdZrNZlEolKIrC5Is/VygUfAPmRSqVCtbX16EoCtbW1lidme4mgFtbWx2X3rejF/0wKL2U6ZUrV+A4DlKplEd3FItFbG9vtww8aIAkDpQkEsnTS1/GDnlHxA6r0Wjg7NmzKBQK2N/f9wQfUkwKQW59cfXKRx99BHBGAEFLsTvx4MEDjIyMsN+Ox+PY399HoVDwKOpGo4H5+XkWtJtIJKC6sSfkBRiEs2fPwrIsjI6OQlVV2LaN9fV1zMzMeNKJcQ/xeBy7u7uYn59vKd9uKZfLaLp7BfF1YFkWZmdnPZ4Rx3G6/h1K5xes6RdYapomVlZWWAeXcINcV1ZWeoqLchynY+dFv59MJhGPx+E4Dt544w1PGjLyzpw54znvR7tyaXfts88+w8rKCvb29ljQLZW7aHDQPdpNy4m/41e3JDO8fB09ehRwPYx+3hgqL7HeFhcXkclkUKvVPIH++/v72Nzc9L2XyDD0A9o8IwJkEH2WaT6fx+zsLCzLwpEjR9hzjY6OolQqtQQ3k5c5aCWgRCJ5+vg/R48e/R/xpKR/aIpI7TMIV/JsYpomEolEoHEhkUgkku+Pvjw7EolEIpFIJM8K0tiRSCQSiURyqJHGzpBpF88hOby0iy+RSCQSyfeLjNmRSCQSiURyqJGeHYlEIpFIJIcaaexIJBKJRCI51EhjRyKRSCQSyaFGGjsSiUQikUgONdLYkUgkEolEcqiRxo5EIpFIJJJDjTR2JBKJRCKRHGqksSORSCQSieRQI40diUQikUgkh5r/HznmM7rOfsblAAAAAElFTkSuQmCC)"
      ],
      "metadata": {
        "id": "YR_ZZkaOlY7h"
      }
    },
    {
      "cell_type": "code",
      "source": [
        "z_1, p_value_1 = ztest_1sample_data(pop_mean = 15_000 - 14_812,\n",
        "                                   sample = df_18_m['Profit'],\n",
        "                                   alternative = 'greater')\n",
        "\n",
        "print(f'z test: {z_1.round(5)}\\np-value: {p_value_1 * 100}%')"
      ],
      "metadata": {
        "colab": {
          "base_uri": "https://localhost:8080/"
        },
        "id": "EV5gCDJRT8fJ",
        "outputId": "f9973b60-12c5-4263-a12e-e95edc1ff93f"
      },
      "execution_count": 40,
      "outputs": [
        {
          "output_type": "stream",
          "name": "stdout",
          "text": [
            "z test: 32.7505\n",
            "p-value: 0.0%\n"
          ]
        }
      ]
    },
    {
      "cell_type": "markdown",
      "source": [
        "####Верно"
      ],
      "metadata": {
        "id": "uOw0AAmbgqm3"
      }
    },
    {
      "cell_type": "markdown",
      "source": [
        "\n",
        "\n",
        "--------------------------------------------------------------------------------------------------------------------------------------------------------------------------------------------------------------------------------------------------------------------------------------------------------------------------------\n",
        "\n",
        ">минимально детектируемый эффект дл мужчин 18 лет\n",
        "\n",
        "\n",
        "\n"
      ],
      "metadata": {
        "id": "v8-6e9bddGJn"
      }
    },
    {
      "cell_type": "markdown",
      "source": [
        "Гипотеза, проверяемая в одновыборочном тесте: <br>\n",
        "$H_0: \\mu_{19} = 15000$ — средняя прибыль равняется стоимости привлечения. <br>\n",
        "$H_1: \\mu_{19} > 15000$ — средняя прибыль больше стоимости привлечения."
      ],
      "metadata": {
        "id": "0crffeEknb5t"
      }
    },
    {
      "cell_type": "code",
      "source": [
        "man_18 = df[(df['Gender'] == 'male') & (df['Age'] == 18)].copy()"
      ],
      "metadata": {
        "id": "hq22E9jMWh1T"
      },
      "execution_count": null,
      "outputs": []
    },
    {
      "cell_type": "code",
      "source": [
        "def zpower_1sample_data_monte_carlo(mu0, mu, sigma, sample_size, n_monte_carlo, significance_level=0.05):\n",
        "    rejections = 0\n",
        "\n",
        "    for _ in range(n_monte_carlo):\n",
        "        sample = sps.norm.rvs(loc=mu, scale=sigma, size=sample_size)\n",
        "\n",
        "        test_stat, pvalue = ztest_1sample(pop_mean=mu0,\n",
        "                                          sample_mean=sample.mean(),\n",
        "                                          sample_std=sample.std(),\n",
        "                                          sample_size=len(sample),\n",
        "                                          alternative='greater')\n",
        "        if pvalue < significance_level:\n",
        "            rejections += 1\n",
        "\n",
        "    return rejections / n_monte_carlo"
      ],
      "metadata": {
        "id": "au3l3CCyWiB6"
      },
      "execution_count": 50,
      "outputs": []
    },
    {
      "cell_type": "code",
      "source": [
        "for effect in np.arange(0, 500, 1):\n",
        "    if zpower_1sample_data_monte_carlo(mu0=15000,\n",
        "                                       mu=15000 + effect,\n",
        "                                       sigma=man_18['Profit'].std(),\n",
        "                                       sample_size=len(man_18['Profit']),\n",
        "                                       n_monte_carlo=1000) >= 0.8:\n",
        "        print('Минимально детектируемый эффект:', effect)\n",
        "        break"
      ],
      "metadata": {
        "colab": {
          "base_uri": "https://localhost:8080/"
        },
        "id": "0rCgEo-uH0QH",
        "outputId": "29f2e747-0fb9-42d5-eab3-1ded9d8d00c0"
      },
      "execution_count": 58,
      "outputs": [
        {
          "output_type": "stream",
          "name": "stdout",
          "text": [
            "Минимально детектируемый эффект: 144\n"
          ]
        }
      ]
    },
    {
      "cell_type": "code",
      "source": [
        "ztest_1sample(15000, 15245, man_18['Profit'].std(), len(man_18['Profit']), alternative='greater')"
      ],
      "metadata": {
        "colab": {
          "base_uri": "https://localhost:8080/"
        },
        "id": "xZi9lEk1H7ax",
        "outputId": "de281a39-297a-4048-d9df-0662dae5920d"
      },
      "execution_count": 59,
      "outputs": [
        {
          "output_type": "execute_result",
          "data": {
            "text/plain": [
              "(4.203914823801915, 1.3116884558850295e-05)"
            ]
          },
          "metadata": {},
          "execution_count": 59
        }
      ]
    },
    {
      "cell_type": "markdown",
      "source": [
        "###1"
      ],
      "metadata": {
        "id": "ojhobbYKDBnF"
      }
    },
    {
      "cell_type": "markdown",
      "source": [
        "Для серии тестов скорректируем уровень значимости на количество тестов в серии: 0.004545 вместо 0.05."
      ],
      "metadata": {
        "id": "7PPNtk-0JMgR"
      }
    },
    {
      "cell_type": "code",
      "source": [
        "sign_lvl = 0.05 / 7\n",
        "sign_lvl"
      ],
      "metadata": {
        "colab": {
          "base_uri": "https://localhost:8080/"
        },
        "id": "2s0s2gflKsoA",
        "outputId": "41c7f4f3-f2d7-47cc-83b2-9290855ae6fd"
      },
      "execution_count": 45,
      "outputs": [
        {
          "output_type": "execute_result",
          "data": {
            "text/plain": [
              "0.0071428571428571435"
            ]
          },
          "metadata": {},
          "execution_count": 45
        }
      ]
    },
    {
      "cell_type": "code",
      "source": [
        "man_18 = df[(df['Gender'] == 'male') & (df['Age'] == 18)].copy()\n",
        "man_19 = df[(df['Gender'] == 'male') & (df['Age'] == 19)].copy()\n",
        "man_20 = df[(df['Gender'] == 'male') & (df['Age'] == 20)].copy()\n",
        "man_21 = df[(df['Gender'] == 'male') & (df['Age'] == 21)].copy()\n",
        "man_22 = df[(df['Gender'] == 'male') & (df['Age'] == 22)].copy()\n",
        "man_23 = df[(df['Gender'] == 'male') & (df['Age'] == 23)].copy()\n",
        "man_24 = df[(df['Gender'] == 'male') & (df['Age'] == 24)].copy()\n",
        "man_18['Profit'].mean(), man_19['Profit'].mean(), man_20['Profit'].mean(), man_21['Profit'].mean(), man_22['Profit'].mean(), man_23['Profit'].mean(), man_24['Profit'].mean()"
      ],
      "metadata": {
        "id": "owWfPuo2O9yY",
        "colab": {
          "base_uri": "https://localhost:8080/"
        },
        "outputId": "2bfed2b3-6645-4b2d-9069-fff0fa4604d6"
      },
      "execution_count": 49,
      "outputs": [
        {
          "output_type": "execute_result",
          "data": {
            "text/plain": [
              "(2096.6666666666665,\n",
              " 2040.1025641025642,\n",
              " 1919.8484848484848,\n",
              " 78856.54362416107,\n",
              " 80067.0,\n",
              " 80548.23529411765,\n",
              " 78583.69565217392)"
            ]
          },
          "metadata": {},
          "execution_count": 49
        }
      ]
    },
    {
      "cell_type": "markdown",
      "source": [
        "ищем примерно мин детект эффект с шагом 5"
      ],
      "metadata": {
        "id": "vUpo-uF1iLCO"
      }
    },
    {
      "cell_type": "code",
      "source": [
        "for effect in np.arange(0, 1000, 5):\n",
        "    if zpower_1sample_data_monte_carlo(mu0=15000, mu=15000 + effect, sigma=man_18['Profit'].std(), sample_size=len(man_18['Profit']), n_monte_carlo=1000, significance_level=sign_lvl) >= 0.8 \\\n",
        "    or zpower_1sample_data_monte_carlo(mu0=15000, mu=15000 + effect, sigma=man_19['Profit'].std(), sample_size=len(man_19['Profit']), n_monte_carlo=1000, significance_level=sign_lvl) >= 0.8 \\\n",
        "    or zpower_1sample_data_monte_carlo(mu0=15000, mu=15000 + effect, sigma=man_20['Profit'].std(), sample_size=len(man_20['Profit']), n_monte_carlo=1000, significance_level=sign_lvl) >= 0.8 \\\n",
        "    or zpower_1sample_data_monte_carlo(mu0=15000, mu=15000 + effect, sigma=man_21['Profit'].std(), sample_size=len(man_21['Profit']), n_monte_carlo=1000, significance_level=sign_lvl) >= 0.8 \\\n",
        "    or zpower_1sample_data_monte_carlo(mu0=15000, mu=15000 + effect, sigma=man_22['Profit'].std(), sample_size=len(man_22['Profit']), n_monte_carlo=1000, significance_level=sign_lvl) >= 0.8 \\\n",
        "    or zpower_1sample_data_monte_carlo(mu0=15000, mu=15000 + effect, sigma=man_23['Profit'].std(), sample_size=len(man_23['Profit']), n_monte_carlo=1000, significance_level=sign_lvl) >= 0.8 \\\n",
        "    or zpower_1sample_data_monte_carlo(mu0=15000, mu=15000 + effect, sigma=man_24['Profit'].std(), sample_size=len(man_24['Profit']), n_monte_carlo=1000, significance_level=sign_lvl) >= 0.8:\n",
        "        print('Минимально детектируемый эффект:', effect)\n",
        "        break"
      ],
      "metadata": {
        "id": "GGqHicchwSQT",
        "colab": {
          "base_uri": "https://localhost:8080/"
        },
        "outputId": "bf16e867-4c16-4b66-8df3-a8bca486f048"
      },
      "execution_count": 60,
      "outputs": [
        {
          "output_type": "stream",
          "name": "stdout",
          "text": [
            "Минимально детектируемый эффект: 190\n"
          ]
        }
      ]
    },
    {
      "cell_type": "markdown",
      "source": [
        "ищем более точно"
      ],
      "metadata": {
        "id": "MCyjjlNSiSOQ"
      }
    },
    {
      "cell_type": "code",
      "source": [
        "for effect in np.arange(185, 1000, 1):\n",
        "    if zpower_1sample_data_monte_carlo(mu0=15000, mu=15000 + effect, sigma=man_18['Profit'].std(), sample_size=len(man_18['Profit']), n_monte_carlo=1000, significance_level=sign_lvl) >= 0.8 \\\n",
        "    or zpower_1sample_data_monte_carlo(mu0=15000, mu=15000 + effect, sigma=man_19['Profit'].std(), sample_size=len(man_19['Profit']), n_monte_carlo=1000, significance_level=sign_lvl) >= 0.8 \\\n",
        "    or zpower_1sample_data_monte_carlo(mu0=15000, mu=15000 + effect, sigma=man_20['Profit'].std(), sample_size=len(man_20['Profit']), n_monte_carlo=1000, significance_level=sign_lvl) >= 0.8 \\\n",
        "    or zpower_1sample_data_monte_carlo(mu0=15000, mu=15000 + effect, sigma=man_21['Profit'].std(), sample_size=len(man_21['Profit']), n_monte_carlo=1000, significance_level=sign_lvl) >= 0.8 \\\n",
        "    or zpower_1sample_data_monte_carlo(mu0=15000, mu=15000 + effect, sigma=man_22['Profit'].std(), sample_size=len(man_22['Profit']), n_monte_carlo=1000, significance_level=sign_lvl) >= 0.8 \\\n",
        "    or zpower_1sample_data_monte_carlo(mu0=15000, mu=15000 + effect, sigma=man_23['Profit'].std(), sample_size=len(man_23['Profit']), n_monte_carlo=1000, significance_level=sign_lvl) >= 0.8 \\\n",
        "    or zpower_1sample_data_monte_carlo(mu0=15000, mu=15000 + effect, sigma=man_24['Profit'].std(), sample_size=len(man_24['Profit']), n_monte_carlo=1000, significance_level=sign_lvl) >= 0.8:\n",
        "        print('Минимально детектируемый эффект:', effect)\n",
        "        break"
      ],
      "metadata": {
        "colab": {
          "base_uri": "https://localhost:8080/"
        },
        "id": "FECyp6bkiEzB",
        "outputId": "c0787641-eb8c-41b1-b241-92a956b688d2"
      },
      "execution_count": 61,
      "outputs": [
        {
          "output_type": "stream",
          "name": "stdout",
          "text": [
            "Минимально детектируемый эффект: 193\n"
          ]
        }
      ]
    }
  ]
}